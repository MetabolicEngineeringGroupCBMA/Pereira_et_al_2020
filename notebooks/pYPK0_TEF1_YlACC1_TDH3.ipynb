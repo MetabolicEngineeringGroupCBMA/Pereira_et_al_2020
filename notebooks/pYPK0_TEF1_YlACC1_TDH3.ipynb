{
 "cells": [
  {
   "cell_type": "markdown",
   "metadata": {},
   "source": [
    "# pYPK0_TEF1_YlACC1_TDH3\n",
    "\n",
    "This notebook describes the assembly of a single gene expression vector."
   ]
  },
  {
   "cell_type": "code",
   "execution_count": 1,
   "metadata": {
    "execution": {
     "iopub.execute_input": "2021-12-18T09:49:28.788437Z",
     "iopub.status.busy": "2021-12-18T09:49:28.787745Z",
     "iopub.status.idle": "2021-12-18T09:49:29.172342Z",
     "shell.execute_reply": "2021-12-18T09:49:29.171851Z"
    },
    "tags": []
   },
   "outputs": [],
   "source": [
    "from pydna.amplify import pcr\n",
    "from pydna.assembly import Assembly\n",
    "from pydna.genbank import Genbank\n",
    "\n",
    "from pydna.readers import read\n",
    "from pydna.parsers import parse_primers"
   ]
  },
  {
   "cell_type": "markdown",
   "metadata": {},
   "source": [
    "The backbone vector [pYPKpw](pYPKpw.gb) is read from a local file in the code cell below.\n",
    "There is a notebook describing its construction [here](https://github.com/BjornFJohansson/ypk-xylose-pathways/blob/master/pYPKpw.ipynb)."
   ]
  },
  {
   "cell_type": "code",
   "execution_count": 2,
   "metadata": {
    "execution": {
     "iopub.execute_input": "2021-12-18T09:49:29.183645Z",
     "iopub.status.busy": "2021-12-18T09:49:29.178095Z",
     "iopub.status.idle": "2021-12-18T09:49:29.196398Z",
     "shell.execute_reply": "2021-12-18T09:49:29.195680Z"
    },
    "tags": []
   },
   "outputs": [],
   "source": [
    "pYPKpw = read(\"pYPKpw.gb\")"
   ]
  },
  {
   "cell_type": "code",
   "execution_count": 3,
   "metadata": {
    "execution": {
     "iopub.execute_input": "2021-12-18T09:49:29.212266Z",
     "iopub.status.busy": "2021-12-18T09:49:29.211400Z",
     "iopub.status.idle": "2021-12-18T09:49:29.215323Z",
     "shell.execute_reply": "2021-12-18T09:49:29.214873Z"
    }
   },
   "outputs": [
    {
     "data": {
      "text/plain": [
       "WeyovdMmqwA4bc9EqEwUDmbo3Lg"
      ]
     },
     "execution_count": 3,
     "metadata": {},
     "output_type": "execute_result"
    }
   ],
   "source": [
    "pYPKpw.cseguid()"
   ]
  },
  {
   "cell_type": "markdown",
   "metadata": {},
   "source": [
    "The backbone vector is linearized by digestion with [EcoRV](http://rebase.neb.com/rebase/enz/EcoRV.html).\n",
    "The restriction enzyme is provided by [biopython](http://biopython.org)."
   ]
  },
  {
   "cell_type": "code",
   "execution_count": 4,
   "metadata": {
    "execution": {
     "iopub.execute_input": "2021-12-18T09:49:29.219257Z",
     "iopub.status.busy": "2021-12-18T09:49:29.218586Z",
     "iopub.status.idle": "2021-12-18T09:49:29.220644Z",
     "shell.execute_reply": "2021-12-18T09:49:29.220258Z"
    },
    "tags": []
   },
   "outputs": [],
   "source": [
    "from Bio.Restriction import EcoRV"
   ]
  },
  {
   "cell_type": "code",
   "execution_count": 5,
   "metadata": {
    "execution": {
     "iopub.execute_input": "2021-12-18T09:49:29.226612Z",
     "iopub.status.busy": "2021-12-18T09:49:29.225983Z",
     "iopub.status.idle": "2021-12-18T09:49:29.227829Z",
     "shell.execute_reply": "2021-12-18T09:49:29.228323Z"
    },
    "tags": []
   },
   "outputs": [],
   "source": [
    "pYPK_EcoRV = pYPKpw.linearize(EcoRV)"
   ]
  },
  {
   "cell_type": "code",
   "execution_count": 6,
   "metadata": {
    "execution": {
     "iopub.execute_input": "2021-12-18T09:49:29.232422Z",
     "iopub.status.busy": "2021-12-18T09:49:29.231840Z",
     "iopub.status.idle": "2021-12-18T09:49:29.238162Z",
     "shell.execute_reply": "2021-12-18T09:49:29.237584Z"
    },
    "tags": []
   },
   "outputs": [
    {
     "data": {
      "text/plain": [
       "Dseqrecord(-5603)"
      ]
     },
     "execution_count": 6,
     "metadata": {},
     "output_type": "execute_result"
    }
   ],
   "source": [
    "pYPK_EcoRV"
   ]
  },
  {
   "cell_type": "code",
   "execution_count": 7,
   "metadata": {
    "execution": {
     "iopub.execute_input": "2021-12-18T09:49:29.242737Z",
     "iopub.status.busy": "2021-12-18T09:49:29.241795Z",
     "iopub.status.idle": "2021-12-18T09:49:29.243898Z",
     "shell.execute_reply": "2021-12-18T09:49:29.244408Z"
    }
   },
   "outputs": [],
   "source": [
    "# from pydna.genbank import genbank\n",
    "# gene_template = genbank(\"CP061014.1 REGION: 1598078..1605344\")\n",
    "# gene_template\n",
    "# gene_template.write(\"YLACC1_locus.gb\")"
   ]
  },
  {
   "cell_type": "code",
   "execution_count": 8,
   "metadata": {
    "execution": {
     "iopub.execute_input": "2021-12-18T09:49:29.255852Z",
     "iopub.status.busy": "2021-12-18T09:49:29.255231Z",
     "iopub.status.idle": "2021-12-18T09:49:29.257575Z",
     "shell.execute_reply": "2021-12-18T09:49:29.258030Z"
    },
    "tags": []
   },
   "outputs": [
    {
     "data": {
      "text/html": [
       "<a href='YLACC1_locus.gb' target='_blank'>YLACC1_locus.gb</a><br>"
      ],
      "text/plain": [
       "File(CP061014.1)(-7267)"
      ]
     },
     "execution_count": 8,
     "metadata": {},
     "output_type": "execute_result"
    }
   ],
   "source": [
    "gene_template = read(\"YLACC1_locus.gb\")\n",
    "gene_template"
   ]
  },
  {
   "cell_type": "code",
   "execution_count": 9,
   "metadata": {
    "execution": {
     "iopub.execute_input": "2021-12-18T09:49:29.263168Z",
     "iopub.status.busy": "2021-12-18T09:49:29.260923Z",
     "iopub.status.idle": "2021-12-18T09:49:29.265498Z",
     "shell.execute_reply": "2021-12-18T09:49:29.266176Z"
    },
    "tags": []
   },
   "outputs": [],
   "source": [
    "promoter_template   = read(\"pYPKa_Z_TEF1.gb\")"
   ]
  },
  {
   "cell_type": "code",
   "execution_count": 10,
   "metadata": {
    "execution": {
     "iopub.execute_input": "2021-12-18T09:49:29.275508Z",
     "iopub.status.busy": "2021-12-18T09:49:29.274632Z",
     "iopub.status.idle": "2021-12-18T09:49:29.277241Z",
     "shell.execute_reply": "2021-12-18T09:49:29.276705Z"
    },
    "tags": []
   },
   "outputs": [],
   "source": [
    "terminator_template = read(\"pYPKa_E_TDH3.gb\")"
   ]
  },
  {
   "cell_type": "code",
   "execution_count": 11,
   "metadata": {
    "execution": {
     "iopub.execute_input": "2021-12-18T09:49:29.284641Z",
     "iopub.status.busy": "2021-12-18T09:49:29.283596Z",
     "iopub.status.idle": "2021-12-18T09:49:29.286011Z",
     "shell.execute_reply": "2021-12-18T09:49:29.286518Z"
    },
    "tags": []
   },
   "outputs": [],
   "source": [
    "p = {}\n",
    "(p[577], p[567], p[781], p[505],\n",
    " p[504], p[782], p[568], p[578]) = parse_primers('''\n",
    "\n",
    ">577_crp585-557 (29-mer)\n",
    "gttctgatcctcgagcatcttaagaattc\n",
    "\n",
    ">567_pCAPsAjiIF (23-mer)\n",
    "GTCggctgcaggtcactagtgag\n",
    "\n",
    ">781_YlACC1f_YPK (63-mer)\n",
    "GCCAGGTTGCCCACTTTCTCACTAGTGACCTGCAGCCCACatgcgactgcaattgaggac\n",
    "act\n",
    "\n",
    ">505_YlACC1r_CpoI\n",
    "TCCGtcacaaccccttgagcagctca\n",
    "\n",
    ">504_YlACC1f_SgsI\n",
    "CCAAatgcgactgcaattgaggacact\n",
    "\n",
    ">782_YlACC1r_YPK (62-mer)\n",
    "TAAATCCGGATATCCTGATGCGTTTGTCTGCACAGATGACtcacaaccccttgagcagct\n",
    "ca\n",
    "\n",
    ">568_pCAPsAjiIR (22-mer)\n",
    "GTGCcatctgtgcagacaaacg\n",
    "\n",
    ">578_crp42-70 (29-mer)\n",
    "gttcttgtctcattgccacattcataagt\n",
    "\n",
    "''')"
   ]
  },
  {
   "cell_type": "code",
   "execution_count": 12,
   "metadata": {
    "execution": {
     "iopub.execute_input": "2021-12-18T09:49:29.295516Z",
     "iopub.status.busy": "2021-12-18T09:49:29.294564Z",
     "iopub.status.idle": "2021-12-18T09:49:29.301992Z",
     "shell.execute_reply": "2021-12-18T09:49:29.301165Z"
    },
    "tags": []
   },
   "outputs": [],
   "source": [
    "promoter = pcr( p[577], p[567], promoter_template)"
   ]
  },
  {
   "cell_type": "code",
   "execution_count": 13,
   "metadata": {
    "execution": {
     "iopub.execute_input": "2021-12-18T09:49:29.305670Z",
     "iopub.status.busy": "2021-12-18T09:49:29.305033Z",
     "iopub.status.idle": "2021-12-18T09:49:29.307366Z",
     "shell.execute_reply": "2021-12-18T09:49:29.307873Z"
    }
   },
   "outputs": [],
   "source": [
    "promoter.name = \"promoter\""
   ]
  },
  {
   "cell_type": "code",
   "execution_count": 14,
   "metadata": {
    "execution": {
     "iopub.execute_input": "2021-12-18T09:49:29.317213Z",
     "iopub.status.busy": "2021-12-18T09:49:29.316198Z",
     "iopub.status.idle": "2021-12-18T09:49:29.319873Z",
     "shell.execute_reply": "2021-12-18T09:49:29.319318Z"
    },
    "tags": []
   },
   "outputs": [],
   "source": [
    "gene_a = pcr( p[781], p[505], gene_template)"
   ]
  },
  {
   "cell_type": "code",
   "execution_count": 15,
   "metadata": {
    "execution": {
     "iopub.execute_input": "2021-12-18T09:49:29.323257Z",
     "iopub.status.busy": "2021-12-18T09:49:29.322772Z",
     "iopub.status.idle": "2021-12-18T09:49:29.324667Z",
     "shell.execute_reply": "2021-12-18T09:49:29.325066Z"
    }
   },
   "outputs": [],
   "source": [
    "gene_a.name = \"gene_a\""
   ]
  },
  {
   "cell_type": "code",
   "execution_count": 16,
   "metadata": {
    "execution": {
     "iopub.execute_input": "2021-12-18T09:49:29.334497Z",
     "iopub.status.busy": "2021-12-18T09:49:29.333475Z",
     "iopub.status.idle": "2021-12-18T09:49:29.336040Z",
     "shell.execute_reply": "2021-12-18T09:49:29.335629Z"
    },
    "tags": []
   },
   "outputs": [],
   "source": [
    "gene_b = pcr( p[504], p[782], gene_template)"
   ]
  },
  {
   "cell_type": "code",
   "execution_count": 17,
   "metadata": {
    "execution": {
     "iopub.execute_input": "2021-12-18T09:49:29.339599Z",
     "iopub.status.busy": "2021-12-18T09:49:29.338988Z",
     "iopub.status.idle": "2021-12-18T09:49:29.340644Z",
     "shell.execute_reply": "2021-12-18T09:49:29.341030Z"
    }
   },
   "outputs": [],
   "source": [
    "gene_b.name = \"gene_b\""
   ]
  },
  {
   "cell_type": "code",
   "execution_count": 18,
   "metadata": {
    "execution": {
     "iopub.execute_input": "2021-12-18T09:49:29.353608Z",
     "iopub.status.busy": "2021-12-18T09:49:29.353115Z",
     "iopub.status.idle": "2021-12-18T09:49:29.355195Z",
     "shell.execute_reply": "2021-12-18T09:49:29.354795Z"
    },
    "tags": []
   },
   "outputs": [],
   "source": [
    "terminator = pcr( p[568], p[578], terminator_template)"
   ]
  },
  {
   "cell_type": "code",
   "execution_count": 19,
   "metadata": {
    "execution": {
     "iopub.execute_input": "2021-12-18T09:49:29.358470Z",
     "iopub.status.busy": "2021-12-18T09:49:29.357830Z",
     "iopub.status.idle": "2021-12-18T09:49:29.360477Z",
     "shell.execute_reply": "2021-12-18T09:49:29.359885Z"
    }
   },
   "outputs": [],
   "source": [
    "terminator.name = \"terminator\""
   ]
  },
  {
   "cell_type": "markdown",
   "metadata": {},
   "source": [
    "The four linear DNA fragments are mixed and transformed\n",
    "to a _Saccharomyces cerevisiae_ ura3 mutant.\n",
    "\n",
    "The fragments assemble by _in-vivo_ [homologous recombination](http://www.ncbi.nlm.nih.gov/pubmed/2828185):"
   ]
  },
  {
   "cell_type": "code",
   "execution_count": 20,
   "metadata": {
    "collapsed": false,
    "execution": {
     "iopub.execute_input": "2021-12-18T09:49:29.374268Z",
     "iopub.status.busy": "2021-12-18T09:49:29.373416Z",
     "iopub.status.idle": "2021-12-18T09:49:30.972706Z",
     "shell.execute_reply": "2021-12-18T09:49:30.973070Z"
    },
    "jupyter": {
     "outputs_hidden": false
    },
    "tags": []
   },
   "outputs": [
    {
     "data": {
      "text/plain": [
       "Assembly\n",
       "fragments..: 5603bp 811bp 7311bp 7311bp 1038bp\n",
       "limit(bp)..: 27\n",
       "G.nodes....: 10\n",
       "algorithm..: common_sub_strings"
      ]
     },
     "execution_count": 20,
     "metadata": {},
     "output_type": "execute_result"
    }
   ],
   "source": [
    "asm1 = Assembly( (pYPK_EcoRV, promoter, gene_a, gene_b, terminator), limit=27 )\n",
    "asm1"
   ]
  },
  {
   "cell_type": "code",
   "execution_count": 21,
   "metadata": {
    "execution": {
     "iopub.execute_input": "2021-12-18T09:49:30.976672Z",
     "iopub.status.busy": "2021-12-18T09:49:30.976218Z",
     "iopub.status.idle": "2021-12-18T09:49:31.168236Z",
     "shell.execute_reply": "2021-12-18T09:49:31.167764Z"
    },
    "tags": []
   },
   "outputs": [
    {
     "data": {
      "text/plain": [
       "[Contig(o14332), Contig(o14332)]"
      ]
     },
     "execution_count": 21,
     "metadata": {},
     "output_type": "execute_result"
    }
   ],
   "source": [
    "candidates1 = asm1.assemble_circular()\n",
    "candidates1"
   ]
  },
  {
   "cell_type": "code",
   "execution_count": 22,
   "metadata": {
    "execution": {
     "iopub.execute_input": "2021-12-18T09:49:31.173549Z",
     "iopub.status.busy": "2021-12-18T09:49:31.172522Z",
     "iopub.status.idle": "2021-12-18T09:49:31.175473Z",
     "shell.execute_reply": "2021-12-18T09:49:31.174803Z"
    },
    "tags": []
   },
   "outputs": [],
   "source": [
    "candidate = candidates1[0]"
   ]
  },
  {
   "cell_type": "code",
   "execution_count": 23,
   "metadata": {
    "execution": {
     "iopub.execute_input": "2021-12-18T09:49:31.192797Z",
     "iopub.status.busy": "2021-12-18T09:49:31.182866Z",
     "iopub.status.idle": "2021-12-18T09:49:31.195332Z",
     "shell.execute_reply": "2021-12-18T09:49:31.195746Z"
    }
   },
   "outputs": [
    {
     "data": {
      "text/plain": [
       "2-kc1EJqLv4-5wC5J-d1sLNf6Xc"
      ]
     },
     "execution_count": 23,
     "metadata": {},
     "output_type": "execute_result"
    }
   ],
   "source": [
    "candidate.cseguid()"
   ]
  },
  {
   "cell_type": "code",
   "execution_count": 24,
   "metadata": {
    "execution": {
     "iopub.execute_input": "2021-12-18T09:49:31.200497Z",
     "iopub.status.busy": "2021-12-18T09:49:31.199521Z",
     "iopub.status.idle": "2021-12-18T09:49:31.203639Z",
     "shell.execute_reply": "2021-12-18T09:49:31.204359Z"
    },
    "tags": []
   },
   "outputs": [
    {
     "data": {
      "text/html": [
       "<pre> -|pYPKpw_lin|124\n",
       "|             \\/\n",
       "|             /\\\n",
       "|             124|promoter|37\n",
       "|                          \\/\n",
       "|                          /\\\n",
       "|                          37|gene_a|7267\n",
       "|                                    \\/\n",
       "|                                    /\\\n",
       "|                                    7267|gene_b|27\n",
       "|                                                \\/\n",
       "|                                                /\\\n",
       "|                                                27|terminator|242\n",
       "|                                                              \\/\n",
       "|                                                              /\\\n",
       "|                                                              242-\n",
       "|                                                                 |\n",
       " -----------------------------------------------------------------</pre>"
      ],
      "text/plain": [
       "Contig(o14332)"
      ]
     },
     "execution_count": 24,
     "metadata": {},
     "output_type": "execute_result"
    }
   ],
   "source": [
    "candidate"
   ]
  },
  {
   "cell_type": "code",
   "execution_count": 25,
   "metadata": {
    "execution": {
     "iopub.execute_input": "2021-12-18T09:49:31.221254Z",
     "iopub.status.busy": "2021-12-18T09:49:31.220804Z",
     "iopub.status.idle": "2021-12-18T09:49:31.223264Z",
     "shell.execute_reply": "2021-12-18T09:49:31.222724Z"
    },
    "tags": []
   },
   "outputs": [],
   "source": [
    "assert candidate.cseguid() == \"2-kc1EJqLv4-5wC5J-d1sLNf6Xc\""
   ]
  },
  {
   "cell_type": "code",
   "execution_count": 26,
   "metadata": {
    "execution": {
     "iopub.execute_input": "2021-12-18T09:49:31.279024Z",
     "iopub.status.busy": "2021-12-18T09:49:31.252778Z",
     "iopub.status.idle": "2021-12-18T09:49:32.011615Z",
     "shell.execute_reply": "2021-12-18T09:49:32.011107Z"
    },
    "tags": []
   },
   "outputs": [],
   "source": [
    "pYPK0_TEF1_YlACC1_TDH3 = candidate.synced(pYPKpw)"
   ]
  },
  {
   "cell_type": "code",
   "execution_count": 27,
   "metadata": {
    "execution": {
     "iopub.execute_input": "2021-12-18T09:49:32.015697Z",
     "iopub.status.busy": "2021-12-18T09:49:32.014700Z",
     "iopub.status.idle": "2021-12-18T09:49:32.017278Z",
     "shell.execute_reply": "2021-12-18T09:49:32.017923Z"
    },
    "tags": []
   },
   "outputs": [],
   "source": [
    "pYPK0_TEF1_YlACC1_TDH3.description = \"π16\""
   ]
  },
  {
   "cell_type": "code",
   "execution_count": 28,
   "metadata": {
    "execution": {
     "iopub.execute_input": "2021-12-18T09:49:32.031885Z",
     "iopub.status.busy": "2021-12-18T09:49:32.031154Z",
     "iopub.status.idle": "2021-12-18T09:49:32.040578Z",
     "shell.execute_reply": "2021-12-18T09:49:32.040174Z"
    },
    "tags": []
   },
   "outputs": [
    {
     "data": {
      "text/plain": [
       "cSEGUID_2-kc1EJqLv4-5wC5J-d1sLNf6Xc"
      ]
     },
     "execution_count": 28,
     "metadata": {},
     "output_type": "execute_result"
    }
   ],
   "source": [
    "pYPK0_TEF1_YlACC1_TDH3.stamp()"
   ]
  },
  {
   "cell_type": "code",
   "execution_count": 29,
   "metadata": {
    "execution": {
     "iopub.execute_input": "2021-12-18T09:49:32.044355Z",
     "iopub.status.busy": "2021-12-18T09:49:32.043828Z",
     "iopub.status.idle": "2021-12-18T09:49:32.045861Z",
     "shell.execute_reply": "2021-12-18T09:49:32.045476Z"
    },
    "tags": []
   },
   "outputs": [],
   "source": [
    "pYPK0_TEF1_YlACC1_TDH3.name = \"pYPK0_TEF1_YlACC1_TDH3\""
   ]
  },
  {
   "cell_type": "code",
   "execution_count": 30,
   "metadata": {
    "execution": {
     "iopub.execute_input": "2021-12-18T09:49:32.051007Z",
     "iopub.status.busy": "2021-12-18T09:49:32.050012Z",
     "iopub.status.idle": "2021-12-18T09:49:32.069395Z",
     "shell.execute_reply": "2021-12-18T09:49:32.068926Z"
    },
    "tags": []
   },
   "outputs": [
    {
     "data": {
      "text/html": [
       "<font face=monospace><a href='pYPK0_TEF1_YlACC1_TDH3.gb' target='_blank'>pYPK0_TEF1_YlACC1_TDH3.gb</a></font><br>"
      ]
     },
     "metadata": {},
     "output_type": "display_data"
    }
   ],
   "source": [
    "pYPK0_TEF1_YlACC1_TDH3.write(\"pYPK0_TEF1_YlACC1_TDH3.gb\")"
   ]
  }
 ],
 "metadata": {
  "anaconda-cloud": {},
  "kernelspec": {
   "display_name": "Python [conda env:bjorn39]",
   "language": "python",
   "name": "conda-env-bjorn39-py"
  },
  "language_info": {
   "codemirror_mode": {
    "name": "ipython",
    "version": 3
   },
   "file_extension": ".py",
   "mimetype": "text/x-python",
   "name": "python",
   "nbconvert_exporter": "python",
   "pygments_lexer": "ipython3",
   "version": "3.9.7"
  }
 },
 "nbformat": 4,
 "nbformat_minor": 4
}
