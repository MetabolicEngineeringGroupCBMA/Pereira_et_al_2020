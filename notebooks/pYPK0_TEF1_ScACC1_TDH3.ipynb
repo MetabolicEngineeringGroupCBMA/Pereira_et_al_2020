{
 "cells": [
  {
   "cell_type": "markdown",
   "metadata": {},
   "source": [
    "# pYPK0_TEF1_ScACC1_TDH3\n",
    "\n",
    "This notebook describes the assembly of a single gene expression vector."
   ]
  },
  {
   "cell_type": "code",
   "execution_count": 1,
   "metadata": {
    "execution": {
     "iopub.execute_input": "2021-12-18T09:49:17.714757Z",
     "iopub.status.busy": "2021-12-18T09:49:17.714143Z",
     "iopub.status.idle": "2021-12-18T09:49:18.088570Z",
     "shell.execute_reply": "2021-12-18T09:49:18.088934Z"
    },
    "tags": []
   },
   "outputs": [],
   "source": [
    "from pydna.amplify import pcr\n",
    "from pydna.assembly import Assembly\n",
    "from pydna.genbank import Genbank\n",
    "\n",
    "from pydna.readers import read\n",
    "from pydna.parsers import parse_primers"
   ]
  },
  {
   "cell_type": "markdown",
   "metadata": {},
   "source": [
    "The backbone vector [pYPKpw](pYPKpw.gb) is read from a local file in the code cell below.\n",
    "There is a notebook describing its construction [here](https://github.com/MetabolicEngineeringGroupCBMA/ypk-xylose-pathways/blob/master/notebooks/pYPKpw.ipynb)."
   ]
  },
  {
   "cell_type": "code",
   "execution_count": 2,
   "metadata": {
    "execution": {
     "iopub.execute_input": "2021-12-18T09:49:18.098357Z",
     "iopub.status.busy": "2021-12-18T09:49:18.097717Z",
     "iopub.status.idle": "2021-12-18T09:49:18.109571Z",
     "shell.execute_reply": "2021-12-18T09:49:18.109027Z"
    },
    "tags": []
   },
   "outputs": [],
   "source": [
    "pYPKpw = read(\"pYPKpw.gb\")"
   ]
  },
  {
   "cell_type": "code",
   "execution_count": 3,
   "metadata": {
    "execution": {
     "iopub.execute_input": "2021-12-18T09:49:18.124603Z",
     "iopub.status.busy": "2021-12-18T09:49:18.123910Z",
     "iopub.status.idle": "2021-12-18T09:49:18.126826Z",
     "shell.execute_reply": "2021-12-18T09:49:18.126449Z"
    }
   },
   "outputs": [
    {
     "data": {
      "text/plain": [
       "WeyovdMmqwA4bc9EqEwUDmbo3Lg"
      ]
     },
     "execution_count": 3,
     "metadata": {},
     "output_type": "execute_result"
    }
   ],
   "source": [
    "pYPKpw.cseguid()"
   ]
  },
  {
   "cell_type": "code",
   "execution_count": 4,
   "metadata": {
    "execution": {
     "iopub.execute_input": "2021-12-18T09:49:18.130491Z",
     "iopub.status.busy": "2021-12-18T09:49:18.129839Z",
     "iopub.status.idle": "2021-12-18T09:49:18.132997Z",
     "shell.execute_reply": "2021-12-18T09:49:18.132373Z"
    }
   },
   "outputs": [
    {
     "data": {
      "text/plain": [
       "5603"
      ]
     },
     "execution_count": 4,
     "metadata": {},
     "output_type": "execute_result"
    }
   ],
   "source": [
    "len(pYPKpw)"
   ]
  },
  {
   "cell_type": "markdown",
   "metadata": {},
   "source": [
    "The backbone vector is linearized by digestion with [EcoRV](http://rebase.neb.com/rebase/enz/EcoRV.html).\n",
    "The restriction enzyme is provided by [biopython](http://biopython.org)."
   ]
  },
  {
   "cell_type": "code",
   "execution_count": 5,
   "metadata": {
    "execution": {
     "iopub.execute_input": "2021-12-18T09:49:18.138285Z",
     "iopub.status.busy": "2021-12-18T09:49:18.137539Z",
     "iopub.status.idle": "2021-12-18T09:49:18.140139Z",
     "shell.execute_reply": "2021-12-18T09:49:18.139596Z"
    },
    "tags": []
   },
   "outputs": [],
   "source": [
    "from Bio.Restriction import EcoRV"
   ]
  },
  {
   "cell_type": "code",
   "execution_count": 6,
   "metadata": {
    "execution": {
     "iopub.execute_input": "2021-12-18T09:49:18.147838Z",
     "iopub.status.busy": "2021-12-18T09:49:18.146927Z",
     "iopub.status.idle": "2021-12-18T09:49:18.149092Z",
     "shell.execute_reply": "2021-12-18T09:49:18.149604Z"
    },
    "tags": []
   },
   "outputs": [],
   "source": [
    "pYPK_EcoRV = pYPKpw.linearize(EcoRV)"
   ]
  },
  {
   "cell_type": "code",
   "execution_count": 7,
   "metadata": {
    "execution": {
     "iopub.execute_input": "2021-12-18T09:49:18.154774Z",
     "iopub.status.busy": "2021-12-18T09:49:18.153830Z",
     "iopub.status.idle": "2021-12-18T09:49:18.157479Z",
     "shell.execute_reply": "2021-12-18T09:49:18.156964Z"
    },
    "tags": []
   },
   "outputs": [
    {
     "data": {
      "text/plain": [
       "Dseqrecord(-5603)"
      ]
     },
     "execution_count": 7,
     "metadata": {},
     "output_type": "execute_result"
    }
   ],
   "source": [
    "pYPK_EcoRV"
   ]
  },
  {
   "cell_type": "markdown",
   "metadata": {},
   "source": [
    "The pYPKa derived _E. coli_ plasmids containing the [promoter](pYPKa_Z_TEF1.gb) and [terminator](pYPKa_E_TDH3.gb) \n",
    "as well as the [gene template](ScACC1_locus.gb) sequence are read into three variables in the code cell below."
   ]
  },
  {
   "cell_type": "code",
   "execution_count": 8,
   "metadata": {
    "execution": {
     "iopub.execute_input": "2021-12-18T09:49:18.164093Z",
     "iopub.status.busy": "2021-12-18T09:49:18.161129Z",
     "iopub.status.idle": "2021-12-18T09:49:18.172979Z",
     "shell.execute_reply": "2021-12-18T09:49:18.172524Z"
    },
    "tags": []
   },
   "outputs": [],
   "source": [
    "promoter_template   = read(\"pYPKa_Z_TEF1.gb\")\n",
    "gene_template       = read(\"ScACC1_locus.gb\")\n",
    "terminator_template = read(\"pYPKa_E_TDH3.gb\")"
   ]
  },
  {
   "cell_type": "markdown",
   "metadata": {},
   "source": [
    "Construction of the promoter and terminator vectors above are described in these notebooks:\n",
    "\n",
    "- [pYPKa_Z_TEF1](https://github.com/MetabolicEngineeringGroupCBMA/ypk-xylose-pathways/blob/master/notebooks/pYPKa_Z_TEF1.ipynb). \n",
    "- [pYPKa_E_TDH3](https://github.com/MetabolicEngineeringGroupCBMA/ypk-xylose-pathways/blob/master/notebooks/pYPKa_E_TDH3.ipynb)\n",
    "\n"
   ]
  },
  {
   "cell_type": "code",
   "execution_count": 9,
   "metadata": {
    "execution": {
     "iopub.execute_input": "2021-12-18T09:49:18.179696Z",
     "iopub.status.busy": "2021-12-18T09:49:18.178399Z",
     "iopub.status.idle": "2021-12-18T09:49:18.182278Z",
     "shell.execute_reply": "2021-12-18T09:49:18.181418Z"
    },
    "tags": []
   },
   "outputs": [],
   "source": [
    "p = {}\n",
    "\n",
    "(p[577], p[567], p[1258], p[1257], p[568], \n",
    " p[578], p[468], p[1259], p[1260], p[467]) = parse_primers('''\n",
    "\n",
    ">577_crp585-557 (29-mer)\n",
    "gttctgatcctcgagcatcttaagaattc\n",
    "\n",
    ">567_pCAPsAjiIF (23-mer)\n",
    "GTCggctgcaggtcactagtgag\n",
    "\n",
    ">1258_ScACC1_fw\n",
    "cccactttctcactagtgacctgcagccgacaaATGAGCGAAGAAAGCT\n",
    "\n",
    ">1257_ScACC1_rv\n",
    "aaatcctgatgcgtttgtctgcacagatggcacTTATTTCAAAGTCTTCAACAAT\n",
    "\n",
    ">568_pCAPsAjiIR (22-mer)\n",
    "GTGCcatctgtgcagacaaacg\n",
    "\n",
    ">578_crp42-70 (29-mer)\n",
    "gttcttgtctcattgccacattcataagt\n",
    "\n",
    ">468_pCAPs_release_fw (25-mer) 79.66 same as 560\n",
    "gtcgaggaacgccaggttgcccact\n",
    "\n",
    ">1259_ScACC1middleRV\n",
    "CCTTCGTGAACTCTAATATCTCC\n",
    "\n",
    ">1260_ScACC1middleFW\n",
    "GCTCAAGTCTATATTCGTCG\n",
    "\n",
    ">467_pCAPs_release_re (31-mer)\n",
    "ATTTAAatcctgatgcgtttgtctgcacaga\n",
    "\n",
    "''')"
   ]
  },
  {
   "cell_type": "code",
   "execution_count": 10,
   "metadata": {
    "execution": {
     "iopub.execute_input": "2021-12-18T09:49:18.191257Z",
     "iopub.status.busy": "2021-12-18T09:49:18.190346Z",
     "iopub.status.idle": "2021-12-18T09:49:18.200151Z",
     "shell.execute_reply": "2021-12-18T09:49:18.199571Z"
    },
    "tags": []
   },
   "outputs": [],
   "source": [
    "promoter = pcr( p[577], p[567], promoter_template)"
   ]
  },
  {
   "cell_type": "code",
   "execution_count": 11,
   "metadata": {
    "execution": {
     "iopub.execute_input": "2021-12-18T09:49:18.204327Z",
     "iopub.status.busy": "2021-12-18T09:49:18.203746Z",
     "iopub.status.idle": "2021-12-18T09:49:18.205542Z",
     "shell.execute_reply": "2021-12-18T09:49:18.205930Z"
    },
    "tags": []
   },
   "outputs": [],
   "source": [
    "promoter.name = \"TEF1p\""
   ]
  },
  {
   "cell_type": "code",
   "execution_count": 12,
   "metadata": {
    "execution": {
     "iopub.execute_input": "2021-12-18T09:49:18.212837Z",
     "iopub.status.busy": "2021-12-18T09:49:18.212286Z",
     "iopub.status.idle": "2021-12-18T09:49:18.214366Z",
     "shell.execute_reply": "2021-12-18T09:49:18.214839Z"
    },
    "tags": []
   },
   "outputs": [],
   "source": [
    "gene = pcr( p[1258], p[1257], gene_template)"
   ]
  },
  {
   "cell_type": "code",
   "execution_count": 13,
   "metadata": {
    "execution": {
     "iopub.execute_input": "2021-12-18T09:49:18.226133Z",
     "iopub.status.busy": "2021-12-18T09:49:18.225618Z",
     "iopub.status.idle": "2021-12-18T09:49:18.227810Z",
     "shell.execute_reply": "2021-12-18T09:49:18.227350Z"
    },
    "tags": []
   },
   "outputs": [],
   "source": [
    "terminator = pcr( p[568], p[578], terminator_template)"
   ]
  },
  {
   "cell_type": "code",
   "execution_count": 14,
   "metadata": {
    "execution": {
     "iopub.execute_input": "2021-12-18T09:49:18.231188Z",
     "iopub.status.busy": "2021-12-18T09:49:18.230675Z",
     "iopub.status.idle": "2021-12-18T09:49:18.232579Z",
     "shell.execute_reply": "2021-12-18T09:49:18.233032Z"
    },
    "tags": []
   },
   "outputs": [],
   "source": [
    "terminator.name = \"TDH3t\""
   ]
  },
  {
   "cell_type": "markdown",
   "metadata": {},
   "source": [
    "The four linear DNA fragments are mixed and transformed\n",
    "to a _Saccharomyces cerevisiae_ ura3 mutant.\n",
    "\n",
    "The fragments assemble by _in-vivo_ [homologous recombination](http://www.ncbi.nlm.nih.gov/pubmed/2828185):"
   ]
  },
  {
   "cell_type": "code",
   "execution_count": 15,
   "metadata": {
    "collapsed": false,
    "execution": {
     "iopub.execute_input": "2021-12-18T09:49:18.265984Z",
     "iopub.status.busy": "2021-12-18T09:49:18.245711Z",
     "iopub.status.idle": "2021-12-18T09:49:19.134510Z",
     "shell.execute_reply": "2021-12-18T09:49:19.134866Z"
    },
    "jupyter": {
     "outputs_hidden": false
    },
    "tags": []
   },
   "outputs": [
    {
     "data": {
      "text/plain": [
       "Assembly\n",
       "fragments..: 5603bp 811bp 6768bp 1038bp\n",
       "limit(bp)..: 31\n",
       "G.nodes....: 8\n",
       "algorithm..: common_sub_strings"
      ]
     },
     "execution_count": 15,
     "metadata": {},
     "output_type": "execute_result"
    }
   ],
   "source": [
    "asm1 = Assembly( (pYPK_EcoRV, promoter, gene, terminator), limit=31 )\n",
    "asm1"
   ]
  },
  {
   "cell_type": "code",
   "execution_count": 16,
   "metadata": {
    "execution": {
     "iopub.execute_input": "2021-12-18T09:49:19.138922Z",
     "iopub.status.busy": "2021-12-18T09:49:19.138244Z",
     "iopub.status.idle": "2021-12-18T09:49:19.329099Z",
     "shell.execute_reply": "2021-12-18T09:49:19.328691Z"
    },
    "tags": []
   },
   "outputs": [
    {
     "data": {
      "text/plain": [
       "[Contig(o13771), Contig(o13771)]"
      ]
     },
     "execution_count": 16,
     "metadata": {},
     "output_type": "execute_result"
    }
   ],
   "source": [
    "candidates = asm1.assemble_circular()\n",
    "candidates"
   ]
  },
  {
   "cell_type": "code",
   "execution_count": 17,
   "metadata": {
    "execution": {
     "iopub.execute_input": "2021-12-18T09:49:19.332685Z",
     "iopub.status.busy": "2021-12-18T09:49:19.332066Z",
     "iopub.status.idle": "2021-12-18T09:49:19.334122Z",
     "shell.execute_reply": "2021-12-18T09:49:19.333698Z"
    },
    "tags": []
   },
   "outputs": [],
   "source": [
    "candidate = candidates[0]"
   ]
  },
  {
   "cell_type": "code",
   "execution_count": 18,
   "metadata": {
    "execution": {
     "iopub.execute_input": "2021-12-18T09:49:19.351546Z",
     "iopub.status.busy": "2021-12-18T09:49:19.346562Z",
     "iopub.status.idle": "2021-12-18T09:49:19.353783Z",
     "shell.execute_reply": "2021-12-18T09:49:19.354155Z"
    },
    "tags": []
   },
   "outputs": [
    {
     "data": {
      "text/plain": [
       "s9br0RiCVJw6SWDXSmxOjQBNG0M"
      ]
     },
     "execution_count": 18,
     "metadata": {},
     "output_type": "execute_result"
    }
   ],
   "source": [
    "candidate.cseguid()"
   ]
  },
  {
   "cell_type": "code",
   "execution_count": 19,
   "metadata": {
    "execution": {
     "iopub.execute_input": "2021-12-18T09:49:19.358514Z",
     "iopub.status.busy": "2021-12-18T09:49:19.357847Z",
     "iopub.status.idle": "2021-12-18T09:49:19.360649Z",
     "shell.execute_reply": "2021-12-18T09:49:19.360273Z"
    },
    "tags": []
   },
   "outputs": [
    {
     "data": {
      "text/html": [
       "<pre> -|pYPKpw_lin|124\n",
       "|             \\/\n",
       "|             /\\\n",
       "|             124|TEF1p|31\n",
       "|                       \\/\n",
       "|                       /\\\n",
       "|                       31|ScACC1|33\n",
       "|                                 \\/\n",
       "|                                 /\\\n",
       "|                                 33|TDH3t|242\n",
       "|                                          \\/\n",
       "|                                          /\\\n",
       "|                                          242-\n",
       "|                                             |\n",
       " ---------------------------------------------</pre>"
      ],
      "text/plain": [
       "Contig(o13771)"
      ]
     },
     "execution_count": 19,
     "metadata": {},
     "output_type": "execute_result"
    }
   ],
   "source": [
    "candidate"
   ]
  },
  {
   "cell_type": "code",
   "execution_count": 20,
   "metadata": {
    "execution": {
     "iopub.execute_input": "2021-12-18T09:49:19.434846Z",
     "iopub.status.busy": "2021-12-18T09:49:19.398906Z",
     "iopub.status.idle": "2021-12-18T09:49:20.115508Z",
     "shell.execute_reply": "2021-12-18T09:49:20.116117Z"
    },
    "tags": []
   },
   "outputs": [],
   "source": [
    "pYPK0_TEF1_ScACC1_TDH3 = candidate.synced(pYPKpw)"
   ]
  },
  {
   "cell_type": "code",
   "execution_count": 21,
   "metadata": {
    "execution": {
     "iopub.execute_input": "2021-12-18T09:49:20.128621Z",
     "iopub.status.busy": "2021-12-18T09:49:20.123319Z",
     "iopub.status.idle": "2021-12-18T09:49:20.131159Z",
     "shell.execute_reply": "2021-12-18T09:49:20.131566Z"
    },
    "tags": []
   },
   "outputs": [],
   "source": [
    "assert pYPK0_TEF1_ScACC1_TDH3.cseguid() == \"s9br0RiCVJw6SWDXSmxOjQBNG0M\""
   ]
  },
  {
   "cell_type": "markdown",
   "metadata": {},
   "source": [
    "The final construct was amplified from the first vector:"
   ]
  },
  {
   "cell_type": "code",
   "execution_count": 22,
   "metadata": {
    "execution": {
     "iopub.execute_input": "2021-12-18T09:49:20.150162Z",
     "iopub.status.busy": "2021-12-18T09:49:20.149554Z",
     "iopub.status.idle": "2021-12-18T09:49:20.151812Z",
     "shell.execute_reply": "2021-12-18T09:49:20.151346Z"
    },
    "tags": []
   },
   "outputs": [],
   "source": [
    "gene_a = pcr(p[468], p[1259], pYPK0_TEF1_ScACC1_TDH3)"
   ]
  },
  {
   "cell_type": "code",
   "execution_count": 23,
   "metadata": {
    "execution": {
     "iopub.execute_input": "2021-12-18T09:49:20.166299Z",
     "iopub.status.busy": "2021-12-18T09:49:20.165807Z",
     "iopub.status.idle": "2021-12-18T09:49:20.167694Z",
     "shell.execute_reply": "2021-12-18T09:49:20.168119Z"
    },
    "tags": []
   },
   "outputs": [],
   "source": [
    "gene_b = pcr(p[1260], p[467], pYPK0_TEF1_ScACC1_TDH3)"
   ]
  },
  {
   "cell_type": "code",
   "execution_count": 24,
   "metadata": {
    "execution": {
     "iopub.execute_input": "2021-12-18T09:49:20.210951Z",
     "iopub.status.busy": "2021-12-18T09:49:20.205817Z",
     "iopub.status.idle": "2021-12-18T09:49:21.217726Z",
     "shell.execute_reply": "2021-12-18T09:49:21.217194Z"
    },
    "tags": []
   },
   "outputs": [
    {
     "data": {
      "text/plain": [
       "Assembly\n",
       "fragments..: 5603bp 811bp 3420bp 3436bp 1038bp\n",
       "limit(bp)..: 25\n",
       "G.nodes....: 10\n",
       "algorithm..: common_sub_strings"
      ]
     },
     "execution_count": 24,
     "metadata": {},
     "output_type": "execute_result"
    }
   ],
   "source": [
    "asm2 = Assembly((pYPK_EcoRV, promoter, gene_a, gene_b, terminator))\n",
    "asm2"
   ]
  },
  {
   "cell_type": "code",
   "execution_count": 25,
   "metadata": {
    "execution": {
     "iopub.execute_input": "2021-12-18T09:49:21.227747Z",
     "iopub.status.busy": "2021-12-18T09:49:21.225184Z",
     "iopub.status.idle": "2021-12-18T09:49:21.231486Z",
     "shell.execute_reply": "2021-12-18T09:49:21.231022Z"
    },
    "tags": []
   },
   "outputs": [
    {
     "data": {
      "text/plain": [
       "[Contig(o13771), Contig(o13771)]"
      ]
     },
     "execution_count": 25,
     "metadata": {},
     "output_type": "execute_result"
    }
   ],
   "source": [
    "candidates2 = asm2.assemble_circular()\n",
    "candidates2"
   ]
  },
  {
   "cell_type": "code",
   "execution_count": 26,
   "metadata": {
    "execution": {
     "iopub.execute_input": "2021-12-18T09:49:21.234839Z",
     "iopub.status.busy": "2021-12-18T09:49:21.234343Z",
     "iopub.status.idle": "2021-12-18T09:49:21.236099Z",
     "shell.execute_reply": "2021-12-18T09:49:21.236509Z"
    },
    "tags": []
   },
   "outputs": [],
   "source": [
    "candidate2 = candidates2[0]"
   ]
  },
  {
   "cell_type": "code",
   "execution_count": 27,
   "metadata": {
    "execution": {
     "iopub.execute_input": "2021-12-18T09:49:21.252180Z",
     "iopub.status.busy": "2021-12-18T09:49:21.243922Z",
     "iopub.status.idle": "2021-12-18T09:49:21.254596Z",
     "shell.execute_reply": "2021-12-18T09:49:21.255039Z"
    }
   },
   "outputs": [
    {
     "data": {
      "text/plain": [
       "s9br0RiCVJw6SWDXSmxOjQBNG0M"
      ]
     },
     "execution_count": 27,
     "metadata": {},
     "output_type": "execute_result"
    }
   ],
   "source": [
    "candidate2.cseguid()"
   ]
  },
  {
   "cell_type": "code",
   "execution_count": 28,
   "metadata": {
    "execution": {
     "iopub.execute_input": "2021-12-18T09:49:21.287902Z",
     "iopub.status.busy": "2021-12-18T09:49:21.262450Z",
     "iopub.status.idle": "2021-12-18T09:49:22.006959Z",
     "shell.execute_reply": "2021-12-18T09:49:22.007378Z"
    },
    "tags": []
   },
   "outputs": [],
   "source": [
    "pYPK0_TEF1_ScACC1_TDH3b = candidate2.synced(pYPKpw)"
   ]
  },
  {
   "cell_type": "code",
   "execution_count": 29,
   "metadata": {
    "execution": {
     "iopub.execute_input": "2021-12-18T09:49:22.024535Z",
     "iopub.status.busy": "2021-12-18T09:49:22.023990Z",
     "iopub.status.idle": "2021-12-18T09:49:22.026254Z",
     "shell.execute_reply": "2021-12-18T09:49:22.026679Z"
    },
    "tags": []
   },
   "outputs": [
    {
     "data": {
      "text/plain": [
       "cSEGUID_s9br0RiCVJw6SWDXSmxOjQBNG0M"
      ]
     },
     "execution_count": 29,
     "metadata": {},
     "output_type": "execute_result"
    }
   ],
   "source": [
    "pYPK0_TEF1_ScACC1_TDH3b.stamp()"
   ]
  },
  {
   "cell_type": "code",
   "execution_count": 30,
   "metadata": {
    "execution": {
     "iopub.execute_input": "2021-12-18T09:49:22.043034Z",
     "iopub.status.busy": "2021-12-18T09:49:22.042491Z",
     "iopub.status.idle": "2021-12-18T09:49:22.044357Z",
     "shell.execute_reply": "2021-12-18T09:49:22.044791Z"
    },
    "tags": []
   },
   "outputs": [],
   "source": [
    "assert pYPK0_TEF1_ScACC1_TDH3b.cseguid() == \"s9br0RiCVJw6SWDXSmxOjQBNG0M\""
   ]
  },
  {
   "cell_type": "code",
   "execution_count": 31,
   "metadata": {
    "execution": {
     "iopub.execute_input": "2021-12-18T09:49:22.048481Z",
     "iopub.status.busy": "2021-12-18T09:49:22.047896Z",
     "iopub.status.idle": "2021-12-18T09:49:22.051367Z",
     "shell.execute_reply": "2021-12-18T09:49:22.050604Z"
    },
    "tags": []
   },
   "outputs": [],
   "source": [
    "pYPK0_TEF1_ScACC1_TDH3b.description = \"π11\""
   ]
  },
  {
   "cell_type": "code",
   "execution_count": 32,
   "metadata": {
    "execution": {
     "iopub.execute_input": "2021-12-18T09:49:22.056194Z",
     "iopub.status.busy": "2021-12-18T09:49:22.055456Z",
     "iopub.status.idle": "2021-12-18T09:49:22.058691Z",
     "shell.execute_reply": "2021-12-18T09:49:22.058059Z"
    },
    "tags": []
   },
   "outputs": [],
   "source": [
    "pYPK0_TEF1_ScACC1_TDH3b.name = \"pYPK0_TEF1_ScACC1_TDH3\""
   ]
  },
  {
   "cell_type": "code",
   "execution_count": 33,
   "metadata": {
    "execution": {
     "iopub.execute_input": "2021-12-18T09:49:22.064160Z",
     "iopub.status.busy": "2021-12-18T09:49:22.063062Z",
     "iopub.status.idle": "2021-12-18T09:49:22.080313Z",
     "shell.execute_reply": "2021-12-18T09:49:22.079937Z"
    },
    "tags": []
   },
   "outputs": [
    {
     "data": {
      "text/html": [
       "<font face=monospace><a href='pYPK0_TEF1_ScACC1_TDH3.gb' target='_blank'>pYPK0_TEF1_ScACC1_TDH3.gb</a></font><br>"
      ]
     },
     "metadata": {},
     "output_type": "display_data"
    }
   ],
   "source": [
    "pYPK0_TEF1_ScACC1_TDH3b.write(\"pYPK0_TEF1_ScACC1_TDH3.gb\")"
   ]
  },
  {
   "cell_type": "code",
   "execution_count": 34,
   "metadata": {
    "execution": {
     "iopub.execute_input": "2021-12-18T09:49:22.083762Z",
     "iopub.status.busy": "2021-12-18T09:49:22.083151Z",
     "iopub.status.idle": "2021-12-18T09:49:22.084818Z",
     "shell.execute_reply": "2021-12-18T09:49:22.085174Z"
    }
   },
   "outputs": [],
   "source": [
    "# from pydna.editor import ape\n",
    "# ape(pYPK0_TEF1_ScACC1_TDH3b)"
   ]
  },
  {
   "cell_type": "markdown",
   "metadata": {},
   "source": [
    "An E. coli clone of was stored at -80°C as µ471 "
   ]
  }
 ],
 "metadata": {
  "anaconda-cloud": {},
  "kernelspec": {
   "display_name": "Python [conda env:bjorn39]",
   "language": "python",
   "name": "conda-env-bjorn39-py"
  },
  "language_info": {
   "codemirror_mode": {
    "name": "ipython",
    "version": 3
   },
   "file_extension": ".py",
   "mimetype": "text/x-python",
   "name": "python",
   "nbconvert_exporter": "python",
   "pygments_lexer": "ipython3",
   "version": "3.9.7"
  }
 },
 "nbformat": 4,
 "nbformat_minor": 4
}
