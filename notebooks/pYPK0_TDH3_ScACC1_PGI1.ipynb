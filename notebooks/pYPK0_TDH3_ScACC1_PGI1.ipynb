{
 "cells": [
  {
   "cell_type": "markdown",
   "id": "9787a5bd-0e52-442e-8638-b2c0728c5e49",
   "metadata": {},
   "source": [
    "# pYPK0_TDH3_ScACC1_PGI1\n",
    "\n",
    "This notebook describes the assembly of a single gene expression vector."
   ]
  },
  {
   "cell_type": "code",
   "execution_count": 1,
   "id": "608b21e8-f7d1-4222-8767-1c2c10cace53",
   "metadata": {
    "execution": {
     "iopub.execute_input": "2021-12-18T09:49:04.821912Z",
     "iopub.status.busy": "2021-12-18T09:49:04.821178Z",
     "iopub.status.idle": "2021-12-18T09:49:05.224777Z",
     "shell.execute_reply": "2021-12-18T09:49:05.224287Z"
    }
   },
   "outputs": [],
   "source": [
    "from pydna.amplify import pcr\n",
    "from pydna.assembly import Assembly\n",
    "\n",
    "from pydna.readers import read\n",
    "from pydna.parsers import parse_primers"
   ]
  },
  {
   "cell_type": "markdown",
   "id": "a321f590-d6c2-4cf1-99c7-072ab6c20cc6",
   "metadata": {},
   "source": [
    "The backbone vector [pYPKpw](pYPKpw.gb) is read from a local file in the code cell below.\n",
    "There is a notebook describing its construction [here](https://github.com/MetabolicEngineeringGroupCBMA/ypk-xylose-pathways/blob/master/notebooks/pYPKpw.ipynb)."
   ]
  },
  {
   "cell_type": "code",
   "execution_count": 2,
   "id": "39a79c99",
   "metadata": {
    "execution": {
     "iopub.execute_input": "2021-12-18T09:49:05.234094Z",
     "iopub.status.busy": "2021-12-18T09:49:05.232779Z",
     "iopub.status.idle": "2021-12-18T09:49:05.247558Z",
     "shell.execute_reply": "2021-12-18T09:49:05.247119Z"
    },
    "lines_to_next_cell": 2
   },
   "outputs": [],
   "source": [
    "pYPKpw = read(\"pYPKpw.gb\")"
   ]
  },
  {
   "cell_type": "code",
   "execution_count": 3,
   "id": "a094c2d4",
   "metadata": {
    "execution": {
     "iopub.execute_input": "2021-12-18T09:49:05.260070Z",
     "iopub.status.busy": "2021-12-18T09:49:05.259502Z",
     "iopub.status.idle": "2021-12-18T09:49:05.262441Z",
     "shell.execute_reply": "2021-12-18T09:49:05.262053Z"
    },
    "lines_to_next_cell": 2
   },
   "outputs": [
    {
     "data": {
      "text/plain": [
       "WeyovdMmqwA4bc9EqEwUDmbo3Lg"
      ]
     },
     "execution_count": 3,
     "metadata": {},
     "output_type": "execute_result"
    }
   ],
   "source": [
    "pYPKpw.cseguid()"
   ]
  },
  {
   "cell_type": "code",
   "execution_count": 4,
   "id": "ab2f58ff",
   "metadata": {
    "execution": {
     "iopub.execute_input": "2021-12-18T09:49:05.266255Z",
     "iopub.status.busy": "2021-12-18T09:49:05.265600Z",
     "iopub.status.idle": "2021-12-18T09:49:05.268301Z",
     "shell.execute_reply": "2021-12-18T09:49:05.268665Z"
    },
    "lines_to_next_cell": 2
   },
   "outputs": [
    {
     "data": {
      "text/plain": [
       "5603"
      ]
     },
     "execution_count": 4,
     "metadata": {},
     "output_type": "execute_result"
    }
   ],
   "source": [
    "len(pYPKpw)"
   ]
  },
  {
   "cell_type": "code",
   "execution_count": 5,
   "id": "ebd39199",
   "metadata": {
    "execution": {
     "iopub.execute_input": "2021-12-18T09:49:05.272921Z",
     "iopub.status.busy": "2021-12-18T09:49:05.272190Z",
     "iopub.status.idle": "2021-12-18T09:49:05.274335Z",
     "shell.execute_reply": "2021-12-18T09:49:05.274847Z"
    },
    "lines_to_next_cell": 2
   },
   "outputs": [],
   "source": [
    "from Bio.Restriction import EcoRV"
   ]
  },
  {
   "cell_type": "code",
   "execution_count": 6,
   "id": "fc3e67ea",
   "metadata": {
    "execution": {
     "iopub.execute_input": "2021-12-18T09:49:05.282557Z",
     "iopub.status.busy": "2021-12-18T09:49:05.281632Z",
     "iopub.status.idle": "2021-12-18T09:49:05.284218Z",
     "shell.execute_reply": "2021-12-18T09:49:05.284765Z"
    },
    "lines_to_next_cell": 2
   },
   "outputs": [],
   "source": [
    "pYPK_EcoRV = pYPKpw.linearize(EcoRV)"
   ]
  },
  {
   "cell_type": "code",
   "execution_count": 7,
   "id": "2b1a7c23-57a5-44fd-8164-4aef9bbe4205",
   "metadata": {
    "execution": {
     "iopub.execute_input": "2021-12-18T09:49:05.290166Z",
     "iopub.status.busy": "2021-12-18T09:49:05.289275Z",
     "iopub.status.idle": "2021-12-18T09:49:05.292214Z",
     "shell.execute_reply": "2021-12-18T09:49:05.292707Z"
    }
   },
   "outputs": [
    {
     "data": {
      "text/plain": [
       "Dseqrecord(-5603)"
      ]
     },
     "execution_count": 7,
     "metadata": {},
     "output_type": "execute_result"
    }
   ],
   "source": [
    "pYPK_EcoRV"
   ]
  },
  {
   "cell_type": "markdown",
   "id": "89b64d6f-f2b0-43b6-9791-408b5c97432c",
   "metadata": {},
   "source": [
    "The pYPKa derived _E. coli_ plasmids containing the [promoter](pYPKa_Z_TDH3tp.gb) and [terminator](pYPKa_E_PGI1tp.gb) \n",
    "as well as the [gene template](GAL2.gb) sequence are read into three variables in the code cell below."
   ]
  },
  {
   "cell_type": "code",
   "execution_count": 8,
   "id": "2432ccfd",
   "metadata": {
    "execution": {
     "iopub.execute_input": "2021-12-18T09:49:05.299592Z",
     "iopub.status.busy": "2021-12-18T09:49:05.298936Z",
     "iopub.status.idle": "2021-12-18T09:49:05.302231Z",
     "shell.execute_reply": "2021-12-18T09:49:05.301631Z"
    },
    "lines_to_next_cell": 2
   },
   "outputs": [],
   "source": [
    "promoter_template = read(\"pYPKa_Z_TDH3.gb\")"
   ]
  },
  {
   "cell_type": "code",
   "execution_count": 9,
   "id": "018c43f9",
   "metadata": {
    "execution": {
     "iopub.execute_input": "2021-12-18T09:49:05.317129Z",
     "iopub.status.busy": "2021-12-18T09:49:05.316461Z",
     "iopub.status.idle": "2021-12-18T09:49:05.319674Z",
     "shell.execute_reply": "2021-12-18T09:49:05.319182Z"
    },
    "lines_to_next_cell": 2
   },
   "outputs": [],
   "source": [
    "gene_template = read(\"pYPK0_TEF1_ScACC1_TDH3.gb\")"
   ]
  },
  {
   "cell_type": "code",
   "execution_count": 10,
   "id": "c2acabd8-c4ec-43e0-ba93-1c7051837ac4",
   "metadata": {
    "execution": {
     "iopub.execute_input": "2021-12-18T09:49:05.322826Z",
     "iopub.status.busy": "2021-12-18T09:49:05.322354Z",
     "iopub.status.idle": "2021-12-18T09:49:05.327879Z",
     "shell.execute_reply": "2021-12-18T09:49:05.328560Z"
    }
   },
   "outputs": [],
   "source": [
    "terminator_template = read(\"pYPKa_E_PGI1.gb\")"
   ]
  },
  {
   "cell_type": "markdown",
   "id": "8742ca7e-c11f-42bb-a3c6-2f085691fd09",
   "metadata": {},
   "source": [
    "The construction of the pYPKa_Z_TDH3 and the pYPKa_E_PGI1 vectors above are described in the notebooks available here:\n",
    "\n",
    "- [pYPKa_Z_TDH3](https://github.com/MetabolicEngineeringGroupCBMA/pYPKa_ZE/blob/master/notebooks/pYPKa_ZE_TDH3.ipynb) \n",
    "- [pYPKa_E_PGI1](https://github.com/MetabolicEngineeringGroupCBMA/ypk-xylose-pathways/blob/master/notebooks/pYPKa_E_PGI1.ipynb)\n",
    "\n",
    "Suggested PCR program can be found at the end of this document.\n",
    " \n",
    "The promoter is amplified with primers 577 and 567 from the standard primer set:"
   ]
  },
  {
   "cell_type": "code",
   "execution_count": 11,
   "id": "cc77ede9",
   "metadata": {
    "execution": {
     "iopub.execute_input": "2021-12-18T09:49:05.335472Z",
     "iopub.status.busy": "2021-12-18T09:49:05.334848Z",
     "iopub.status.idle": "2021-12-18T09:49:05.336879Z",
     "shell.execute_reply": "2021-12-18T09:49:05.337353Z"
    },
    "lines_to_next_cell": 2
   },
   "outputs": [],
   "source": [
    "p = {}\n",
    "p[577], p[567], p[468], p[1259], p[1260], p[467], p[568], p[578] = parse_primers('''\n",
    "\n",
    ">577_crp585-557 (29-mer)\n",
    "gttctgatcctcgagcatcttaagaattc\n",
    "\n",
    ">567_pCAPsAjiIF (23-mer)\n",
    "GTCggctgcaggtcactagtgag\n",
    "\n",
    ">468_pCAPs_release_fw (25-mer) 79.66 same as 560\n",
    "gtcgaggaacgccaggttgcccact\n",
    "\n",
    ">1259_ScACC1middleRV\n",
    "CCTTCGTGAACTCTAATATCTCC\n",
    "\n",
    ">1260_ScACC1middleFW\n",
    "GCTCAAGTCTATATTCGTCG\n",
    "\n",
    ">467_pCAPs_release_re (31-mer)\n",
    "ATTTAAatcctgatgcgtttgtctgcacaga\n",
    "\n",
    ">568_pCAPsAjiIR (22-mer)\n",
    "GTGCcatctgtgcagacaaacg\n",
    "\n",
    ">578_crp42-70 (29-mer)\n",
    "gttcttgtctcattgccacattcataagt\n",
    "\n",
    "''')"
   ]
  },
  {
   "cell_type": "code",
   "execution_count": 12,
   "id": "d8d848e8",
   "metadata": {
    "execution": {
     "iopub.execute_input": "2021-12-18T09:49:05.346008Z",
     "iopub.status.busy": "2021-12-18T09:49:05.345220Z",
     "iopub.status.idle": "2021-12-18T09:49:05.352345Z",
     "shell.execute_reply": "2021-12-18T09:49:05.351842Z"
    },
    "lines_to_next_cell": 2
   },
   "outputs": [],
   "source": [
    "promoter = pcr(p[577], p[567], promoter_template)"
   ]
  },
  {
   "cell_type": "code",
   "execution_count": 13,
   "id": "089671e0",
   "metadata": {
    "execution": {
     "iopub.execute_input": "2021-12-18T09:49:05.364926Z",
     "iopub.status.busy": "2021-12-18T09:49:05.364406Z",
     "iopub.status.idle": "2021-12-18T09:49:05.366576Z",
     "shell.execute_reply": "2021-12-18T09:49:05.366981Z"
    },
    "lines_to_next_cell": 2
   },
   "outputs": [],
   "source": [
    "gene_a = pcr(p[468], p[1259], gene_template)"
   ]
  },
  {
   "cell_type": "code",
   "execution_count": 14,
   "id": "03f917ee",
   "metadata": {
    "execution": {
     "iopub.execute_input": "2021-12-18T09:49:05.379725Z",
     "iopub.status.busy": "2021-12-18T09:49:05.379246Z",
     "iopub.status.idle": "2021-12-18T09:49:05.381315Z",
     "shell.execute_reply": "2021-12-18T09:49:05.380932Z"
    },
    "lines_to_next_cell": 2
   },
   "outputs": [],
   "source": [
    "gene_b = pcr(p[1260], p[467], gene_template)"
   ]
  },
  {
   "cell_type": "code",
   "execution_count": 15,
   "id": "a5583932",
   "metadata": {
    "execution": {
     "iopub.execute_input": "2021-12-18T09:49:05.390799Z",
     "iopub.status.busy": "2021-12-18T09:49:05.389349Z",
     "iopub.status.idle": "2021-12-18T09:49:05.392678Z",
     "shell.execute_reply": "2021-12-18T09:49:05.393153Z"
    },
    "lines_to_next_cell": 2
   },
   "outputs": [],
   "source": [
    "terminator = pcr(p[568], p[578], terminator_template)"
   ]
  },
  {
   "cell_type": "code",
   "execution_count": 16,
   "id": "74897d87-b2f9-40b8-a45e-45854d25c69b",
   "metadata": {
    "execution": {
     "iopub.execute_input": "2021-12-18T09:49:05.397866Z",
     "iopub.status.busy": "2021-12-18T09:49:05.396965Z",
     "iopub.status.idle": "2021-12-18T09:49:05.399667Z",
     "shell.execute_reply": "2021-12-18T09:49:05.400187Z"
    }
   },
   "outputs": [],
   "source": [
    "promoter.name = \"TDH3_promoter\"\n",
    "gene_a.name = \"ScACC1a\"\n",
    "gene_b.name = \"ScACC1b\"\n",
    "terminator.name = \"PGI1_terminator\""
   ]
  },
  {
   "cell_type": "markdown",
   "id": "76112904-1d47-47d2-872f-2f53d5e9bc60",
   "metadata": {},
   "source": [
    "The four linear DNA fragments are mixed and transformed\n",
    "to a _Saccharomyces cerevisiae_ ura3 mutant.\n",
    " \n",
    "The fragments assemble by _in-vivo_ [homologous recombination](http://www.ncbi.nlm.nih.gov/pubmed/2828185):"
   ]
  },
  {
   "cell_type": "code",
   "execution_count": 17,
   "id": "e8bffe2e",
   "metadata": {
    "execution": {
     "iopub.execute_input": "2021-12-18T09:49:05.468055Z",
     "iopub.status.busy": "2021-12-18T09:49:05.433640Z",
     "iopub.status.idle": "2021-12-18T09:49:06.607068Z",
     "shell.execute_reply": "2021-12-18T09:49:06.607428Z"
    },
    "lines_to_next_cell": 2
   },
   "outputs": [
    {
     "data": {
      "text/plain": [
       "Assembly\n",
       "fragments..: 5603bp 930bp 3420bp 3436bp 1339bp\n",
       "limit(bp)..: 31\n",
       "G.nodes....: 10\n",
       "algorithm..: common_sub_strings"
      ]
     },
     "execution_count": 17,
     "metadata": {},
     "output_type": "execute_result"
    }
   ],
   "source": [
    "asm = Assembly( (pYPK_EcoRV, promoter, gene_a, gene_b, terminator), limit=31)\n",
    "asm"
   ]
  },
  {
   "cell_type": "code",
   "execution_count": 18,
   "id": "c3778469",
   "metadata": {
    "execution": {
     "iopub.execute_input": "2021-12-18T09:49:06.612089Z",
     "iopub.status.busy": "2021-12-18T09:49:06.610902Z",
     "iopub.status.idle": "2021-12-18T09:49:06.831887Z",
     "shell.execute_reply": "2021-12-18T09:49:06.832497Z"
    },
    "lines_to_next_cell": 2
   },
   "outputs": [
    {
     "data": {
      "text/plain": [
       "[Contig(o14191), Contig(o14191)]"
      ]
     },
     "execution_count": 18,
     "metadata": {},
     "output_type": "execute_result"
    }
   ],
   "source": [
    "candidates = asm.assemble_circular()\n",
    "candidates"
   ]
  },
  {
   "cell_type": "code",
   "execution_count": 19,
   "id": "ea5ec730",
   "metadata": {
    "execution": {
     "iopub.execute_input": "2021-12-18T09:49:06.836374Z",
     "iopub.status.busy": "2021-12-18T09:49:06.835842Z",
     "iopub.status.idle": "2021-12-18T09:49:06.839293Z",
     "shell.execute_reply": "2021-12-18T09:49:06.838684Z"
    },
    "lines_to_next_cell": 2
   },
   "outputs": [],
   "source": [
    "candidate = candidates[0]"
   ]
  },
  {
   "cell_type": "code",
   "execution_count": 20,
   "id": "88fddbaf",
   "metadata": {
    "execution": {
     "iopub.execute_input": "2021-12-18T09:49:06.844254Z",
     "iopub.status.busy": "2021-12-18T09:49:06.843265Z",
     "iopub.status.idle": "2021-12-18T09:49:06.848640Z",
     "shell.execute_reply": "2021-12-18T09:49:06.849157Z"
    },
    "lines_to_next_cell": 2
   },
   "outputs": [
    {
     "data": {
      "text/plain": [
       "14191"
      ]
     },
     "execution_count": 20,
     "metadata": {},
     "output_type": "execute_result"
    }
   ],
   "source": [
    "len(candidate)"
   ]
  },
  {
   "cell_type": "code",
   "execution_count": 21,
   "id": "2976bcb7",
   "metadata": {
    "execution": {
     "iopub.execute_input": "2021-12-18T09:49:06.868337Z",
     "iopub.status.busy": "2021-12-18T09:49:06.867558Z",
     "iopub.status.idle": "2021-12-18T09:49:06.870647Z",
     "shell.execute_reply": "2021-12-18T09:49:06.871033Z"
    },
    "lines_to_next_cell": 2
   },
   "outputs": [
    {
     "data": {
      "text/plain": [
       "7MkGmcA9Lo4o9AeCElVYUwEFFs0"
      ]
     },
     "execution_count": 21,
     "metadata": {},
     "output_type": "execute_result"
    }
   ],
   "source": [
    "candidate.cseguid()"
   ]
  },
  {
   "cell_type": "code",
   "execution_count": 22,
   "id": "ec1291b0",
   "metadata": {
    "execution": {
     "iopub.execute_input": "2021-12-18T09:49:06.875191Z",
     "iopub.status.busy": "2021-12-18T09:49:06.874478Z",
     "iopub.status.idle": "2021-12-18T09:49:06.879106Z",
     "shell.execute_reply": "2021-12-18T09:49:06.879683Z"
    },
    "lines_to_next_cell": 2
   },
   "outputs": [
    {
     "data": {
      "text/html": [
       "<pre> -|pYPKpw_lin|124\n",
       "|             \\/\n",
       "|             /\\\n",
       "|             124|TDH3_promoter|50\n",
       "|                               \\/\n",
       "|                               /\\\n",
       "|                               50|ScACC1a|65\n",
       "|                                          \\/\n",
       "|                                          /\\\n",
       "|                                          65|ScACC1b|37\n",
       "|                                                     \\/\n",
       "|                                                     /\\\n",
       "|                                                     37|PGI1_terminator|242\n",
       "|                                                                        \\/\n",
       "|                                                                        /\\\n",
       "|                                                                        242-\n",
       "|                                                                           |\n",
       " ---------------------------------------------------------------------------</pre>"
      ],
      "text/plain": [
       "Contig(o14191)"
      ]
     },
     "execution_count": 22,
     "metadata": {},
     "output_type": "execute_result"
    }
   ],
   "source": [
    "candidate"
   ]
  },
  {
   "cell_type": "code",
   "execution_count": 23,
   "id": "9285ebf9",
   "metadata": {
    "execution": {
     "iopub.execute_input": "2021-12-18T09:49:06.920576Z",
     "iopub.status.busy": "2021-12-18T09:49:06.882999Z",
     "iopub.status.idle": "2021-12-18T09:49:07.712638Z",
     "shell.execute_reply": "2021-12-18T09:49:07.712021Z"
    },
    "lines_to_next_cell": 2
   },
   "outputs": [],
   "source": [
    "pYPK0_TDH3_ScACC1_PGI1 = candidate.synced(pYPKpw)"
   ]
  },
  {
   "cell_type": "code",
   "execution_count": 24,
   "id": "f4498a59",
   "metadata": {
    "execution": {
     "iopub.execute_input": "2021-12-18T09:49:07.721478Z",
     "iopub.status.busy": "2021-12-18T09:49:07.720586Z",
     "iopub.status.idle": "2021-12-18T09:49:07.736302Z",
     "shell.execute_reply": "2021-12-18T09:49:07.736650Z"
    },
    "lines_to_next_cell": 2
   },
   "outputs": [
    {
     "data": {
      "text/plain": [
       "cSEGUID_7MkGmcA9Lo4o9AeCElVYUwEFFs0"
      ]
     },
     "execution_count": 24,
     "metadata": {},
     "output_type": "execute_result"
    }
   ],
   "source": [
    "pYPK0_TDH3_ScACC1_PGI1.stamp()"
   ]
  },
  {
   "cell_type": "code",
   "execution_count": 25,
   "id": "a85de35e",
   "metadata": {
    "execution": {
     "iopub.execute_input": "2021-12-18T09:49:07.740278Z",
     "iopub.status.busy": "2021-12-18T09:49:07.739816Z",
     "iopub.status.idle": "2021-12-18T09:49:07.741422Z",
     "shell.execute_reply": "2021-12-18T09:49:07.741781Z"
    },
    "lines_to_next_cell": 2
   },
   "outputs": [],
   "source": [
    "pYPK0_TDH3_ScACC1_PGI1.name = \"pYPK0_TDH3_ScACC1_PGI1\""
   ]
  },
  {
   "cell_type": "code",
   "execution_count": 26,
   "id": "a572383b",
   "metadata": {
    "execution": {
     "iopub.execute_input": "2021-12-18T09:49:07.745733Z",
     "iopub.status.busy": "2021-12-18T09:49:07.744902Z",
     "iopub.status.idle": "2021-12-18T09:49:07.764523Z",
     "shell.execute_reply": "2021-12-18T09:49:07.764862Z"
    },
    "tags": []
   },
   "outputs": [
    {
     "data": {
      "text/html": [
       "<font face=monospace><a href='pYPK0_TDH3_ScACC1_PGI1.gb' target='_blank'>pYPK0_TDH3_ScACC1_PGI1.gb</a></font><br>"
      ]
     },
     "metadata": {},
     "output_type": "display_data"
    }
   ],
   "source": [
    "pYPK0_TDH3_ScACC1_PGI1.write(\"pYPK0_TDH3_ScACC1_PGI1.gb\")"
   ]
  }
 ],
 "metadata": {
  "jupytext": {
   "cell_metadata_filter": "-all",
   "encoding": "# coding: utf-8",
   "executable": "/usr/bin/env python",
   "main_language": "python",
   "notebook_metadata_filter": "-all"
  },
  "kernelspec": {
   "display_name": "Python [conda env:bjorn39]",
   "language": "python",
   "name": "conda-env-bjorn39-py"
  },
  "language_info": {
   "codemirror_mode": {
    "name": "ipython",
    "version": 3
   },
   "file_extension": ".py",
   "mimetype": "text/x-python",
   "name": "python",
   "nbconvert_exporter": "python",
   "pygments_lexer": "ipython3",
   "version": "3.9.7"
  }
 },
 "nbformat": 4,
 "nbformat_minor": 5
}
