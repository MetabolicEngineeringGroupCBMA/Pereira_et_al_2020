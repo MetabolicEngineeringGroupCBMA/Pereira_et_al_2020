{
 "cells": [
  {
   "cell_type": "code",
   "execution_count": 1,
   "metadata": {
    "execution": {
     "iopub.execute_input": "2021-12-18T09:48:56.544040Z",
     "iopub.status.busy": "2021-12-18T09:48:56.543390Z",
     "iopub.status.idle": "2021-12-18T09:48:56.859329Z",
     "shell.execute_reply": "2021-12-18T09:48:56.858609Z"
    },
    "tags": []
   },
   "outputs": [],
   "source": [
    "from pydna.readers import read\n",
    "from pydna.parsers import parse"
   ]
  },
  {
   "cell_type": "code",
   "execution_count": 2,
   "metadata": {
    "execution": {
     "iopub.execute_input": "2021-12-18T09:48:56.867299Z",
     "iopub.status.busy": "2021-12-18T09:48:56.866488Z",
     "iopub.status.idle": "2021-12-18T09:48:56.887750Z",
     "shell.execute_reply": "2021-12-18T09:48:56.887055Z"
    },
    "tags": []
   },
   "outputs": [],
   "source": [
    "reads = parse(\"data/TraceFiles/all_reads_fasta.fas\")"
   ]
  },
  {
   "cell_type": "code",
   "execution_count": 3,
   "metadata": {
    "execution": {
     "iopub.execute_input": "2021-12-18T09:48:56.902291Z",
     "iopub.status.busy": "2021-12-18T09:48:56.897015Z",
     "iopub.status.idle": "2021-12-18T09:48:56.905183Z",
     "shell.execute_reply": "2021-12-18T09:48:56.904800Z"
    },
    "tags": []
   },
   "outputs": [
    {
     "data": {
      "text/plain": [
       "[File(98EG41_54603929_54603929)(-1200),\n",
       " File(98EG42_54603936_54603936)(-24),\n",
       " File(98EG43_54603943_54603943)(-1117),\n",
       " File(98EG44_54603950_54603950)(-929),\n",
       " File(98EG45_54603967_54603967)(-1167),\n",
       " File(98EG57_54604087_54604087)(-1155),\n",
       " File(98EG58_54604094_54604094)(-1086),\n",
       " File(98EG60_54604117_54604117)(-1116),\n",
       " File(98EG61_54604124_54604124)(-1120),\n",
       " File(CNT573_17095731_17095731)(-1193),\n",
       " File(CNT574_17095748_17095748)(-1243),\n",
       " File(CNT575_17095755_17095755)(-589),\n",
       " File(CNT576_17095762_17095762)(-1154),\n",
       " File(CNT577_17095779_17095779)(-1153),\n",
       " File(CNT578_17095786_17095786)(-1233),\n",
       " File(CNT579_17095793_17095793)(-1193),\n",
       " File(CNT580_17095809_17095809)(-1184),\n",
       " File(CNT581_17095816_17095816)(-1183),\n",
       " File(CNT582_17095823_17095823)(-1185),\n",
       " File(CNT583_17095830_17095830)(-1175),\n",
       " File(CNT584_17095847_17095847)(-1189)]"
      ]
     },
     "execution_count": 3,
     "metadata": {},
     "output_type": "execute_result"
    }
   ],
   "source": [
    "reads"
   ]
  },
  {
   "cell_type": "code",
   "execution_count": 4,
   "metadata": {
    "execution": {
     "iopub.execute_input": "2021-12-18T09:48:56.908640Z",
     "iopub.status.busy": "2021-12-18T09:48:56.908096Z",
     "iopub.status.idle": "2021-12-18T09:48:56.910555Z",
     "shell.execute_reply": "2021-12-18T09:48:56.910932Z"
    },
    "tags": []
   },
   "outputs": [],
   "source": [
    "# print(\"(\", end=\"\")\n",
    "# for rd in reads:\n",
    "#     print(f\"r{rd.name}\", \",\")\n",
    "# print(\") = reads\")"
   ]
  },
  {
   "cell_type": "code",
   "execution_count": 5,
   "metadata": {
    "execution": {
     "iopub.execute_input": "2021-12-18T09:48:56.916592Z",
     "iopub.status.busy": "2021-12-18T09:48:56.915774Z",
     "iopub.status.idle": "2021-12-18T09:48:56.920769Z",
     "shell.execute_reply": "2021-12-18T09:48:56.921634Z"
    },
    "tags": []
   },
   "outputs": [],
   "source": [
    "(r98EG41_54603929_54603929 ,\n",
    " r98EG42_54603936_54603936 ,\n",
    " r98EG43_54603943_54603943 ,\n",
    " r98EG44_54603950_54603950 ,\n",
    " r98EG45_54603967_54603967 ,\n",
    " r98EG57_54604087_54604087 ,\n",
    " r98EG58_54604094_54604094 ,\n",
    " r98EG60_54604117_54604117 ,\n",
    " r98EG61_54604124_54604124 ,\n",
    " rCNT573_17095731_17095731 ,\n",
    " rCNT574_17095748_17095748 ,\n",
    " rCNT575_17095755_17095755 ,\n",
    " rCNT576_17095762_17095762 ,\n",
    " rCNT577_17095779_17095779 ,\n",
    " rCNT578_17095786_17095786 ,\n",
    " rCNT579_17095793_17095793 ,\n",
    " rCNT580_17095809_17095809 ,\n",
    " rCNT581_17095816_17095816 ,\n",
    " rCNT582_17095823_17095823 ,\n",
    " rCNT583_17095830_17095830 ,\n",
    " rCNT584_17095847_17095847 ,\n",
    ") = reads"
   ]
  },
  {
   "cell_type": "code",
   "execution_count": 6,
   "metadata": {
    "execution": {
     "iopub.execute_input": "2021-12-18T09:48:56.929177Z",
     "iopub.status.busy": "2021-12-18T09:48:56.928545Z",
     "iopub.status.idle": "2021-12-18T09:48:56.936193Z",
     "shell.execute_reply": "2021-12-18T09:48:56.936730Z"
    },
    "tags": []
   },
   "outputs": [
    {
     "name": "stdout",
     "output_type": "stream",
     "text": [
      "98EG41_54603929_54603929  468 pYPK0_TEF1_ScACC1_TDH3 clone Colony Sc 1.4.1.3 This sequence shows a little bit of the red part of pYPKa where the 468 bi\n",
      "98EG42_54603936_54603936  467 pYPK0_TEF1_ScACC1_TDH3 no sequence Colony Sc 1.4.1.3\n",
      "98EG43_54603943_54603943  --- *unrelated* RPL17A promoter\n",
      "98EG44_54603950_54603950  698 pYPK0_TEF1_ScACC1_TDH3 Colony Sc 1.4.1.3 intergenic region in chromosome XVI between Mrl1 and SCEN_P03740 (putative gene)\n",
      "98EG45_54603967_54603967  1257 pYPK0_TEF1_ScACC1_TDH3 clone Colony Sc 1.4.1.3 This sequence show MNN1 and a portion of H797_YJM1336J00033 (putative gen\n",
      "98EG57_54604087_54604087  468 pYPK0_TEF1_YlACC1_TDH3 confirmed\n",
      "98EG58_54604094_54604094  467 pYPK0_TEF1_YlACC1_TDH3 confirmed\n",
      "98EG60_54604117_54604117  468 pYPK0_TEF1_ScACC1_TDH3 clone ??? MNN11??? This is a prep of 931 Björn4 32 This clone did not give a 577 698 product\n",
      "98EG61_54604124_54604124  467 pYPK0_TEF1_ScACC1_TDH3 clone ??? MNN11??? H797_YJM1336J00033 This is a prep of 931\tBjörn4\t32 This is the first rescue. Th\n",
      "CNT573_17095731_17095731  467 pYPK0_TEF1_ScACC1_TDH3 confirmed\n",
      "CNT574_17095748_17095748  468 pYPK0_TEF1_ScACC1_TDH3 confirmed\n",
      "CNT575_17095755_17095755  567 pYPK0_TEF1_ScACC1_TDH3 confirmed\n",
      "CNT576_17095762_17095762  568 pYPK0_TEF1_ScACC1_TDH3 confirmed\n",
      "CNT577_17095779_17095779  467 pYPK0_TDH3_ScACC1_PGI1 confirmed\n",
      "CNT578_17095786_17095786  468 pYPK0_TDH3_ScACC1_PGI1 confirmed\n",
      "CNT579_17095793_17095793  567 pYPK0_TDH3_ScACC1_PGI1 confirmed\n",
      "CNT580_17095809_17095809  568 pYPK0_TDH3_ScACC1_PGI1 confirmed\n",
      "CNT581_17095816_17095816  467 pYPK0_TDH3_YlACC1_PGI1 confirmed\n",
      "CNT582_17095823_17095823  468 pYPK0_TDH3_YlACC1_PGI1 confirmed\n",
      "CNT583_17095830_17095830  567 pYPK0_TDH3_YlACC1_PGI1 confirmed\n",
      "CNT584_17095847_17095847  568 pYPK0_TDH3_YlACC1_PGI1 confirmed\n"
     ]
    }
   ],
   "source": [
    "for rd in reads:\n",
    "    print(rd.name, rd.description[24:150])"
   ]
  },
  {
   "cell_type": "code",
   "execution_count": 7,
   "metadata": {
    "execution": {
     "iopub.execute_input": "2021-12-18T09:48:56.941250Z",
     "iopub.status.busy": "2021-12-18T09:48:56.940587Z",
     "iopub.status.idle": "2021-12-18T09:48:56.943846Z",
     "shell.execute_reply": "2021-12-18T09:48:56.944409Z"
    },
    "tags": []
   },
   "outputs": [],
   "source": [
    "from pydna.editor import ape"
   ]
  },
  {
   "cell_type": "markdown",
   "metadata": {},
   "source": [
    "### pYPK0_TEF1_ScACC1_TDH3"
   ]
  },
  {
   "cell_type": "code",
   "execution_count": 8,
   "metadata": {
    "execution": {
     "iopub.execute_input": "2021-12-18T09:48:56.950150Z",
     "iopub.status.busy": "2021-12-18T09:48:56.948761Z",
     "iopub.status.idle": "2021-12-18T09:48:56.961715Z",
     "shell.execute_reply": "2021-12-18T09:48:56.961270Z"
    },
    "tags": []
   },
   "outputs": [],
   "source": [
    "pYPK0_TEF1_ScACC1_TDH3 = read(\"pYPK0_TEF1_ScACC1_TDH3.gb\")"
   ]
  },
  {
   "cell_type": "code",
   "execution_count": 9,
   "metadata": {
    "execution": {
     "iopub.execute_input": "2021-12-18T09:48:56.965583Z",
     "iopub.status.busy": "2021-12-18T09:48:56.965121Z",
     "iopub.status.idle": "2021-12-18T09:48:56.966848Z",
     "shell.execute_reply": "2021-12-18T09:48:56.967210Z"
    },
    "tags": []
   },
   "outputs": [],
   "source": [
    "reads_pYPK0_TEF1_ScACC1_TDH3 = [rCNT573_17095731_17095731.rc(),\n",
    "                                rCNT574_17095748_17095748,\n",
    "                                rCNT575_17095755_17095755.rc(),\n",
    "                                rCNT576_17095762_17095762]"
   ]
  },
  {
   "cell_type": "code",
   "execution_count": 10,
   "metadata": {
    "execution": {
     "iopub.execute_input": "2021-12-18T09:48:57.010598Z",
     "iopub.status.busy": "2021-12-18T09:48:56.989941Z",
     "iopub.status.idle": "2021-12-18T09:48:57.716326Z",
     "shell.execute_reply": "2021-12-18T09:48:57.716728Z"
    },
    "tags": []
   },
   "outputs": [],
   "source": [
    "for r in reads_pYPK0_TEF1_ScACC1_TDH3:\n",
    "    sf = pYPK0_TEF1_ScACC1_TDH3.lcs(r)\n",
    "    pYPK0_TEF1_ScACC1_TDH3.features.append(sf)"
   ]
  },
  {
   "cell_type": "code",
   "execution_count": 11,
   "metadata": {
    "execution": {
     "iopub.execute_input": "2021-12-18T09:48:57.723401Z",
     "iopub.status.busy": "2021-12-18T09:48:57.722740Z",
     "iopub.status.idle": "2021-12-18T09:48:58.232483Z",
     "shell.execute_reply": "2021-12-18T09:48:58.233014Z"
    },
    "tags": []
   },
   "outputs": [],
   "source": [
    "ape(pYPK0_TEF1_ScACC1_TDH3)"
   ]
  },
  {
   "cell_type": "markdown",
   "metadata": {},
   "source": [
    "pYPK0_TEF1_ScACC1_TDH3\n",
    "- Stop codon not covered by sequencing"
   ]
  },
  {
   "cell_type": "markdown",
   "metadata": {},
   "source": [
    "### pYPK0_TDH3_ScACC1_PGI1"
   ]
  },
  {
   "cell_type": "code",
   "execution_count": 12,
   "metadata": {
    "execution": {
     "iopub.execute_input": "2021-12-18T09:48:58.254265Z",
     "iopub.status.busy": "2021-12-18T09:48:58.236981Z",
     "iopub.status.idle": "2021-12-18T09:48:58.256204Z",
     "shell.execute_reply": "2021-12-18T09:48:58.256652Z"
    },
    "tags": []
   },
   "outputs": [],
   "source": [
    "pYPK0_TDH3_ScACC1_PGI1 = read(\"pYPK0_TDH3_ScACC1_PGI1.gb\")"
   ]
  },
  {
   "cell_type": "code",
   "execution_count": 13,
   "metadata": {
    "execution": {
     "iopub.execute_input": "2021-12-18T09:48:58.261673Z",
     "iopub.status.busy": "2021-12-18T09:48:58.260935Z",
     "iopub.status.idle": "2021-12-18T09:48:58.263612Z",
     "shell.execute_reply": "2021-12-18T09:48:58.262991Z"
    },
    "tags": []
   },
   "outputs": [],
   "source": [
    "reads_pYPK0_TDH3_ScACC1_PGI1 = [rCNT577_17095779_17095779.rc(),\n",
    "                                rCNT578_17095786_17095786,\n",
    "                                rCNT579_17095793_17095793.rc(),\n",
    "                                rCNT580_17095809_17095809]"
   ]
  },
  {
   "cell_type": "code",
   "execution_count": 14,
   "metadata": {
    "execution": {
     "iopub.execute_input": "2021-12-18T09:48:58.282271Z",
     "iopub.status.busy": "2021-12-18T09:48:58.281762Z",
     "iopub.status.idle": "2021-12-18T09:48:59.301442Z",
     "shell.execute_reply": "2021-12-18T09:48:59.302978Z"
    },
    "tags": []
   },
   "outputs": [],
   "source": [
    "for r in reads_pYPK0_TDH3_ScACC1_PGI1:\n",
    "    sf = pYPK0_TDH3_ScACC1_PGI1.lcs(r)\n",
    "    pYPK0_TDH3_ScACC1_PGI1.features.append(sf)"
   ]
  },
  {
   "cell_type": "code",
   "execution_count": 15,
   "metadata": {
    "execution": {
     "iopub.execute_input": "2021-12-18T09:48:59.311822Z",
     "iopub.status.busy": "2021-12-18T09:48:59.308946Z",
     "iopub.status.idle": "2021-12-18T09:48:59.848088Z",
     "shell.execute_reply": "2021-12-18T09:48:59.849080Z"
    },
    "tags": []
   },
   "outputs": [],
   "source": [
    "ape(pYPK0_TDH3_ScACC1_PGI1)"
   ]
  },
  {
   "cell_type": "markdown",
   "metadata": {
    "tags": []
   },
   "source": [
    "pYPK0_TDH3_ScACC1_PGI1\n",
    "- Stop codon not covered by sequencing"
   ]
  },
  {
   "cell_type": "markdown",
   "metadata": {},
   "source": [
    "### pYPK0_TEF1_YlACC1_TDH3"
   ]
  },
  {
   "cell_type": "code",
   "execution_count": 16,
   "metadata": {
    "execution": {
     "iopub.execute_input": "2021-12-18T09:48:59.858410Z",
     "iopub.status.busy": "2021-12-18T09:48:59.857558Z",
     "iopub.status.idle": "2021-12-18T09:48:59.882374Z",
     "shell.execute_reply": "2021-12-18T09:48:59.883002Z"
    },
    "tags": []
   },
   "outputs": [],
   "source": [
    "pYPK0_TEF1_YlACC1_TDH3 = read(\"pYPK0_TEF1_YlACC1_TDH3.gb\")"
   ]
  },
  {
   "cell_type": "code",
   "execution_count": 17,
   "metadata": {
    "execution": {
     "iopub.execute_input": "2021-12-18T09:48:59.888845Z",
     "iopub.status.busy": "2021-12-18T09:48:59.887995Z",
     "iopub.status.idle": "2021-12-18T09:48:59.891614Z",
     "shell.execute_reply": "2021-12-18T09:48:59.890640Z"
    },
    "tags": []
   },
   "outputs": [],
   "source": [
    "reads_pYPK0_TEF1_YlACC1_TDH3 = [r98EG57_54604087_54604087,\n",
    "                                r98EG58_54604094_54604094.rc()]"
   ]
  },
  {
   "cell_type": "code",
   "execution_count": 18,
   "metadata": {
    "execution": {
     "iopub.execute_input": "2021-12-18T09:48:59.925754Z",
     "iopub.status.busy": "2021-12-18T09:48:59.915342Z",
     "iopub.status.idle": "2021-12-18T09:49:00.250967Z",
     "shell.execute_reply": "2021-12-18T09:49:00.251393Z"
    },
    "tags": []
   },
   "outputs": [],
   "source": [
    "for r in reads_pYPK0_TEF1_YlACC1_TDH3:\n",
    "    sf = pYPK0_TEF1_YlACC1_TDH3.lcs(r)\n",
    "    pYPK0_TEF1_YlACC1_TDH3.features.append(sf)"
   ]
  },
  {
   "cell_type": "code",
   "execution_count": 19,
   "metadata": {
    "execution": {
     "iopub.execute_input": "2021-12-18T09:49:00.258478Z",
     "iopub.status.busy": "2021-12-18T09:49:00.256129Z",
     "iopub.status.idle": "2021-12-18T09:49:00.769101Z",
     "shell.execute_reply": "2021-12-18T09:49:00.769763Z"
    },
    "tags": []
   },
   "outputs": [],
   "source": [
    "ape(pYPK0_TEF1_YlACC1_TDH3)"
   ]
  },
  {
   "cell_type": "code",
   "execution_count": 20,
   "metadata": {
    "execution": {
     "iopub.execute_input": "2021-12-18T09:49:00.780263Z",
     "iopub.status.busy": "2021-12-18T09:49:00.779679Z",
     "iopub.status.idle": "2021-12-18T09:49:01.295395Z",
     "shell.execute_reply": "2021-12-18T09:49:01.294652Z"
    },
    "tags": []
   },
   "outputs": [],
   "source": [
    "%%capture\n",
    "ape(r98EG57_54604087_54604087)"
   ]
  },
  {
   "cell_type": "markdown",
   "metadata": {},
   "source": [
    "pYPK0_TEF1_YlACC1_TDH3\n",
    "- A->G in start codon"
   ]
  },
  {
   "cell_type": "markdown",
   "metadata": {},
   "source": [
    "### pYPK0_TDH3_YlACC1_PGI1"
   ]
  },
  {
   "cell_type": "code",
   "execution_count": 21,
   "metadata": {
    "execution": {
     "iopub.execute_input": "2021-12-18T09:49:01.301602Z",
     "iopub.status.busy": "2021-12-18T09:49:01.300329Z",
     "iopub.status.idle": "2021-12-18T09:49:01.312319Z",
     "shell.execute_reply": "2021-12-18T09:49:01.312734Z"
    },
    "tags": []
   },
   "outputs": [],
   "source": [
    "pYPK0_TDH3_YlACC1_PGI1 = read(\"pYPK0_TDH3_YlACC1_PGI1.gb\")"
   ]
  },
  {
   "cell_type": "code",
   "execution_count": 22,
   "metadata": {
    "execution": {
     "iopub.execute_input": "2021-12-18T09:49:01.316372Z",
     "iopub.status.busy": "2021-12-18T09:49:01.315926Z",
     "iopub.status.idle": "2021-12-18T09:49:01.319345Z",
     "shell.execute_reply": "2021-12-18T09:49:01.318765Z"
    },
    "tags": []
   },
   "outputs": [],
   "source": [
    "reads_pYPK0_TDH3_YlACC1_PGI1 = [rCNT581_17095816_17095816.rc(),\n",
    "                                rCNT582_17095823_17095823,\n",
    "                                rCNT583_17095830_17095830.rc(),\n",
    "                                rCNT584_17095847_17095847]"
   ]
  },
  {
   "cell_type": "code",
   "execution_count": 23,
   "metadata": {
    "execution": {
     "iopub.execute_input": "2021-12-18T09:49:01.327605Z",
     "iopub.status.busy": "2021-12-18T09:49:01.327118Z",
     "iopub.status.idle": "2021-12-18T09:49:02.096737Z",
     "shell.execute_reply": "2021-12-18T09:49:02.097143Z"
    },
    "tags": []
   },
   "outputs": [],
   "source": [
    "for r in reads_pYPK0_TDH3_YlACC1_PGI1:\n",
    "    sf = pYPK0_TDH3_YlACC1_PGI1.lcs(r)\n",
    "    pYPK0_TDH3_YlACC1_PGI1.features.append(sf)"
   ]
  },
  {
   "cell_type": "code",
   "execution_count": 24,
   "metadata": {
    "execution": {
     "iopub.execute_input": "2021-12-18T09:49:02.103665Z",
     "iopub.status.busy": "2021-12-18T09:49:02.103077Z",
     "iopub.status.idle": "2021-12-18T09:49:02.619169Z",
     "shell.execute_reply": "2021-12-18T09:49:02.616726Z"
    },
    "tags": []
   },
   "outputs": [],
   "source": [
    "ape(pYPK0_TDH3_YlACC1_PGI1)"
   ]
  },
  {
   "cell_type": "code",
   "execution_count": 25,
   "metadata": {
    "execution": {
     "iopub.execute_input": "2021-12-18T09:49:02.627699Z",
     "iopub.status.busy": "2021-12-18T09:49:02.626171Z",
     "iopub.status.idle": "2021-12-18T09:49:03.142811Z",
     "shell.execute_reply": "2021-12-18T09:49:03.141999Z"
    },
    "tags": []
   },
   "outputs": [],
   "source": [
    "ape(rCNT582_17095823_17095823)"
   ]
  },
  {
   "cell_type": "markdown",
   "metadata": {},
   "source": [
    "pYPK0_TDH3_YlACC1_PGI1\n",
    "- A->G in start codon\n",
    "- Stop codon not covered by sequencing"
   ]
  }
 ],
 "metadata": {
  "anaconda-cloud": {},
  "kernelspec": {
   "display_name": "Python [conda env:bjorn39]",
   "language": "python",
   "name": "conda-env-bjorn39-py"
  },
  "language_info": {
   "codemirror_mode": {
    "name": "ipython",
    "version": 3
   },
   "file_extension": ".py",
   "mimetype": "text/x-python",
   "name": "python",
   "nbconvert_exporter": "python",
   "pygments_lexer": "ipython3",
   "version": "3.9.7"
  }
 },
 "nbformat": 4,
 "nbformat_minor": 4
}
