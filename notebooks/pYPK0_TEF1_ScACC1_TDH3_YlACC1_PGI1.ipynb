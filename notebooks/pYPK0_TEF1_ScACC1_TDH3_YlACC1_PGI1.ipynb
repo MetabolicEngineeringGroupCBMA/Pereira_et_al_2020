{
 "cells": [
  {
   "cell_type": "markdown",
   "metadata": {
    "tags": []
   },
   "source": [
    "## pYPK0_TEF1_ScACC1_TDH3_YlACC1_PGI1\n",
    "\n",
    "    TEF1_ScACC1_TDH3\n",
    "                TDH3_YlACC1_PGI1\n",
    "                \n",
    "This notebook describes the assembly of a double gene expression vector."
   ]
  },
  {
   "cell_type": "code",
   "execution_count": 1,
   "metadata": {
    "execution": {
     "iopub.execute_input": "2021-12-18T09:49:23.557688Z",
     "iopub.status.busy": "2021-12-18T09:49:23.556728Z",
     "iopub.status.idle": "2021-12-18T09:49:23.934122Z",
     "shell.execute_reply": "2021-12-18T09:49:23.933565Z"
    },
    "tags": []
   },
   "outputs": [],
   "source": [
    "from pydna.amplify import pcr\n",
    "from pydna.assembly import Assembly\n",
    "from pydna.genbank import Genbank\n",
    "from pydna.readers import read\n",
    "from pydna.parsers import parse_primers"
   ]
  },
  {
   "cell_type": "code",
   "execution_count": 2,
   "metadata": {
    "execution": {
     "iopub.execute_input": "2021-12-18T09:49:23.942268Z",
     "iopub.status.busy": "2021-12-18T09:49:23.941686Z",
     "iopub.status.idle": "2021-12-18T09:49:23.966717Z",
     "shell.execute_reply": "2021-12-18T09:49:23.966198Z"
    },
    "tags": []
   },
   "outputs": [],
   "source": [
    "pYPK0_TEF1_ScACC1_TDH3 = read(\"pYPK0_TEF1_ScACC1_TDH3.gb\")\n",
    "pYPK0_TDH3_YlACC1_PGI1 = read(\"pYPK0_TDH3_YlACC1_PGI1.gb\")"
   ]
  },
  {
   "cell_type": "code",
   "execution_count": 3,
   "metadata": {
    "execution": {
     "iopub.execute_input": "2021-12-18T09:49:23.970681Z",
     "iopub.status.busy": "2021-12-18T09:49:23.969782Z",
     "iopub.status.idle": "2021-12-18T09:49:23.974092Z",
     "shell.execute_reply": "2021-12-18T09:49:23.973118Z"
    },
    "tags": []
   },
   "outputs": [],
   "source": [
    "pYPK0_TEF1_ScACC1_TDH3.name = \"\"\n",
    "pYPK0_TDH3_YlACC1_PGI1.name = \"\""
   ]
  },
  {
   "cell_type": "code",
   "execution_count": 4,
   "metadata": {
    "execution": {
     "iopub.execute_input": "2021-12-18T09:49:23.982796Z",
     "iopub.status.busy": "2021-12-18T09:49:23.981936Z",
     "iopub.status.idle": "2021-12-18T09:49:23.984291Z",
     "shell.execute_reply": "2021-12-18T09:49:23.984854Z"
    },
    "tags": []
   },
   "outputs": [],
   "source": [
    "p = {}\n",
    "(p[577], p[1259], p[1260], p[623], \n",
    " p[1123], p[779], p[780], p[578]) = parse_primers('''\n",
    "\n",
    ">577_crp585-557 (29-mer)\n",
    "gttctgatcctcgagcatcttaagaattc\n",
    "\n",
    ">1259_ScACC1middleRV\n",
    "CCTTCGTGAACTCTAATATCTCC\n",
    "\n",
    ">1260_ScACC1middleFW\n",
    "GCTCAAGTCTATATTCGTCG\n",
    "\n",
    ">623_ScTDH3tpr_PacI (33-mer)\n",
    "taattaaTTTGTTTGTTTATGTGTGTTTATTCG\n",
    "\n",
    ">1123_New775\n",
    "gtgcaatgcggccgctGAC\n",
    "\n",
    ">779_YlACC1_3445_rv (25-mer)\n",
    "ACAAAGCAGACGACATGGTAGGCAG\n",
    "\n",
    ">780_YlACC1_3305_fwd (25-mer)\n",
    "TCTTTGCCCACGATGATCCCTGGAT\n",
    "\n",
    ">578_crp42-70 (29-mer)\n",
    "gttcttgtctcattgccacattcataagt\n",
    "\n",
    "''')"
   ]
  },
  {
   "cell_type": "code",
   "execution_count": 5,
   "metadata": {
    "execution": {
     "iopub.execute_input": "2021-12-18T09:49:23.996734Z",
     "iopub.status.busy": "2021-12-18T09:49:23.996276Z",
     "iopub.status.idle": "2021-12-18T09:49:24.003572Z",
     "shell.execute_reply": "2021-12-18T09:49:24.003973Z"
    },
    "tags": []
   },
   "outputs": [],
   "source": [
    "TEF_SA = pcr(p[577], p[1259], pYPK0_TEF1_ScACC1_TDH3)"
   ]
  },
  {
   "cell_type": "code",
   "execution_count": 6,
   "metadata": {
    "execution": {
     "iopub.execute_input": "2021-12-18T09:49:24.016889Z",
     "iopub.status.busy": "2021-12-18T09:49:24.016316Z",
     "iopub.status.idle": "2021-12-18T09:49:24.018332Z",
     "shell.execute_reply": "2021-12-18T09:49:24.017951Z"
    },
    "tags": []
   },
   "outputs": [],
   "source": [
    "SB_TDH3 = pcr(p[1260], p[623], pYPK0_TEF1_ScACC1_TDH3)"
   ]
  },
  {
   "cell_type": "code",
   "execution_count": 7,
   "metadata": {
    "execution": {
     "iopub.execute_input": "2021-12-18T09:49:24.030686Z",
     "iopub.status.busy": "2021-12-18T09:49:24.030239Z",
     "iopub.status.idle": "2021-12-18T09:49:24.032362Z",
     "shell.execute_reply": "2021-12-18T09:49:24.031985Z"
    },
    "tags": []
   },
   "outputs": [],
   "source": [
    "TDH3_YA = pcr(p[1123], p[779], pYPK0_TDH3_YlACC1_PGI1)"
   ]
  },
  {
   "cell_type": "code",
   "execution_count": 8,
   "metadata": {
    "execution": {
     "iopub.execute_input": "2021-12-18T09:49:24.048261Z",
     "iopub.status.busy": "2021-12-18T09:49:24.044741Z",
     "iopub.status.idle": "2021-12-18T09:49:24.050008Z",
     "shell.execute_reply": "2021-12-18T09:49:24.050425Z"
    },
    "tags": []
   },
   "outputs": [],
   "source": [
    "YB_PGI1 = pcr(p[780], p[578], pYPK0_TDH3_YlACC1_PGI1)"
   ]
  },
  {
   "cell_type": "code",
   "execution_count": 9,
   "metadata": {
    "execution": {
     "iopub.execute_input": "2021-12-18T09:49:24.057022Z",
     "iopub.status.busy": "2021-12-18T09:49:24.056461Z",
     "iopub.status.idle": "2021-12-18T09:49:24.060176Z",
     "shell.execute_reply": "2021-12-18T09:49:24.060640Z"
    },
    "tags": []
   },
   "outputs": [],
   "source": [
    "pYPKpw = read(\"pYPKpw.gb\")"
   ]
  },
  {
   "cell_type": "code",
   "execution_count": 10,
   "metadata": {
    "execution": {
     "iopub.execute_input": "2021-12-18T09:49:24.073245Z",
     "iopub.status.busy": "2021-12-18T09:49:24.068457Z",
     "iopub.status.idle": "2021-12-18T09:49:24.076417Z",
     "shell.execute_reply": "2021-12-18T09:49:24.075959Z"
    }
   },
   "outputs": [
    {
     "data": {
      "text/plain": [
       "WeyovdMmqwA4bc9EqEwUDmbo3Lg"
      ]
     },
     "execution_count": 10,
     "metadata": {},
     "output_type": "execute_result"
    }
   ],
   "source": [
    "pYPKpw.cseguid()"
   ]
  },
  {
   "cell_type": "code",
   "execution_count": 11,
   "metadata": {
    "execution": {
     "iopub.execute_input": "2021-12-18T09:49:24.080364Z",
     "iopub.status.busy": "2021-12-18T09:49:24.079725Z",
     "iopub.status.idle": "2021-12-18T09:49:24.081992Z",
     "shell.execute_reply": "2021-12-18T09:49:24.082504Z"
    },
    "tags": []
   },
   "outputs": [],
   "source": [
    "from Bio.Restriction import EcoRV"
   ]
  },
  {
   "cell_type": "code",
   "execution_count": 12,
   "metadata": {
    "execution": {
     "iopub.execute_input": "2021-12-18T09:49:24.090683Z",
     "iopub.status.busy": "2021-12-18T09:49:24.090114Z",
     "iopub.status.idle": "2021-12-18T09:49:24.093043Z",
     "shell.execute_reply": "2021-12-18T09:49:24.092554Z"
    },
    "tags": []
   },
   "outputs": [],
   "source": [
    "pYPK_EcoRV = pYPKpw.linearize(EcoRV)"
   ]
  },
  {
   "cell_type": "code",
   "execution_count": 13,
   "metadata": {
    "execution": {
     "iopub.execute_input": "2021-12-18T09:49:24.178443Z",
     "iopub.status.busy": "2021-12-18T09:49:24.142004Z",
     "iopub.status.idle": "2021-12-18T09:49:25.834266Z",
     "shell.execute_reply": "2021-12-18T09:49:25.833873Z"
    },
    "tags": []
   },
   "outputs": [
    {
     "data": {
      "text/plain": [
       "Assembly\n",
       "fragments..: 5603bp 4181bp 4142bp 4716bp 4834bp\n",
       "limit(bp)..: 65\n",
       "G.nodes....: 10\n",
       "algorithm..: common_sub_strings"
      ]
     },
     "execution_count": 13,
     "metadata": {},
     "output_type": "execute_result"
    }
   ],
   "source": [
    "asm1 = Assembly( (pYPK_EcoRV, TEF_SA, SB_TDH3, TDH3_YA, YB_PGI1), limit=65)\n",
    "asm1"
   ]
  },
  {
   "cell_type": "code",
   "execution_count": 14,
   "metadata": {
    "execution": {
     "iopub.execute_input": "2021-12-18T09:49:25.837771Z",
     "iopub.status.busy": "2021-12-18T09:49:25.837294Z",
     "iopub.status.idle": "2021-12-18T09:49:26.035641Z",
     "shell.execute_reply": "2021-12-18T09:49:26.035124Z"
    },
    "tags": []
   },
   "outputs": [
    {
     "data": {
      "text/plain": [
       "[Contig(o22130), Contig(o22130)]"
      ]
     },
     "execution_count": 14,
     "metadata": {},
     "output_type": "execute_result"
    }
   ],
   "source": [
    "candidates1 = asm1.assemble_circular()\n",
    "candidates1"
   ]
  },
  {
   "cell_type": "code",
   "execution_count": 15,
   "metadata": {
    "execution": {
     "iopub.execute_input": "2021-12-18T09:49:26.039296Z",
     "iopub.status.busy": "2021-12-18T09:49:26.038643Z",
     "iopub.status.idle": "2021-12-18T09:49:26.041308Z",
     "shell.execute_reply": "2021-12-18T09:49:26.040795Z"
    },
    "tags": []
   },
   "outputs": [],
   "source": [
    "candidate1 = candidates1[0]"
   ]
  },
  {
   "cell_type": "code",
   "execution_count": 16,
   "metadata": {
    "execution": {
     "iopub.execute_input": "2021-12-18T09:49:26.046461Z",
     "iopub.status.busy": "2021-12-18T09:49:26.045760Z",
     "iopub.status.idle": "2021-12-18T09:49:26.048750Z",
     "shell.execute_reply": "2021-12-18T09:49:26.049198Z"
    },
    "tags": []
   },
   "outputs": [
    {
     "data": {
      "text/html": [
       "<pre> -|pYPKpw_lin|124\n",
       "|             \\/\n",
       "|             /\\\n",
       "|             124|4181bp_PCR_prod|65\n",
       "|                                 \\/\n",
       "|                                 /\\\n",
       "|                                 65|4142bp_PCR_prod|712\n",
       "|                                                    \\/\n",
       "|                                                    /\\\n",
       "|                                                    712|4716bp_PCR_prod|165\n",
       "|                                                                        \\/\n",
       "|                                                                        /\\\n",
       "|                                                                        165|4834bp_PCR_prod|242\n",
       "|                                                                                            \\/\n",
       "|                                                                                            /\\\n",
       "|                                                                                            242-\n",
       "|                                                                                               |\n",
       " -----------------------------------------------------------------------------------------------</pre>"
      ],
      "text/plain": [
       "Contig(o22130)"
      ]
     },
     "execution_count": 16,
     "metadata": {},
     "output_type": "execute_result"
    }
   ],
   "source": [
    "candidate1"
   ]
  },
  {
   "cell_type": "code",
   "execution_count": 17,
   "metadata": {
    "execution": {
     "iopub.execute_input": "2021-12-18T09:49:26.072599Z",
     "iopub.status.busy": "2021-12-18T09:49:26.071749Z",
     "iopub.status.idle": "2021-12-18T09:49:26.075728Z",
     "shell.execute_reply": "2021-12-18T09:49:26.075248Z"
    },
    "tags": []
   },
   "outputs": [
    {
     "data": {
      "text/plain": [
       "qjUTNVDOh20S0Gzq-QbmW9gZ4lA"
      ]
     },
     "execution_count": 17,
     "metadata": {},
     "output_type": "execute_result"
    }
   ],
   "source": [
    "candidate1.cseguid()"
   ]
  },
  {
   "cell_type": "code",
   "execution_count": 18,
   "metadata": {
    "execution": {
     "iopub.execute_input": "2021-12-18T09:49:26.101434Z",
     "iopub.status.busy": "2021-12-18T09:49:26.090666Z",
     "iopub.status.idle": "2021-12-18T09:49:27.201978Z",
     "shell.execute_reply": "2021-12-18T09:49:27.201424Z"
    },
    "tags": []
   },
   "outputs": [],
   "source": [
    "pYPK0_TEF1_ScACC1_TDH3_YlACC1_PGI1 = candidate1.synced(pYPKpw)"
   ]
  },
  {
   "cell_type": "code",
   "execution_count": 19,
   "metadata": {
    "execution": {
     "iopub.execute_input": "2021-12-18T09:49:27.226195Z",
     "iopub.status.busy": "2021-12-18T09:49:27.225559Z",
     "iopub.status.idle": "2021-12-18T09:49:27.228962Z",
     "shell.execute_reply": "2021-12-18T09:49:27.228506Z"
    },
    "tags": []
   },
   "outputs": [
    {
     "data": {
      "text/plain": [
       "qjUTNVDOh20S0Gzq-QbmW9gZ4lA"
      ]
     },
     "execution_count": 19,
     "metadata": {},
     "output_type": "execute_result"
    }
   ],
   "source": [
    "pYPK0_TEF1_ScACC1_TDH3_YlACC1_PGI1.cseguid()"
   ]
  },
  {
   "cell_type": "code",
   "execution_count": 20,
   "metadata": {
    "execution": {
     "iopub.execute_input": "2021-12-18T09:49:27.246218Z",
     "iopub.status.busy": "2021-12-18T09:49:27.241597Z",
     "iopub.status.idle": "2021-12-18T09:49:27.252409Z",
     "shell.execute_reply": "2021-12-18T09:49:27.251927Z"
    },
    "tags": []
   },
   "outputs": [],
   "source": [
    "assert pYPK0_TEF1_ScACC1_TDH3_YlACC1_PGI1.cseguid() == \"qjUTNVDOh20S0Gzq-QbmW9gZ4lA\""
   ]
  },
  {
   "cell_type": "code",
   "execution_count": 21,
   "metadata": {
    "execution": {
     "iopub.execute_input": "2021-12-18T09:49:27.256439Z",
     "iopub.status.busy": "2021-12-18T09:49:27.255617Z",
     "iopub.status.idle": "2021-12-18T09:49:27.258735Z",
     "shell.execute_reply": "2021-12-18T09:49:27.258078Z"
    },
    "tags": []
   },
   "outputs": [],
   "source": [
    "pYPK0_TEF1_ScACC1_TDH3_YlACC1_PGI1.description = \"pYPK0_TEF1_ScACC1_TDH3_YlACC1_PGI1\""
   ]
  },
  {
   "cell_type": "code",
   "execution_count": 22,
   "metadata": {
    "execution": {
     "iopub.execute_input": "2021-12-18T09:49:27.282132Z",
     "iopub.status.busy": "2021-12-18T09:49:27.281452Z",
     "iopub.status.idle": "2021-12-18T09:49:27.284386Z",
     "shell.execute_reply": "2021-12-18T09:49:27.283988Z"
    },
    "tags": []
   },
   "outputs": [
    {
     "data": {
      "text/plain": [
       "cSEGUID_qjUTNVDOh20S0Gzq-QbmW9gZ4lA"
      ]
     },
     "execution_count": 22,
     "metadata": {},
     "output_type": "execute_result"
    }
   ],
   "source": [
    "pYPK0_TEF1_ScACC1_TDH3_YlACC1_PGI1.stamp()"
   ]
  },
  {
   "cell_type": "code",
   "execution_count": 23,
   "metadata": {
    "execution": {
     "iopub.execute_input": "2021-12-18T09:49:27.288149Z",
     "iopub.status.busy": "2021-12-18T09:49:27.287317Z",
     "iopub.status.idle": "2021-12-18T09:49:27.290854Z",
     "shell.execute_reply": "2021-12-18T09:49:27.291581Z"
    },
    "tags": []
   },
   "outputs": [],
   "source": [
    "pYPK0_TEF1_ScACC1_TDH3_YlACC1_PGI1.name = \"π41\""
   ]
  },
  {
   "cell_type": "code",
   "execution_count": 24,
   "metadata": {
    "execution": {
     "iopub.execute_input": "2021-12-18T09:49:27.306885Z",
     "iopub.status.busy": "2021-12-18T09:49:27.295187Z",
     "iopub.status.idle": "2021-12-18T09:49:27.324909Z",
     "shell.execute_reply": "2021-12-18T09:49:27.325263Z"
    },
    "tags": []
   },
   "outputs": [
    {
     "data": {
      "text/html": [
       "<font face=monospace><a href='pYPK0_TEF1_ScACC1_TDH3_YlACC1_PGI1.gb' target='_blank'>pYPK0_TEF1_ScACC1_TDH3_YlACC1_PGI1.gb</a></font><br>"
      ]
     },
     "metadata": {},
     "output_type": "display_data"
    }
   ],
   "source": [
    "pYPK0_TEF1_ScACC1_TDH3_YlACC1_PGI1.write(\"pYPK0_TEF1_ScACC1_TDH3_YlACC1_PGI1.gb\")"
   ]
  }
 ],
 "metadata": {
  "anaconda-cloud": {},
  "kernelspec": {
   "display_name": "Python [conda env:bjorn39]",
   "language": "python",
   "name": "conda-env-bjorn39-py"
  },
  "language_info": {
   "codemirror_mode": {
    "name": "ipython",
    "version": 3
   },
   "file_extension": ".py",
   "mimetype": "text/x-python",
   "name": "python",
   "nbconvert_exporter": "python",
   "pygments_lexer": "ipython3",
   "version": "3.9.7"
  }
 },
 "nbformat": 4,
 "nbformat_minor": 4
}
