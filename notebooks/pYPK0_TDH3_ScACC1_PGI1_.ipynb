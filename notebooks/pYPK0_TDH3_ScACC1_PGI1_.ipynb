{
 "cells": [
  {
   "cell_type": "markdown",
   "id": "5730c61a",
   "metadata": {},
   "source": [
    "# pYPK0_TDH3_ScACC1_PGI1\n",
    "\n",
    "This notebook describes the assembly of a single gene expression vector."
   ]
  },
  {
   "cell_type": "code",
   "execution_count": 1,
   "id": "f9117c94",
   "metadata": {
    "execution": {
     "iopub.execute_input": "2021-12-18T09:49:09.370133Z",
     "iopub.status.busy": "2021-12-18T09:49:09.369358Z",
     "iopub.status.idle": "2021-12-18T09:49:09.864377Z",
     "shell.execute_reply": "2021-12-18T09:49:09.863330Z"
    }
   },
   "outputs": [],
   "source": [
    "from pydna.amplify import pcr\n",
    "from pydna.assembly import Assembly\n",
    "\n",
    "from pydna.readers import read\n",
    "from pydna.parsers import parse_primers"
   ]
  },
  {
   "cell_type": "markdown",
   "id": "5834ae4f",
   "metadata": {},
   "source": [
    "The backbone vector [pYPKpw](pYPKpw.gb) is read from a local file in the code cell below.\n",
    "There is a notebook describing its construction [here](https://github.com/MetabolicEngineeringGroupCBMA/ypk-xylose-pathways/blob/master/notebooks/pYPKpw.ipynb)."
   ]
  },
  {
   "cell_type": "code",
   "execution_count": 2,
   "id": "e2179183",
   "metadata": {
    "execution": {
     "iopub.execute_input": "2021-12-18T09:49:09.878735Z",
     "iopub.status.busy": "2021-12-18T09:49:09.874309Z",
     "iopub.status.idle": "2021-12-18T09:49:09.895916Z",
     "shell.execute_reply": "2021-12-18T09:49:09.896338Z"
    },
    "lines_to_next_cell": 2
   },
   "outputs": [],
   "source": [
    "pYPKpw = read(\"pYPKpw.gb\")"
   ]
  },
  {
   "cell_type": "code",
   "execution_count": 3,
   "id": "bb5b3ecd",
   "metadata": {
    "execution": {
     "iopub.execute_input": "2021-12-18T09:49:09.913029Z",
     "iopub.status.busy": "2021-12-18T09:49:09.906113Z",
     "iopub.status.idle": "2021-12-18T09:49:09.916854Z",
     "shell.execute_reply": "2021-12-18T09:49:09.917293Z"
    },
    "lines_to_next_cell": 2
   },
   "outputs": [
    {
     "data": {
      "text/plain": [
       "WeyovdMmqwA4bc9EqEwUDmbo3Lg"
      ]
     },
     "execution_count": 3,
     "metadata": {},
     "output_type": "execute_result"
    }
   ],
   "source": [
    "pYPKpw.cseguid()"
   ]
  },
  {
   "cell_type": "code",
   "execution_count": 4,
   "id": "7b0caba0",
   "metadata": {
    "execution": {
     "iopub.execute_input": "2021-12-18T09:49:09.924828Z",
     "iopub.status.busy": "2021-12-18T09:49:09.923730Z",
     "iopub.status.idle": "2021-12-18T09:49:09.927054Z",
     "shell.execute_reply": "2021-12-18T09:49:09.927642Z"
    },
    "lines_to_next_cell": 2
   },
   "outputs": [
    {
     "data": {
      "text/plain": [
       "5603"
      ]
     },
     "execution_count": 4,
     "metadata": {},
     "output_type": "execute_result"
    }
   ],
   "source": [
    "len(pYPKpw)"
   ]
  },
  {
   "cell_type": "code",
   "execution_count": 5,
   "id": "d3d93049",
   "metadata": {
    "execution": {
     "iopub.execute_input": "2021-12-18T09:49:09.933083Z",
     "iopub.status.busy": "2021-12-18T09:49:09.932059Z",
     "iopub.status.idle": "2021-12-18T09:49:09.934088Z",
     "shell.execute_reply": "2021-12-18T09:49:09.934567Z"
    },
    "lines_to_next_cell": 2
   },
   "outputs": [],
   "source": [
    "from Bio.Restriction import EcoRV"
   ]
  },
  {
   "cell_type": "code",
   "execution_count": 6,
   "id": "3f6eb760",
   "metadata": {
    "execution": {
     "iopub.execute_input": "2021-12-18T09:49:09.941816Z",
     "iopub.status.busy": "2021-12-18T09:49:09.941206Z",
     "iopub.status.idle": "2021-12-18T09:49:09.943294Z",
     "shell.execute_reply": "2021-12-18T09:49:09.943770Z"
    },
    "lines_to_next_cell": 2
   },
   "outputs": [],
   "source": [
    "pYPK_EcoRV = pYPKpw.linearize(EcoRV)"
   ]
  },
  {
   "cell_type": "code",
   "execution_count": 7,
   "id": "7f51fdaf",
   "metadata": {
    "execution": {
     "iopub.execute_input": "2021-12-18T09:49:09.948146Z",
     "iopub.status.busy": "2021-12-18T09:49:09.947476Z",
     "iopub.status.idle": "2021-12-18T09:49:09.950511Z",
     "shell.execute_reply": "2021-12-18T09:49:09.951132Z"
    }
   },
   "outputs": [
    {
     "data": {
      "text/plain": [
       "Dseqrecord(-5603)"
      ]
     },
     "execution_count": 7,
     "metadata": {},
     "output_type": "execute_result"
    }
   ],
   "source": [
    "pYPK_EcoRV"
   ]
  },
  {
   "cell_type": "markdown",
   "id": "a5139040",
   "metadata": {},
   "source": [
    "The pYPKa derived _E. coli_ plasmids containing the [promoter](pYPKa_Z_TDH3tp.gb) and [terminator](pYPKa_E_PGI1tp.gb) \n",
    "as well as the [gene template](GAL2.gb) sequence are read into three variables in the code cell below."
   ]
  },
  {
   "cell_type": "code",
   "execution_count": 8,
   "id": "ca38640e",
   "metadata": {
    "execution": {
     "iopub.execute_input": "2021-12-18T09:49:09.957101Z",
     "iopub.status.busy": "2021-12-18T09:49:09.956314Z",
     "iopub.status.idle": "2021-12-18T09:49:09.962042Z",
     "shell.execute_reply": "2021-12-18T09:49:09.961538Z"
    },
    "lines_to_next_cell": 2
   },
   "outputs": [],
   "source": [
    "promoter_template = read(\"pYPKa_Z_TDH3.gb\")"
   ]
  },
  {
   "cell_type": "code",
   "execution_count": 9,
   "id": "06ed0561",
   "metadata": {
    "execution": {
     "iopub.execute_input": "2021-12-18T09:49:09.976264Z",
     "iopub.status.busy": "2021-12-18T09:49:09.965252Z",
     "iopub.status.idle": "2021-12-18T09:49:09.978709Z",
     "shell.execute_reply": "2021-12-18T09:49:09.978168Z"
    },
    "lines_to_next_cell": 2
   },
   "outputs": [],
   "source": [
    "gene_template = read(\"pYPK0_TEF1_ScACC1_TDH3.gb\")"
   ]
  },
  {
   "cell_type": "code",
   "execution_count": 10,
   "id": "003f971e",
   "metadata": {
    "execution": {
     "iopub.execute_input": "2021-12-18T09:49:09.985505Z",
     "iopub.status.busy": "2021-12-18T09:49:09.984864Z",
     "iopub.status.idle": "2021-12-18T09:49:09.988027Z",
     "shell.execute_reply": "2021-12-18T09:49:09.987593Z"
    }
   },
   "outputs": [],
   "source": [
    "terminator_template = read(\"pYPKa_E_PGI1.gb\")"
   ]
  },
  {
   "cell_type": "markdown",
   "id": "baa0e10d",
   "metadata": {},
   "source": [
    "The construction of the pYPKa_Z_TDH3 and the pYPKa_E_PGI1 vectors above are described in the notebooks available here:\n",
    "\n",
    "- [pYPKa_Z_TDH3](https://github.com/MetabolicEngineeringGroupCBMA/pYPKa_ZE/blob/master/notebooks/pYPKa_ZE_TDH3.ipynb) \n",
    "- [pYPKa_E_PGI1](https://github.com/MetabolicEngineeringGroupCBMA/ypk-xylose-pathways/blob/master/notebooks/pYPKa_E_PGI1.ipynb)\n",
    "\n",
    "Suggested PCR program can be found at the end of this document.\n",
    " \n",
    "The promoter is amplified with primers 577 and 567 from the standard primer set:"
   ]
  },
  {
   "cell_type": "code",
   "execution_count": 11,
   "id": "accd2490",
   "metadata": {
    "execution": {
     "iopub.execute_input": "2021-12-18T09:49:09.992941Z",
     "iopub.status.busy": "2021-12-18T09:49:09.992449Z",
     "iopub.status.idle": "2021-12-18T09:49:09.996138Z",
     "shell.execute_reply": "2021-12-18T09:49:09.995436Z"
    },
    "lines_to_next_cell": 2
   },
   "outputs": [],
   "source": [
    "p = {}\n",
    "p[577], p[567], p[468], p[1259], p[1260], p[467], p[568], p[578] = parse_primers('''\n",
    "\n",
    ">577_crp585-557 (29-mer)\n",
    "gttctgatcctcgagcatcttaagaattc\n",
    "\n",
    ">567_pCAPsAjiIF (23-mer)\n",
    "GTCggctgcaggtcactagtgag\n",
    "\n",
    ">468_pCAPs_release_fw (25-mer) 79.66 same as 560\n",
    "gtcgaggaacgccaggttgcccact\n",
    "\n",
    ">1259_ScACC1middleRV\n",
    "CCTTCGTGAACTCTAATATCTCC\n",
    "\n",
    ">1260_ScACC1middleFW\n",
    "GCTCAAGTCTATATTCGTCG\n",
    "\n",
    ">467_pCAPs_release_re (31-mer)\n",
    "ATTTAAatcctgatgcgtttgtctgcacaga\n",
    "\n",
    ">568_pCAPsAjiIR (22-mer)\n",
    "GTGCcatctgtgcagacaaacg\n",
    "\n",
    ">578_crp42-70 (29-mer)\n",
    "gttcttgtctcattgccacattcataagt\n",
    "\n",
    "''')"
   ]
  },
  {
   "cell_type": "code",
   "execution_count": 12,
   "id": "0edb8ab5",
   "metadata": {
    "execution": {
     "iopub.execute_input": "2021-12-18T09:49:10.005026Z",
     "iopub.status.busy": "2021-12-18T09:49:10.004105Z",
     "iopub.status.idle": "2021-12-18T09:49:10.010193Z",
     "shell.execute_reply": "2021-12-18T09:49:10.010638Z"
    },
    "lines_to_next_cell": 2
   },
   "outputs": [],
   "source": [
    "promoter = pcr(p[577], p[567], promoter_template)"
   ]
  },
  {
   "cell_type": "code",
   "execution_count": 13,
   "id": "7d057ed5",
   "metadata": {
    "execution": {
     "iopub.execute_input": "2021-12-18T09:49:10.030036Z",
     "iopub.status.busy": "2021-12-18T09:49:10.029064Z",
     "iopub.status.idle": "2021-12-18T09:49:10.032980Z",
     "shell.execute_reply": "2021-12-18T09:49:10.033411Z"
    },
    "lines_to_next_cell": 2
   },
   "outputs": [],
   "source": [
    "gene_a = pcr(p[468], p[1259], gene_template)"
   ]
  },
  {
   "cell_type": "code",
   "execution_count": 14,
   "id": "3b9f8312",
   "metadata": {
    "execution": {
     "iopub.execute_input": "2021-12-18T09:49:10.051583Z",
     "iopub.status.busy": "2021-12-18T09:49:10.050313Z",
     "iopub.status.idle": "2021-12-18T09:49:10.055566Z",
     "shell.execute_reply": "2021-12-18T09:49:10.056583Z"
    },
    "lines_to_next_cell": 2
   },
   "outputs": [],
   "source": [
    "gene_b = pcr(p[1260], p[467], gene_template)"
   ]
  },
  {
   "cell_type": "code",
   "execution_count": 15,
   "id": "2ffaf4bf",
   "metadata": {
    "execution": {
     "iopub.execute_input": "2021-12-18T09:49:10.070374Z",
     "iopub.status.busy": "2021-12-18T09:49:10.069683Z",
     "iopub.status.idle": "2021-12-18T09:49:10.073339Z",
     "shell.execute_reply": "2021-12-18T09:49:10.072730Z"
    },
    "lines_to_next_cell": 2
   },
   "outputs": [],
   "source": [
    "terminator = pcr(p[568], p[578], terminator_template)"
   ]
  },
  {
   "cell_type": "code",
   "execution_count": 16,
   "id": "979ca261",
   "metadata": {
    "execution": {
     "iopub.execute_input": "2021-12-18T09:49:10.077674Z",
     "iopub.status.busy": "2021-12-18T09:49:10.077112Z",
     "iopub.status.idle": "2021-12-18T09:49:10.079741Z",
     "shell.execute_reply": "2021-12-18T09:49:10.079229Z"
    }
   },
   "outputs": [],
   "source": [
    "promoter.name = \"TDH3_promoter\"\n",
    "gene_a.name = \"ScACC1a\"\n",
    "gene_b.name = \"ScACC1b\"\n",
    "terminator.name = \"PGI1_terminator\""
   ]
  },
  {
   "cell_type": "markdown",
   "id": "a1de5e1f",
   "metadata": {},
   "source": [
    "The four linear DNA fragments are mixed and transformed\n",
    "to a _Saccharomyces cerevisiae_ ura3 mutant.\n",
    " \n",
    "The fragments assemble by _in-vivo_ [homologous recombination](http://www.ncbi.nlm.nih.gov/pubmed/2828185):"
   ]
  },
  {
   "cell_type": "code",
   "execution_count": 17,
   "id": "9b558838",
   "metadata": {
    "execution": {
     "iopub.execute_input": "2021-12-18T09:49:10.117611Z",
     "iopub.status.busy": "2021-12-18T09:49:10.116681Z",
     "iopub.status.idle": "2021-12-18T09:49:11.270256Z",
     "shell.execute_reply": "2021-12-18T09:49:11.269730Z"
    },
    "lines_to_next_cell": 2
   },
   "outputs": [
    {
     "data": {
      "text/plain": [
       "Assembly\n",
       "fragments..: 5603bp 930bp 3420bp 3436bp 1339bp\n",
       "limit(bp)..: 31\n",
       "G.nodes....: 10\n",
       "algorithm..: common_sub_strings"
      ]
     },
     "execution_count": 17,
     "metadata": {},
     "output_type": "execute_result"
    }
   ],
   "source": [
    "asm = Assembly( (pYPK_EcoRV, promoter, gene_a, gene_b, terminator), limit=31)\n",
    "asm"
   ]
  },
  {
   "cell_type": "code",
   "execution_count": 18,
   "id": "da35efe4",
   "metadata": {
    "execution": {
     "iopub.execute_input": "2021-12-18T09:49:11.274812Z",
     "iopub.status.busy": "2021-12-18T09:49:11.273566Z",
     "iopub.status.idle": "2021-12-18T09:49:11.495535Z",
     "shell.execute_reply": "2021-12-18T09:49:11.494843Z"
    },
    "lines_to_next_cell": 2
   },
   "outputs": [
    {
     "data": {
      "text/plain": [
       "[Contig(o14191), Contig(o14191)]"
      ]
     },
     "execution_count": 18,
     "metadata": {},
     "output_type": "execute_result"
    }
   ],
   "source": [
    "candidates = asm.assemble_circular()\n",
    "candidates"
   ]
  },
  {
   "cell_type": "code",
   "execution_count": 19,
   "id": "8e7520c1",
   "metadata": {
    "execution": {
     "iopub.execute_input": "2021-12-18T09:49:11.500181Z",
     "iopub.status.busy": "2021-12-18T09:49:11.499495Z",
     "iopub.status.idle": "2021-12-18T09:49:11.501649Z",
     "shell.execute_reply": "2021-12-18T09:49:11.501107Z"
    },
    "lines_to_next_cell": 2
   },
   "outputs": [],
   "source": [
    "candidate = candidates[0]"
   ]
  },
  {
   "cell_type": "code",
   "execution_count": 20,
   "id": "778932e5",
   "metadata": {
    "execution": {
     "iopub.execute_input": "2021-12-18T09:49:11.505983Z",
     "iopub.status.busy": "2021-12-18T09:49:11.505291Z",
     "iopub.status.idle": "2021-12-18T09:49:11.509389Z",
     "shell.execute_reply": "2021-12-18T09:49:11.508812Z"
    },
    "lines_to_next_cell": 2
   },
   "outputs": [
    {
     "data": {
      "text/plain": [
       "14191"
      ]
     },
     "execution_count": 20,
     "metadata": {},
     "output_type": "execute_result"
    }
   ],
   "source": [
    "len(candidate)"
   ]
  },
  {
   "cell_type": "code",
   "execution_count": 21,
   "id": "ce53d2a7",
   "metadata": {
    "execution": {
     "iopub.execute_input": "2021-12-18T09:49:11.535512Z",
     "iopub.status.busy": "2021-12-18T09:49:11.517140Z",
     "iopub.status.idle": "2021-12-18T09:49:11.540858Z",
     "shell.execute_reply": "2021-12-18T09:49:11.540133Z"
    },
    "lines_to_next_cell": 2
   },
   "outputs": [
    {
     "data": {
      "text/plain": [
       "7MkGmcA9Lo4o9AeCElVYUwEFFs0"
      ]
     },
     "execution_count": 21,
     "metadata": {},
     "output_type": "execute_result"
    }
   ],
   "source": [
    "candidate.cseguid()"
   ]
  },
  {
   "cell_type": "code",
   "execution_count": 22,
   "id": "7024ae70",
   "metadata": {
    "execution": {
     "iopub.execute_input": "2021-12-18T09:49:11.545026Z",
     "iopub.status.busy": "2021-12-18T09:49:11.544423Z",
     "iopub.status.idle": "2021-12-18T09:49:11.547522Z",
     "shell.execute_reply": "2021-12-18T09:49:11.547013Z"
    },
    "lines_to_next_cell": 2
   },
   "outputs": [
    {
     "data": {
      "text/html": [
       "<pre> -|pYPKpw_lin|124\n",
       "|             \\/\n",
       "|             /\\\n",
       "|             124|TDH3_promoter|50\n",
       "|                               \\/\n",
       "|                               /\\\n",
       "|                               50|ScACC1a|65\n",
       "|                                          \\/\n",
       "|                                          /\\\n",
       "|                                          65|ScACC1b|37\n",
       "|                                                     \\/\n",
       "|                                                     /\\\n",
       "|                                                     37|PGI1_terminator|242\n",
       "|                                                                        \\/\n",
       "|                                                                        /\\\n",
       "|                                                                        242-\n",
       "|                                                                           |\n",
       " ---------------------------------------------------------------------------</pre>"
      ],
      "text/plain": [
       "Contig(o14191)"
      ]
     },
     "execution_count": 22,
     "metadata": {},
     "output_type": "execute_result"
    }
   ],
   "source": [
    "candidate"
   ]
  },
  {
   "cell_type": "code",
   "execution_count": 23,
   "id": "2776a9c9",
   "metadata": {
    "execution": {
     "iopub.execute_input": "2021-12-18T09:49:11.612943Z",
     "iopub.status.busy": "2021-12-18T09:49:11.597279Z",
     "iopub.status.idle": "2021-12-18T09:49:12.332032Z",
     "shell.execute_reply": "2021-12-18T09:49:12.332515Z"
    },
    "lines_to_next_cell": 2
   },
   "outputs": [],
   "source": [
    "pYPK0_TDH3_ScACC1_PGI1 = candidate.synced(pYPKpw)"
   ]
  },
  {
   "cell_type": "code",
   "execution_count": 24,
   "id": "636bbfa7",
   "metadata": {
    "execution": {
     "iopub.execute_input": "2021-12-18T09:49:12.350443Z",
     "iopub.status.busy": "2021-12-18T09:49:12.349595Z",
     "iopub.status.idle": "2021-12-18T09:49:12.352078Z",
     "shell.execute_reply": "2021-12-18T09:49:12.352425Z"
    },
    "lines_to_next_cell": 2
   },
   "outputs": [
    {
     "data": {
      "text/plain": [
       "cSEGUID_7MkGmcA9Lo4o9AeCElVYUwEFFs0"
      ]
     },
     "execution_count": 24,
     "metadata": {},
     "output_type": "execute_result"
    }
   ],
   "source": [
    "pYPK0_TDH3_ScACC1_PGI1.stamp()"
   ]
  },
  {
   "cell_type": "code",
   "execution_count": 25,
   "id": "b6d19504",
   "metadata": {
    "execution": {
     "iopub.execute_input": "2021-12-18T09:49:12.355677Z",
     "iopub.status.busy": "2021-12-18T09:49:12.355215Z",
     "iopub.status.idle": "2021-12-18T09:49:12.357616Z",
     "shell.execute_reply": "2021-12-18T09:49:12.357232Z"
    },
    "lines_to_next_cell": 2
   },
   "outputs": [],
   "source": [
    "pYPK0_TDH3_ScACC1_PGI1.name = \"pYPK0_TDH3_ScACC1_PGI1\""
   ]
  },
  {
   "cell_type": "code",
   "execution_count": 26,
   "id": "dcf44599",
   "metadata": {
    "execution": {
     "iopub.execute_input": "2021-12-18T09:49:12.364398Z",
     "iopub.status.busy": "2021-12-18T09:49:12.363302Z",
     "iopub.status.idle": "2021-12-18T09:49:12.382033Z",
     "shell.execute_reply": "2021-12-18T09:49:12.381549Z"
    },
    "tags": []
   },
   "outputs": [
    {
     "data": {
      "text/html": [
       "<font face=monospace><a href='pYPK0_TDH3_ScACC1_PGI1.gb' target='_blank'>pYPK0_TDH3_ScACC1_PGI1.gb</a></font><br>"
      ]
     },
     "metadata": {},
     "output_type": "display_data"
    }
   ],
   "source": [
    "pYPK0_TDH3_ScACC1_PGI1.write(\"pYPK0_TDH3_ScACC1_PGI1.gb\")"
   ]
  }
 ],
 "metadata": {
  "jupytext": {
   "cell_metadata_filter": "-all",
   "encoding": "# coding: utf-8",
   "executable": "/usr/bin/env python",
   "main_language": "python",
   "notebook_metadata_filter": "-all"
  },
  "kernelspec": {
   "display_name": "Python [conda env:bjorn39]",
   "language": "python",
   "name": "conda-env-bjorn39-py"
  },
  "language_info": {
   "codemirror_mode": {
    "name": "ipython",
    "version": 3
   },
   "file_extension": ".py",
   "mimetype": "text/x-python",
   "name": "python",
   "nbconvert_exporter": "python",
   "pygments_lexer": "ipython3",
   "version": "3.9.7"
  }
 },
 "nbformat": 4,
 "nbformat_minor": 5
}
