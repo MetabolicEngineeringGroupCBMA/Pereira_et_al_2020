{
 "cells": [
  {
   "cell_type": "markdown",
   "metadata": {},
   "source": [
    "## Construction of the AccTet condiditional ACC1 strain\n",
    "\n",
    "The ACC1 promoter in _Saccharomyces cerevisiae_ [CEN.PK2-1C](https://wiki.yeastgenome.org/index.php/Commonly_used_strains#CEN.PK_.28aka_CEN.PK2.29) \n",
    "was replaced with the loxP-KanMX4-loxP-TDH3p-tc-3xHA cassette as described by [Kötter et al., 2009](https://pubmed.ncbi.nlm.nih.gov/19592423) and the resulting strain was designated AccTet.\n",
    "\n",
    "![figure2](references/kötter_figure_2.png)\n",
    "\n",
    "The figure above is reproduced from Kötter et al., 2009 (Figure 2), outlining the integration of the cassette. Briefly, the promoter cassette was amplified with two primers providing flanking homology to the ACC1 promoter locus. The cassette was transformed and integrated through homologous recombination. The cassette has a KanMX4 resistance gene for selection by G418 resistance.\n",
    "\n",
    "This process is simulated below using [pydna](https://github.com/BjornFJohansson/pydna)."
   ]
  },
  {
   "cell_type": "code",
   "execution_count": 1,
   "metadata": {
    "execution": {
     "iopub.execute_input": "2021-12-18T09:48:54.252340Z",
     "iopub.status.busy": "2021-12-18T09:48:54.251669Z",
     "iopub.status.idle": "2021-12-18T09:48:54.594246Z",
     "shell.execute_reply": "2021-12-18T09:48:54.593652Z"
    },
    "tags": []
   },
   "outputs": [],
   "source": [
    "from pydna.readers import read"
   ]
  },
  {
   "cell_type": "markdown",
   "metadata": {},
   "source": [
    "The sequence of the cassette vector  was obtained from the Euroscarf [website](http://www.euroscarf.de/plasmid_details.php?accno=P30601). \n",
    "The data file does not conform to the genbank format and was therefore modified. Copies of the original sequence are available in the data subdirectory:\n",
    "\n",
    "- P30601 (2016-02-25 13_04_51).dna\n",
    "- P30601 (2016-02-25 13_04_51).pdf\n"
   ]
  },
  {
   "cell_type": "code",
   "execution_count": 2,
   "metadata": {
    "execution": {
     "iopub.execute_input": "2021-12-18T09:48:54.605075Z",
     "iopub.status.busy": "2021-12-18T09:48:54.604448Z",
     "iopub.status.idle": "2021-12-18T09:48:54.616679Z",
     "shell.execute_reply": "2021-12-18T09:48:54.616011Z"
    },
    "tags": []
   },
   "outputs": [],
   "source": [
    "pTDH3_tc3_6xHA = read(\"pTDH3-tc3-6xHA_fixed_features.gb\")"
   ]
  },
  {
   "cell_type": "code",
   "execution_count": 3,
   "metadata": {
    "execution": {
     "iopub.execute_input": "2021-12-18T09:48:54.628995Z",
     "iopub.status.busy": "2021-12-18T09:48:54.628239Z",
     "iopub.status.idle": "2021-12-18T09:48:54.632081Z",
     "shell.execute_reply": "2021-12-18T09:48:54.632551Z"
    }
   },
   "outputs": [
    {
     "data": {
      "text/plain": [
       "5128"
      ]
     },
     "execution_count": 3,
     "metadata": {},
     "output_type": "execute_result"
    }
   ],
   "source": [
    "len(pTDH3_tc3_6xHA)"
   ]
  },
  {
   "cell_type": "code",
   "execution_count": 4,
   "metadata": {
    "execution": {
     "iopub.execute_input": "2021-12-18T09:48:54.643242Z",
     "iopub.status.busy": "2021-12-18T09:48:54.640593Z",
     "iopub.status.idle": "2021-12-18T09:48:54.647093Z",
     "shell.execute_reply": "2021-12-18T09:48:54.646641Z"
    }
   },
   "outputs": [
    {
     "data": {
      "text/plain": [
       "p3pOj7aEs3k2Tao2bvCZyZ4jDN8"
      ]
     },
     "execution_count": 4,
     "metadata": {},
     "output_type": "execute_result"
    }
   ],
   "source": [
    "pTDH3_tc3_6xHA.cseguid()"
   ]
  },
  {
   "cell_type": "code",
   "execution_count": 5,
   "metadata": {
    "execution": {
     "iopub.execute_input": "2021-12-18T09:48:54.650651Z",
     "iopub.status.busy": "2021-12-18T09:48:54.650065Z",
     "iopub.status.idle": "2021-12-18T09:48:54.652900Z",
     "shell.execute_reply": "2021-12-18T09:48:54.652500Z"
    },
    "tags": []
   },
   "outputs": [
    {
     "data": {
      "text/html": [
       "<a href='pTDH3-tc3-6xHA_fixed_features.gb' target='_blank'>pTDH3-tc3-6xHA_fixed_features.gb</a><br>"
      ],
      "text/plain": [
       "File(pTDH3-tc3-6xHA)(o5128)"
      ]
     },
     "execution_count": 5,
     "metadata": {},
     "output_type": "execute_result"
    }
   ],
   "source": [
    "pTDH3_tc3_6xHA"
   ]
  },
  {
   "cell_type": "code",
   "execution_count": 6,
   "metadata": {
    "execution": {
     "iopub.execute_input": "2021-12-18T09:48:54.656886Z",
     "iopub.status.busy": "2021-12-18T09:48:54.656061Z",
     "iopub.status.idle": "2021-12-18T09:48:54.658666Z",
     "shell.execute_reply": "2021-12-18T09:48:54.658012Z"
    },
    "tags": []
   },
   "outputs": [],
   "source": [
    "from pydna.parsers import parse_primers"
   ]
  },
  {
   "cell_type": "code",
   "execution_count": 7,
   "metadata": {
    "execution": {
     "iopub.execute_input": "2021-12-18T09:48:54.663552Z",
     "iopub.status.busy": "2021-12-18T09:48:54.663070Z",
     "iopub.status.idle": "2021-12-18T09:48:54.664690Z",
     "shell.execute_reply": "2021-12-18T09:48:54.665050Z"
    },
    "tags": []
   },
   "outputs": [],
   "source": [
    "p = {}\n",
    "p[671], p[670] = parse_primers(\"\"\"\n",
    ">671_sc_acc1-Tc2: (83-mer)\n",
    "CGATACGATACGACACGATACGATACGACACGCTACTATAGCATAGGCCACTAGTGGATCTG\n",
    "\n",
    ">670_sc_acc1-Tc1B: (82-mer)\n",
    "CCATCTTCTGTGGAGAAGACTCGAATAAGCTTTCTTCGCTCATATGTTCTCGAGGCCTAGG\n",
    "\"\"\")\n"
   ]
  },
  {
   "cell_type": "code",
   "execution_count": 8,
   "metadata": {
    "execution": {
     "iopub.execute_input": "2021-12-18T09:48:54.669300Z",
     "iopub.status.busy": "2021-12-18T09:48:54.668516Z",
     "iopub.status.idle": "2021-12-18T09:48:54.672937Z",
     "shell.execute_reply": "2021-12-18T09:48:54.673593Z"
    },
    "tags": []
   },
   "outputs": [],
   "source": [
    "from pydna.amplify import pcr"
   ]
  },
  {
   "cell_type": "code",
   "execution_count": 9,
   "metadata": {
    "execution": {
     "iopub.execute_input": "2021-12-18T09:48:54.683369Z",
     "iopub.status.busy": "2021-12-18T09:48:54.682759Z",
     "iopub.status.idle": "2021-12-18T09:48:54.690336Z",
     "shell.execute_reply": "2021-12-18T09:48:54.690820Z"
    },
    "tags": []
   },
   "outputs": [],
   "source": [
    "promoter_cassette = pcr(p[671], p[670], pTDH3_tc3_6xHA)"
   ]
  },
  {
   "cell_type": "code",
   "execution_count": 10,
   "metadata": {
    "execution": {
     "iopub.execute_input": "2021-12-18T09:48:54.695662Z",
     "iopub.status.busy": "2021-12-18T09:48:54.694928Z",
     "iopub.status.idle": "2021-12-18T09:48:54.697134Z",
     "shell.execute_reply": "2021-12-18T09:48:54.697705Z"
    }
   },
   "outputs": [],
   "source": [
    "promoter_cassette.name = \"promoter_cassette\""
   ]
  },
  {
   "cell_type": "code",
   "execution_count": 11,
   "metadata": {
    "execution": {
     "iopub.execute_input": "2021-12-18T09:48:54.715357Z",
     "iopub.status.busy": "2021-12-18T09:48:54.705589Z",
     "iopub.status.idle": "2021-12-18T09:48:54.725461Z",
     "shell.execute_reply": "2021-12-18T09:48:54.724924Z"
    },
    "tags": []
   },
   "outputs": [
    {
     "data": {
      "text/html": [
       "<table>\n",
       "    <thead>\n",
       "        <tr>\n",
       "            <th>Ft#</th>\n",
       "            <th>Label or Note</th>\n",
       "            <th>Dir</th>\n",
       "            <th>Sta</th>\n",
       "            <th>End</th>\n",
       "            <th>Len</th>\n",
       "            <th>type</th>\n",
       "            <th>orf?</th>\n",
       "        </tr>\n",
       "    </thead>\n",
       "    <tbody>\n",
       "        <tr>\n",
       "            <td>0</td>\n",
       "            <td>L:671_sc_acc1-Tc</td>\n",
       "            <td>--&gt;</td>\n",
       "            <td>40</td>\n",
       "            <td>62</td>\n",
       "            <td>22</td>\n",
       "            <td>primer_bind</td>\n",
       "            <td>no</td>\n",
       "        </tr>\n",
       "        <tr>\n",
       "            <td>1</td>\n",
       "            <td>L:loxP</td>\n",
       "            <td>&lt;--</td>\n",
       "            <td>72</td>\n",
       "            <td>106</td>\n",
       "            <td>34</td>\n",
       "            <td>primer_bind</td>\n",
       "            <td>no</td>\n",
       "        </tr>\n",
       "        <tr>\n",
       "            <td>2</td>\n",
       "            <td>L:TEF-terminator</td>\n",
       "            <td>&lt;--</td>\n",
       "            <td>131</td>\n",
       "            <td>371</td>\n",
       "            <td>240</td>\n",
       "            <td>terminator</td>\n",
       "            <td>no</td>\n",
       "        </tr>\n",
       "        <tr>\n",
       "            <td>3</td>\n",
       "            <td>L:KanR</td>\n",
       "            <td>&lt;--</td>\n",
       "            <td>371</td>\n",
       "            <td>1181</td>\n",
       "            <td>810</td>\n",
       "            <td>CDS</td>\n",
       "            <td>yes</td>\n",
       "        </tr>\n",
       "        <tr>\n",
       "            <td>4</td>\n",
       "            <td>L:K2</td>\n",
       "            <td>&lt;--</td>\n",
       "            <td>380</td>\n",
       "            <td>402</td>\n",
       "            <td>22</td>\n",
       "            <td>misc_feature</td>\n",
       "            <td>no</td>\n",
       "        </tr>\n",
       "        <tr>\n",
       "            <td>5</td>\n",
       "            <td>L:TEF-promoter</td>\n",
       "            <td>&lt;--</td>\n",
       "            <td>1181</td>\n",
       "            <td>1560</td>\n",
       "            <td>379</td>\n",
       "            <td>promoter</td>\n",
       "            <td>no</td>\n",
       "        </tr>\n",
       "        <tr>\n",
       "            <td>6</td>\n",
       "            <td>L:K1-A</td>\n",
       "            <td>--&gt;</td>\n",
       "            <td>1430</td>\n",
       "            <td>1452</td>\n",
       "            <td>22</td>\n",
       "            <td>misc_feature</td>\n",
       "            <td>no</td>\n",
       "        </tr>\n",
       "        <tr>\n",
       "            <td>7</td>\n",
       "            <td>L:loxP(1)</td>\n",
       "            <td>&lt;--</td>\n",
       "            <td>1579</td>\n",
       "            <td>1613</td>\n",
       "            <td>34</td>\n",
       "            <td>primer_bind</td>\n",
       "            <td>no</td>\n",
       "        </tr>\n",
       "        <tr>\n",
       "            <td>8</td>\n",
       "            <td>L:TDH3 Promoter</td>\n",
       "            <td>--&gt;</td>\n",
       "            <td>1628</td>\n",
       "            <td>2303</td>\n",
       "            <td>675</td>\n",
       "            <td>promoter</td>\n",
       "            <td>no</td>\n",
       "        </tr>\n",
       "        <tr>\n",
       "            <td>9</td>\n",
       "            <td>L:tc-aptamer1</td>\n",
       "            <td>--&gt;</td>\n",
       "            <td>2308</td>\n",
       "            <td>2377</td>\n",
       "            <td>69</td>\n",
       "            <td>misc_signal</td>\n",
       "            <td>no</td>\n",
       "        </tr>\n",
       "        <tr>\n",
       "            <td>10</td>\n",
       "            <td>L:tc-aptamer2</td>\n",
       "            <td>--&gt;</td>\n",
       "            <td>2384</td>\n",
       "            <td>2453</td>\n",
       "            <td>69</td>\n",
       "            <td>misc_signal</td>\n",
       "            <td>no</td>\n",
       "        </tr>\n",
       "        <tr>\n",
       "            <td>11</td>\n",
       "            <td>L:tc-aptamer3</td>\n",
       "            <td>--&gt;</td>\n",
       "            <td>2486</td>\n",
       "            <td>2555</td>\n",
       "            <td>69</td>\n",
       "            <td>misc_signal</td>\n",
       "            <td>no</td>\n",
       "        </tr>\n",
       "        <tr>\n",
       "            <td>12</td>\n",
       "            <td>L:670_sc_acc1-Tc</td>\n",
       "            <td>&lt;--</td>\n",
       "            <td>2547</td>\n",
       "            <td>2568</td>\n",
       "            <td>21</td>\n",
       "            <td>primer_bind</td>\n",
       "            <td>no</td>\n",
       "        </tr>\n",
       "    </tbody>\n",
       "</table>"
      ],
      "text/markdown": [
       "| Ft# | Label or Note    | Dir | Sta  | End  | Len | type         | orf? |\n",
       "|----:|:-----------------|:---:|:-----|:-----|----:|:-------------|:----:|\n",
       "|   0 | L:671_sc_acc1-Tc | --> | 40   | 62   |  22 | primer_bind  |  no  |\n",
       "|   1 | L:loxP           | <-- | 72   | 106  |  34 | primer_bind  |  no  |\n",
       "|   2 | L:TEF-terminator | <-- | 131  | 371  | 240 | terminator   |  no  |\n",
       "|   3 | L:KanR           | <-- | 371  | 1181 | 810 | CDS          | yes  |\n",
       "|   4 | L:K2             | <-- | 380  | 402  |  22 | misc_feature |  no  |\n",
       "|   5 | L:TEF-promoter   | <-- | 1181 | 1560 | 379 | promoter     |  no  |\n",
       "|   6 | L:K1-A           | --> | 1430 | 1452 |  22 | misc_feature |  no  |\n",
       "|   7 | L:loxP(1)        | <-- | 1579 | 1613 |  34 | primer_bind  |  no  |\n",
       "|   8 | L:TDH3 Promoter  | --> | 1628 | 2303 | 675 | promoter     |  no  |\n",
       "|   9 | L:tc-aptamer1    | --> | 2308 | 2377 |  69 | misc_signal  |  no  |\n",
       "|  10 | L:tc-aptamer2    | --> | 2384 | 2453 |  69 | misc_signal  |  no  |\n",
       "|  11 | L:tc-aptamer3    | --> | 2486 | 2555 |  69 | misc_signal  |  no  |\n",
       "|  12 | L:670_sc_acc1-Tc | <-- | 2547 | 2568 |  21 | primer_bind  |  no  |"
      ],
      "text/plain": [
       "+-----+------------------+-----+------+------+-----+--------------+------+\n",
       "| Ft# | Label or Note    | Dir | Sta  | End  | Len | type         | orf? |\n",
       "+-----+------------------+-----+------+------+-----+--------------+------+\n",
       "|   0 | L:671_sc_acc1-Tc | --> | 40   | 62   |  22 | primer_bind  |  no  |\n",
       "|   1 | L:loxP           | <-- | 72   | 106  |  34 | primer_bind  |  no  |\n",
       "|   2 | L:TEF-terminator | <-- | 131  | 371  | 240 | terminator   |  no  |\n",
       "|   3 | L:KanR           | <-- | 371  | 1181 | 810 | CDS          | yes  |\n",
       "|   4 | L:K2             | <-- | 380  | 402  |  22 | misc_feature |  no  |\n",
       "|   5 | L:TEF-promoter   | <-- | 1181 | 1560 | 379 | promoter     |  no  |\n",
       "|   6 | L:K1-A           | --> | 1430 | 1452 |  22 | misc_feature |  no  |\n",
       "|   7 | L:loxP(1)        | <-- | 1579 | 1613 |  34 | primer_bind  |  no  |\n",
       "|   8 | L:TDH3 Promoter  | --> | 1628 | 2303 | 675 | promoter     |  no  |\n",
       "|   9 | L:tc-aptamer1    | --> | 2308 | 2377 |  69 | misc_signal  |  no  |\n",
       "|  10 | L:tc-aptamer2    | --> | 2384 | 2453 |  69 | misc_signal  |  no  |\n",
       "|  11 | L:tc-aptamer3    | --> | 2486 | 2555 |  69 | misc_signal  |  no  |\n",
       "|  12 | L:670_sc_acc1-Tc | <-- | 2547 | 2568 |  21 | primer_bind  |  no  |\n",
       "+-----+------------------+-----+------+------+-----+--------------+------+"
      ]
     },
     "execution_count": 11,
     "metadata": {},
     "output_type": "execute_result"
    }
   ],
   "source": [
    "promoter_cassette.list_features()"
   ]
  },
  {
   "cell_type": "code",
   "execution_count": 12,
   "metadata": {
    "execution": {
     "iopub.execute_input": "2021-12-18T09:48:54.729714Z",
     "iopub.status.busy": "2021-12-18T09:48:54.729070Z",
     "iopub.status.idle": "2021-12-18T09:48:54.730804Z",
     "shell.execute_reply": "2021-12-18T09:48:54.730424Z"
    }
   },
   "outputs": [],
   "source": [
    "# from pydna.genbank import genbank\n",
    "# ACC1_locus = genbank(\"JRIV01000180.1 REGION: complement(21406..30107)\")\n",
    "# ACC1_locus.write(\"ScACC1_locus.gb\")"
   ]
  },
  {
   "cell_type": "code",
   "execution_count": 13,
   "metadata": {
    "execution": {
     "iopub.execute_input": "2021-12-18T09:48:54.738119Z",
     "iopub.status.busy": "2021-12-18T09:48:54.737381Z",
     "iopub.status.idle": "2021-12-18T09:48:54.740756Z",
     "shell.execute_reply": "2021-12-18T09:48:54.740194Z"
    },
    "tags": []
   },
   "outputs": [
    {
     "data": {
      "text/html": [
       "<a href='ScACC1_locus.gb' target='_blank'>ScACC1_locus.gb</a><br>"
      ],
      "text/plain": [
       "File(JRIV01000180.1)(-8702)"
      ]
     },
     "execution_count": 13,
     "metadata": {},
     "output_type": "execute_result"
    }
   ],
   "source": [
    "ACC1_locus = read(\"ScACC1_locus.gb\")\n",
    "ACC1_locus"
   ]
  },
  {
   "cell_type": "code",
   "execution_count": 14,
   "metadata": {
    "execution": {
     "iopub.execute_input": "2021-12-18T09:48:54.744242Z",
     "iopub.status.busy": "2021-12-18T09:48:54.743521Z",
     "iopub.status.idle": "2021-12-18T09:48:54.746073Z",
     "shell.execute_reply": "2021-12-18T09:48:54.745643Z"
    }
   },
   "outputs": [],
   "source": [
    "# from pydna.editor import ape\n",
    "# ape(ACC1_locus)"
   ]
  },
  {
   "cell_type": "markdown",
   "metadata": {},
   "source": [
    "The ScACC1_locus contain the CDS of the ACC1 gene from S. cerevisiae CEN.PK and 1000 bp up and downstream.\n",
    "The ScACC1 orf is marked by a feature in the genbank file."
   ]
  },
  {
   "cell_type": "code",
   "execution_count": 15,
   "metadata": {
    "execution": {
     "iopub.execute_input": "2021-12-18T09:48:54.749841Z",
     "iopub.status.busy": "2021-12-18T09:48:54.749044Z",
     "iopub.status.idle": "2021-12-18T09:48:54.838336Z",
     "shell.execute_reply": "2021-12-18T09:48:54.837681Z"
    },
    "tags": []
   },
   "outputs": [],
   "source": [
    "from pydna.assembly import Assembly"
   ]
  },
  {
   "cell_type": "code",
   "execution_count": 16,
   "metadata": {
    "execution": {
     "iopub.execute_input": "2021-12-18T09:48:54.886668Z",
     "iopub.status.busy": "2021-12-18T09:48:54.855761Z",
     "iopub.status.idle": "2021-12-18T09:48:55.267313Z",
     "shell.execute_reply": "2021-12-18T09:48:55.266866Z"
    },
    "tags": []
   },
   "outputs": [
    {
     "data": {
      "text/plain": [
       "Assembly\n",
       "fragments..: 8702bp 2608bp 8702bp\n",
       "limit(bp)..: 25\n",
       "G.nodes....: 4\n",
       "algorithm..: common_sub_strings"
      ]
     },
     "execution_count": 16,
     "metadata": {},
     "output_type": "execute_result"
    }
   ],
   "source": [
    "asm = Assembly([ACC1_locus, promoter_cassette, ACC1_locus])\n",
    "asm"
   ]
  },
  {
   "cell_type": "code",
   "execution_count": 17,
   "metadata": {
    "execution": {
     "iopub.execute_input": "2021-12-18T09:48:55.273449Z",
     "iopub.status.busy": "2021-12-18T09:48:55.272993Z",
     "iopub.status.idle": "2021-12-18T09:48:55.274811Z",
     "shell.execute_reply": "2021-12-18T09:48:55.275266Z"
    },
    "tags": []
   },
   "outputs": [],
   "source": [
    "linear_products = asm.assemble_linear()"
   ]
  },
  {
   "cell_type": "code",
   "execution_count": 18,
   "metadata": {
    "execution": {
     "iopub.execute_input": "2021-12-18T09:48:55.279775Z",
     "iopub.status.busy": "2021-12-18T09:48:55.279117Z",
     "iopub.status.idle": "2021-12-18T09:48:55.281829Z",
     "shell.execute_reply": "2021-12-18T09:48:55.282323Z"
    },
    "tags": []
   },
   "outputs": [
    {
     "data": {
      "text/plain": [
       "[Contig(-11127), Contig(-11127)]"
      ]
     },
     "execution_count": 18,
     "metadata": {},
     "output_type": "execute_result"
    }
   ],
   "source": [
    "linear_products"
   ]
  },
  {
   "cell_type": "code",
   "execution_count": 19,
   "metadata": {
    "execution": {
     "iopub.execute_input": "2021-12-18T09:48:55.286575Z",
     "iopub.status.busy": "2021-12-18T09:48:55.285781Z",
     "iopub.status.idle": "2021-12-18T09:48:55.288427Z",
     "shell.execute_reply": "2021-12-18T09:48:55.287765Z"
    },
    "tags": []
   },
   "outputs": [],
   "source": [
    "candidate = linear_products[0]"
   ]
  },
  {
   "cell_type": "code",
   "execution_count": 20,
   "metadata": {
    "execution": {
     "iopub.execute_input": "2021-12-18T09:48:55.293188Z",
     "iopub.status.busy": "2021-12-18T09:48:55.292290Z",
     "iopub.status.idle": "2021-12-18T09:48:55.296927Z",
     "shell.execute_reply": "2021-12-18T09:48:55.296276Z"
    },
    "tags": []
   },
   "outputs": [
    {
     "data": {
      "text/plain": [
       "j7bI-_vnNXpcCGGIsDf6UA_gjiY"
      ]
     },
     "execution_count": 20,
     "metadata": {},
     "output_type": "execute_result"
    }
   ],
   "source": [
    "candidate.seguid()"
   ]
  },
  {
   "cell_type": "code",
   "execution_count": 21,
   "metadata": {
    "execution": {
     "iopub.execute_input": "2021-12-18T09:48:55.302017Z",
     "iopub.status.busy": "2021-12-18T09:48:55.301089Z",
     "iopub.status.idle": "2021-12-18T09:48:55.305071Z",
     "shell.execute_reply": "2021-12-18T09:48:55.304419Z"
    },
    "tags": []
   },
   "outputs": [
    {
     "data": {
      "text/plain": [
       "ScACC1_locus|40\n",
       "             \\/\n",
       "             /\\\n",
       "             40|promoter_cassette|43\n",
       "                                  \\/\n",
       "                                  /\\\n",
       "                                  43|ScACC1_locus"
      ]
     },
     "execution_count": 21,
     "metadata": {},
     "output_type": "execute_result"
    }
   ],
   "source": [
    "candidate.figure()"
   ]
  },
  {
   "cell_type": "code",
   "execution_count": 22,
   "metadata": {
    "execution": {
     "iopub.execute_input": "2021-12-18T09:48:55.309794Z",
     "iopub.status.busy": "2021-12-18T09:48:55.309081Z",
     "iopub.status.idle": "2021-12-18T09:48:55.311770Z",
     "shell.execute_reply": "2021-12-18T09:48:55.312333Z"
    },
    "tags": []
   },
   "outputs": [],
   "source": [
    "acc1_tet_promoter_locus = candidate"
   ]
  },
  {
   "cell_type": "code",
   "execution_count": 23,
   "metadata": {
    "execution": {
     "iopub.execute_input": "2021-12-18T09:48:55.316885Z",
     "iopub.status.busy": "2021-12-18T09:48:55.316295Z",
     "iopub.status.idle": "2021-12-18T09:48:55.320981Z",
     "shell.execute_reply": "2021-12-18T09:48:55.320454Z"
    }
   },
   "outputs": [
    {
     "data": {
      "text/plain": [
       "11127"
      ]
     },
     "execution_count": 23,
     "metadata": {},
     "output_type": "execute_result"
    }
   ],
   "source": [
    "len(acc1_tet_promoter_locus)"
   ]
  },
  {
   "cell_type": "code",
   "execution_count": 24,
   "metadata": {
    "execution": {
     "iopub.execute_input": "2021-12-18T09:48:55.326181Z",
     "iopub.status.busy": "2021-12-18T09:48:55.325380Z",
     "iopub.status.idle": "2021-12-18T09:48:55.328919Z",
     "shell.execute_reply": "2021-12-18T09:48:55.328408Z"
    }
   },
   "outputs": [
    {
     "data": {
      "text/plain": [
       "j7bI-_vnNXpcCGGIsDf6UA_gjiY"
      ]
     },
     "execution_count": 24,
     "metadata": {},
     "output_type": "execute_result"
    }
   ],
   "source": [
    "acc1_tet_promoter_locus.seguid()"
   ]
  },
  {
   "cell_type": "code",
   "execution_count": 25,
   "metadata": {
    "execution": {
     "iopub.execute_input": "2021-12-18T09:48:55.332737Z",
     "iopub.status.busy": "2021-12-18T09:48:55.332097Z",
     "iopub.status.idle": "2021-12-18T09:48:55.334778Z",
     "shell.execute_reply": "2021-12-18T09:48:55.334171Z"
    }
   },
   "outputs": [],
   "source": [
    "# from pydna.editor import ape\n",
    "# ape(candidate)"
   ]
  },
  {
   "cell_type": "code",
   "execution_count": 26,
   "metadata": {
    "execution": {
     "iopub.execute_input": "2021-12-18T09:48:55.339586Z",
     "iopub.status.busy": "2021-12-18T09:48:55.338590Z",
     "iopub.status.idle": "2021-12-18T09:48:55.353447Z",
     "shell.execute_reply": "2021-12-18T09:48:55.354148Z"
    },
    "tags": []
   },
   "outputs": [
    {
     "data": {
      "text/html": [
       "<font face=monospace><a href='acc1_tet_promoter_locus.gb' target='_blank'>acc1_tet_promoter_locus.gb</a></font><br>"
      ]
     },
     "metadata": {},
     "output_type": "display_data"
    }
   ],
   "source": [
    "acc1_tet_promoter_locus.write(\"acc1_tet_promoter_locus.gb\")"
   ]
  },
  {
   "cell_type": "code",
   "execution_count": 27,
   "metadata": {
    "execution": {
     "iopub.execute_input": "2021-12-18T09:48:55.374949Z",
     "iopub.status.busy": "2021-12-18T09:48:55.372942Z",
     "iopub.status.idle": "2021-12-18T09:48:55.378710Z",
     "shell.execute_reply": "2021-12-18T09:48:55.377871Z"
    },
    "tags": []
   },
   "outputs": [
    {
     "data": {
      "text/html": [
       "<table>\n",
       "    <thead>\n",
       "        <tr>\n",
       "            <th>Ft#</th>\n",
       "            <th>Label or Note</th>\n",
       "            <th>Dir</th>\n",
       "            <th>Sta</th>\n",
       "            <th>End</th>\n",
       "            <th>Len</th>\n",
       "            <th>type</th>\n",
       "            <th>orf?</th>\n",
       "        </tr>\n",
       "    </thead>\n",
       "    <tbody>\n",
       "        <tr>\n",
       "            <td>0</td>\n",
       "            <td>L:671_sc_acc1-Tc</td>\n",
       "            <td>--&gt;</td>\n",
       "            <td>900</td>\n",
       "            <td>922</td>\n",
       "            <td>22</td>\n",
       "            <td>primer_bind</td>\n",
       "            <td>no</td>\n",
       "        </tr>\n",
       "        <tr>\n",
       "            <td>1</td>\n",
       "            <td>L:loxP</td>\n",
       "            <td>&lt;--</td>\n",
       "            <td>932</td>\n",
       "            <td>966</td>\n",
       "            <td>34</td>\n",
       "            <td>primer_bind</td>\n",
       "            <td>no</td>\n",
       "        </tr>\n",
       "        <tr>\n",
       "            <td>2</td>\n",
       "            <td>L:TEF-terminator</td>\n",
       "            <td>&lt;--</td>\n",
       "            <td>991</td>\n",
       "            <td>1231</td>\n",
       "            <td>240</td>\n",
       "            <td>terminator</td>\n",
       "            <td>no</td>\n",
       "        </tr>\n",
       "        <tr>\n",
       "            <td>3</td>\n",
       "            <td>L:KanR</td>\n",
       "            <td>&lt;--</td>\n",
       "            <td>1231</td>\n",
       "            <td>2041</td>\n",
       "            <td>810</td>\n",
       "            <td>CDS</td>\n",
       "            <td>yes</td>\n",
       "        </tr>\n",
       "        <tr>\n",
       "            <td>4</td>\n",
       "            <td>L:K2</td>\n",
       "            <td>&lt;--</td>\n",
       "            <td>1240</td>\n",
       "            <td>1262</td>\n",
       "            <td>22</td>\n",
       "            <td>misc_feature</td>\n",
       "            <td>no</td>\n",
       "        </tr>\n",
       "        <tr>\n",
       "            <td>5</td>\n",
       "            <td>L:TEF-promoter</td>\n",
       "            <td>&lt;--</td>\n",
       "            <td>2041</td>\n",
       "            <td>2420</td>\n",
       "            <td>379</td>\n",
       "            <td>promoter</td>\n",
       "            <td>no</td>\n",
       "        </tr>\n",
       "        <tr>\n",
       "            <td>6</td>\n",
       "            <td>L:K1-A</td>\n",
       "            <td>--&gt;</td>\n",
       "            <td>2290</td>\n",
       "            <td>2312</td>\n",
       "            <td>22</td>\n",
       "            <td>misc_feature</td>\n",
       "            <td>no</td>\n",
       "        </tr>\n",
       "        <tr>\n",
       "            <td>7</td>\n",
       "            <td>L:loxP(1)</td>\n",
       "            <td>&lt;--</td>\n",
       "            <td>2439</td>\n",
       "            <td>2473</td>\n",
       "            <td>34</td>\n",
       "            <td>primer_bind</td>\n",
       "            <td>no</td>\n",
       "        </tr>\n",
       "        <tr>\n",
       "            <td>8</td>\n",
       "            <td>L:TDH3 Promoter</td>\n",
       "            <td>--&gt;</td>\n",
       "            <td>2488</td>\n",
       "            <td>3163</td>\n",
       "            <td>675</td>\n",
       "            <td>promoter</td>\n",
       "            <td>no</td>\n",
       "        </tr>\n",
       "        <tr>\n",
       "            <td>9</td>\n",
       "            <td>L:tc-aptamer1</td>\n",
       "            <td>--&gt;</td>\n",
       "            <td>3168</td>\n",
       "            <td>3237</td>\n",
       "            <td>69</td>\n",
       "            <td>misc_signal</td>\n",
       "            <td>no</td>\n",
       "        </tr>\n",
       "        <tr>\n",
       "            <td>10</td>\n",
       "            <td>L:tc-aptamer2</td>\n",
       "            <td>--&gt;</td>\n",
       "            <td>3244</td>\n",
       "            <td>3313</td>\n",
       "            <td>69</td>\n",
       "            <td>misc_signal</td>\n",
       "            <td>no</td>\n",
       "        </tr>\n",
       "        <tr>\n",
       "            <td>11</td>\n",
       "            <td>L:tc-aptamer3</td>\n",
       "            <td>--&gt;</td>\n",
       "            <td>3346</td>\n",
       "            <td>3415</td>\n",
       "            <td>69</td>\n",
       "            <td>misc_signal</td>\n",
       "            <td>no</td>\n",
       "        </tr>\n",
       "        <tr>\n",
       "            <td>12</td>\n",
       "            <td>L:670_sc_acc1-Tc</td>\n",
       "            <td>&lt;--</td>\n",
       "            <td>3407</td>\n",
       "            <td>3428</td>\n",
       "            <td>21</td>\n",
       "            <td>primer_bind</td>\n",
       "            <td>no</td>\n",
       "        </tr>\n",
       "        <tr>\n",
       "            <td>13</td>\n",
       "            <td>L:source:Sacchar</td>\n",
       "            <td>--&gt;</td>\n",
       "            <td>2425</td>\n",
       "            <td>11127</td>\n",
       "            <td>8702</td>\n",
       "            <td>source</td>\n",
       "            <td>no</td>\n",
       "        </tr>\n",
       "        <tr>\n",
       "            <td>14</td>\n",
       "            <td>L:ScACC1</td>\n",
       "            <td>--&gt;</td>\n",
       "            <td>3425</td>\n",
       "            <td>10127</td>\n",
       "            <td>6702</td>\n",
       "            <td>CDS</td>\n",
       "            <td>yes</td>\n",
       "        </tr>\n",
       "    </tbody>\n",
       "</table>"
      ],
      "text/markdown": [
       "| Ft# | Label or Note    | Dir | Sta  | End   |  Len | type         | orf? |\n",
       "|----:|:-----------------|:---:|:-----|:------|-----:|:-------------|:----:|\n",
       "|   0 | L:671_sc_acc1-Tc | --> | 900  | 922   |   22 | primer_bind  |  no  |\n",
       "|   1 | L:loxP           | <-- | 932  | 966   |   34 | primer_bind  |  no  |\n",
       "|   2 | L:TEF-terminator | <-- | 991  | 1231  |  240 | terminator   |  no  |\n",
       "|   3 | L:KanR           | <-- | 1231 | 2041  |  810 | CDS          | yes  |\n",
       "|   4 | L:K2             | <-- | 1240 | 1262  |   22 | misc_feature |  no  |\n",
       "|   5 | L:TEF-promoter   | <-- | 2041 | 2420  |  379 | promoter     |  no  |\n",
       "|   6 | L:K1-A           | --> | 2290 | 2312  |   22 | misc_feature |  no  |\n",
       "|   7 | L:loxP(1)        | <-- | 2439 | 2473  |   34 | primer_bind  |  no  |\n",
       "|   8 | L:TDH3 Promoter  | --> | 2488 | 3163  |  675 | promoter     |  no  |\n",
       "|   9 | L:tc-aptamer1    | --> | 3168 | 3237  |   69 | misc_signal  |  no  |\n",
       "|  10 | L:tc-aptamer2    | --> | 3244 | 3313  |   69 | misc_signal  |  no  |\n",
       "|  11 | L:tc-aptamer3    | --> | 3346 | 3415  |   69 | misc_signal  |  no  |\n",
       "|  12 | L:670_sc_acc1-Tc | <-- | 3407 | 3428  |   21 | primer_bind  |  no  |\n",
       "|  13 | L:source:Sacchar | --> | 2425 | 11127 | 8702 | source       |  no  |\n",
       "|  14 | L:ScACC1         | --> | 3425 | 10127 | 6702 | CDS          | yes  |"
      ],
      "text/plain": [
       "+-----+------------------+-----+------+-------+------+--------------+------+\n",
       "| Ft# | Label or Note    | Dir | Sta  | End   |  Len | type         | orf? |\n",
       "+-----+------------------+-----+------+-------+------+--------------+------+\n",
       "|   0 | L:671_sc_acc1-Tc | --> | 900  | 922   |   22 | primer_bind  |  no  |\n",
       "|   1 | L:loxP           | <-- | 932  | 966   |   34 | primer_bind  |  no  |\n",
       "|   2 | L:TEF-terminator | <-- | 991  | 1231  |  240 | terminator   |  no  |\n",
       "|   3 | L:KanR           | <-- | 1231 | 2041  |  810 | CDS          | yes  |\n",
       "|   4 | L:K2             | <-- | 1240 | 1262  |   22 | misc_feature |  no  |\n",
       "|   5 | L:TEF-promoter   | <-- | 2041 | 2420  |  379 | promoter     |  no  |\n",
       "|   6 | L:K1-A           | --> | 2290 | 2312  |   22 | misc_feature |  no  |\n",
       "|   7 | L:loxP(1)        | <-- | 2439 | 2473  |   34 | primer_bind  |  no  |\n",
       "|   8 | L:TDH3 Promoter  | --> | 2488 | 3163  |  675 | promoter     |  no  |\n",
       "|   9 | L:tc-aptamer1    | --> | 3168 | 3237  |   69 | misc_signal  |  no  |\n",
       "|  10 | L:tc-aptamer2    | --> | 3244 | 3313  |   69 | misc_signal  |  no  |\n",
       "|  11 | L:tc-aptamer3    | --> | 3346 | 3415  |   69 | misc_signal  |  no  |\n",
       "|  12 | L:670_sc_acc1-Tc | <-- | 3407 | 3428  |   21 | primer_bind  |  no  |\n",
       "|  13 | L:source:Sacchar | --> | 2425 | 11127 | 8702 | source       |  no  |\n",
       "|  14 | L:ScACC1         | --> | 3425 | 10127 | 6702 | CDS          | yes  |\n",
       "+-----+------------------+-----+------+-------+------+--------------+------+"
      ]
     },
     "execution_count": 27,
     "metadata": {},
     "output_type": "execute_result"
    }
   ],
   "source": [
    "acc1_tet_promoter_locus.list_features()"
   ]
  }
 ],
 "metadata": {
  "anaconda-cloud": {},
  "kernelspec": {
   "display_name": "Python [conda env:bjorn39]",
   "language": "python",
   "name": "conda-env-bjorn39-py"
  },
  "language_info": {
   "codemirror_mode": {
    "name": "ipython",
    "version": 3
   },
   "file_extension": ".py",
   "mimetype": "text/x-python",
   "name": "python",
   "nbconvert_exporter": "python",
   "pygments_lexer": "ipython3",
   "version": "3.9.7"
  }
 },
 "nbformat": 4,
 "nbformat_minor": 4
}
