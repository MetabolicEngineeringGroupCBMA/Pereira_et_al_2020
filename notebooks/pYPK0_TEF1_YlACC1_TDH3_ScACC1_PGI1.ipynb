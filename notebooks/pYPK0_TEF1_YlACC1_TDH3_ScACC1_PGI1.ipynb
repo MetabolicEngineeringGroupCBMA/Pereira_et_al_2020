{
 "cells": [
  {
   "cell_type": "markdown",
   "metadata": {},
   "source": [
    "## pYPK0_TEF1_YlACC1_TDH3_ScACC1_PGI1\n",
    "\n",
    "    TEF1_YlACC1_TDH3\n",
    "                TDH3_ScACC1_PGI1 \n",
    "\n",
    "This notebook describes the assembly of a double gene expression vector."
   ]
  },
  {
   "cell_type": "code",
   "execution_count": 1,
   "metadata": {
    "execution": {
     "iopub.execute_input": "2021-12-18T09:49:33.260158Z",
     "iopub.status.busy": "2021-12-18T09:49:33.259342Z",
     "iopub.status.idle": "2021-12-18T09:49:33.735021Z",
     "shell.execute_reply": "2021-12-18T09:49:33.735411Z"
    },
    "tags": []
   },
   "outputs": [],
   "source": [
    "from pydna.amplify import pcr\n",
    "from pydna.assembly import Assembly\n",
    "from pydna.genbank import Genbank\n",
    "\n",
    "from pydna.readers import read\n",
    "from pydna.parsers import parse_primers"
   ]
  },
  {
   "cell_type": "code",
   "execution_count": 2,
   "metadata": {
    "execution": {
     "iopub.execute_input": "2021-12-18T09:49:33.750276Z",
     "iopub.status.busy": "2021-12-18T09:49:33.749743Z",
     "iopub.status.idle": "2021-12-18T09:49:33.770087Z",
     "shell.execute_reply": "2021-12-18T09:49:33.769515Z"
    },
    "tags": []
   },
   "outputs": [],
   "source": [
    "pYPK0_TEF1_YlACC1_TDH3 = read(\"pYPK0_TEF1_YlACC1_TDH3.gb\")\n",
    "pYPK0_TDH3_ScACC1_PGI1 = read(\"pYPK0_TDH3_ScACC1_PGI1.gb\")"
   ]
  },
  {
   "cell_type": "code",
   "execution_count": 3,
   "metadata": {
    "execution": {
     "iopub.execute_input": "2021-12-18T09:49:33.773709Z",
     "iopub.status.busy": "2021-12-18T09:49:33.773246Z",
     "iopub.status.idle": "2021-12-18T09:49:33.776095Z",
     "shell.execute_reply": "2021-12-18T09:49:33.776923Z"
    }
   },
   "outputs": [],
   "source": [
    "pYPK0_TEF1_YlACC1_TDH3.name = \"\"\n",
    "pYPK0_TDH3_ScACC1_PGI1.name = \"\" "
   ]
  },
  {
   "cell_type": "code",
   "execution_count": 4,
   "metadata": {
    "execution": {
     "iopub.execute_input": "2021-12-18T09:49:33.785201Z",
     "iopub.status.busy": "2021-12-18T09:49:33.784390Z",
     "iopub.status.idle": "2021-12-18T09:49:33.787288Z",
     "shell.execute_reply": "2021-12-18T09:49:33.786694Z"
    },
    "tags": []
   },
   "outputs": [],
   "source": [
    "p = {}\n",
    "(p[577], p[779], p[780], p[623],\n",
    " p[1123], p[1259], p[1260], p[578]) = parse_primers('''\n",
    "\n",
    ">577_crp585-557 (29-mer)\n",
    "gttctgatcctcgagcatcttaagaattc\n",
    "\n",
    ">779_YlACC1_3445_rv (25-mer)\n",
    "ACAAAGCAGACGACATGGTAGGCAG\n",
    "\n",
    ">780_YlACC1_3305_fwd (25-mer)\n",
    "TCTTTGCCCACGATGATCCCTGGAT\n",
    "\n",
    ">623_ScTDH3tpr_PacI (33-mer)\n",
    "taattaaTTTGTTTGTTTATGTGTGTTTATTCG\n",
    "\n",
    ">1123_New775\n",
    "gtgcaatgcggccgctGAC\n",
    "\n",
    ">1259_ScACC1middleRV\n",
    "CCTTCGTGAACTCTAATATCTCC\n",
    "\n",
    ">1260_ScACC1middleFW\n",
    "GCTCAAGTCTATATTCGTCG\n",
    "\n",
    ">578_crp42-70 (29-mer)\n",
    "gttcttgtctcattgccacattcataagt\n",
    "\n",
    "''')"
   ]
  },
  {
   "cell_type": "code",
   "execution_count": 5,
   "metadata": {
    "execution": {
     "iopub.execute_input": "2021-12-18T09:49:33.801340Z",
     "iopub.status.busy": "2021-12-18T09:49:33.800630Z",
     "iopub.status.idle": "2021-12-18T09:49:33.808174Z",
     "shell.execute_reply": "2021-12-18T09:49:33.807688Z"
    },
    "tags": []
   },
   "outputs": [],
   "source": [
    "TEF1_YA = pcr(p[577], p[779], pYPK0_TEF1_YlACC1_TDH3)"
   ]
  },
  {
   "cell_type": "code",
   "execution_count": 6,
   "metadata": {
    "execution": {
     "iopub.execute_input": "2021-12-18T09:49:33.816136Z",
     "iopub.status.busy": "2021-12-18T09:49:33.815700Z",
     "iopub.status.idle": "2021-12-18T09:49:33.825629Z",
     "shell.execute_reply": "2021-12-18T09:49:33.826220Z"
    },
    "tags": []
   },
   "outputs": [],
   "source": [
    "YB_TDH3 = pcr(p[780], p[623], pYPK0_TEF1_YlACC1_TDH3)"
   ]
  },
  {
   "cell_type": "code",
   "execution_count": 7,
   "metadata": {
    "execution": {
     "iopub.execute_input": "2021-12-18T09:49:33.843594Z",
     "iopub.status.busy": "2021-12-18T09:49:33.843086Z",
     "iopub.status.idle": "2021-12-18T09:49:33.847173Z",
     "shell.execute_reply": "2021-12-18T09:49:33.846785Z"
    },
    "tags": []
   },
   "outputs": [],
   "source": [
    "TDH3_SA = pcr(p[1123], p[1259], pYPK0_TDH3_ScACC1_PGI1)"
   ]
  },
  {
   "cell_type": "code",
   "execution_count": 8,
   "metadata": {
    "execution": {
     "iopub.execute_input": "2021-12-18T09:49:33.864903Z",
     "iopub.status.busy": "2021-12-18T09:49:33.864332Z",
     "iopub.status.idle": "2021-12-18T09:49:33.866116Z",
     "shell.execute_reply": "2021-12-18T09:49:33.866517Z"
    },
    "tags": []
   },
   "outputs": [],
   "source": [
    "SB_PGI1 = pcr(p[1260], p[578], pYPK0_TDH3_ScACC1_PGI1)"
   ]
  },
  {
   "cell_type": "code",
   "execution_count": 9,
   "metadata": {
    "execution": {
     "iopub.execute_input": "2021-12-18T09:49:33.869536Z",
     "iopub.status.busy": "2021-12-18T09:49:33.869064Z",
     "iopub.status.idle": "2021-12-18T09:49:33.874224Z",
     "shell.execute_reply": "2021-12-18T09:49:33.874700Z"
    },
    "tags": []
   },
   "outputs": [],
   "source": [
    "pYPKpw = read(\"pYPKpw.gb\")"
   ]
  },
  {
   "cell_type": "code",
   "execution_count": 10,
   "metadata": {
    "execution": {
     "iopub.execute_input": "2021-12-18T09:49:33.889846Z",
     "iopub.status.busy": "2021-12-18T09:49:33.889204Z",
     "iopub.status.idle": "2021-12-18T09:49:33.892198Z",
     "shell.execute_reply": "2021-12-18T09:49:33.891827Z"
    }
   },
   "outputs": [
    {
     "data": {
      "text/plain": [
       "WeyovdMmqwA4bc9EqEwUDmbo3Lg"
      ]
     },
     "execution_count": 10,
     "metadata": {},
     "output_type": "execute_result"
    }
   ],
   "source": [
    "pYPKpw.cseguid()"
   ]
  },
  {
   "cell_type": "code",
   "execution_count": 11,
   "metadata": {
    "execution": {
     "iopub.execute_input": "2021-12-18T09:49:33.895978Z",
     "iopub.status.busy": "2021-12-18T09:49:33.895392Z",
     "iopub.status.idle": "2021-12-18T09:49:33.898902Z",
     "shell.execute_reply": "2021-12-18T09:49:33.899357Z"
    },
    "tags": []
   },
   "outputs": [],
   "source": [
    "from Bio.Restriction import EcoRV"
   ]
  },
  {
   "cell_type": "code",
   "execution_count": 12,
   "metadata": {
    "execution": {
     "iopub.execute_input": "2021-12-18T09:49:33.906189Z",
     "iopub.status.busy": "2021-12-18T09:49:33.905505Z",
     "iopub.status.idle": "2021-12-18T09:49:33.907807Z",
     "shell.execute_reply": "2021-12-18T09:49:33.908294Z"
    },
    "tags": []
   },
   "outputs": [],
   "source": [
    "pYPK_EcoRV = pYPKpw.linearize(EcoRV)"
   ]
  },
  {
   "cell_type": "code",
   "execution_count": 13,
   "metadata": {
    "execution": {
     "iopub.execute_input": "2021-12-18T09:49:33.941539Z",
     "iopub.status.busy": "2021-12-18T09:49:33.916352Z",
     "iopub.status.idle": "2021-12-18T09:49:35.660103Z",
     "shell.execute_reply": "2021-12-18T09:49:35.659636Z"
    },
    "tags": []
   },
   "outputs": [
    {
     "data": {
      "text/plain": [
       "Assembly\n",
       "fragments..: 5603bp 4746bp 4238bp 4151bp 4738bp\n",
       "limit(bp)..: 65\n",
       "G.nodes....: 10\n",
       "algorithm..: common_sub_strings"
      ]
     },
     "execution_count": 13,
     "metadata": {},
     "output_type": "execute_result"
    }
   ],
   "source": [
    "asm1 = Assembly( (pYPK_EcoRV, TEF1_YA, YB_TDH3, TDH3_SA, SB_PGI1), limit=65)\n",
    "asm1"
   ]
  },
  {
   "cell_type": "code",
   "execution_count": 14,
   "metadata": {
    "execution": {
     "iopub.execute_input": "2021-12-18T09:49:35.663451Z",
     "iopub.status.busy": "2021-12-18T09:49:35.662953Z",
     "iopub.status.idle": "2021-12-18T09:49:35.859328Z",
     "shell.execute_reply": "2021-12-18T09:49:35.858835Z"
    },
    "tags": []
   },
   "outputs": [
    {
     "data": {
      "text/plain": [
       "[Contig(o22130), Contig(o22130)]"
      ]
     },
     "execution_count": 14,
     "metadata": {},
     "output_type": "execute_result"
    }
   ],
   "source": [
    "candidates1 = asm1.assemble_circular()\n",
    "candidates1"
   ]
  },
  {
   "cell_type": "code",
   "execution_count": 15,
   "metadata": {
    "execution": {
     "iopub.execute_input": "2021-12-18T09:49:35.862772Z",
     "iopub.status.busy": "2021-12-18T09:49:35.862262Z",
     "iopub.status.idle": "2021-12-18T09:49:35.863919Z",
     "shell.execute_reply": "2021-12-18T09:49:35.864280Z"
    },
    "tags": []
   },
   "outputs": [],
   "source": [
    "candidate1 = candidates1[0]"
   ]
  },
  {
   "cell_type": "code",
   "execution_count": 16,
   "metadata": {
    "execution": {
     "iopub.execute_input": "2021-12-18T09:49:35.890999Z",
     "iopub.status.busy": "2021-12-18T09:49:35.886983Z",
     "iopub.status.idle": "2021-12-18T09:49:35.893455Z",
     "shell.execute_reply": "2021-12-18T09:49:35.893830Z"
    }
   },
   "outputs": [
    {
     "data": {
      "text/plain": [
       "1JrJ4dUQ7SZFEc4grdFX-rBwgKU"
      ]
     },
     "execution_count": 16,
     "metadata": {},
     "output_type": "execute_result"
    }
   ],
   "source": [
    "candidate1.cseguid()"
   ]
  },
  {
   "cell_type": "code",
   "execution_count": 17,
   "metadata": {
    "execution": {
     "iopub.execute_input": "2021-12-18T09:49:35.897645Z",
     "iopub.status.busy": "2021-12-18T09:49:35.897139Z",
     "iopub.status.idle": "2021-12-18T09:49:35.899682Z",
     "shell.execute_reply": "2021-12-18T09:49:35.900277Z"
    },
    "tags": []
   },
   "outputs": [
    {
     "data": {
      "text/html": [
       "<pre> -|pYPKpw_lin|124\n",
       "|             \\/\n",
       "|             /\\\n",
       "|             124|4746bp_PCR_prod|165\n",
       "|                                 \\/\n",
       "|                                 /\\\n",
       "|                                 165|4238bp_PCR_prod|712\n",
       "|                                                     \\/\n",
       "|                                                     /\\\n",
       "|                                                     712|4151bp_PCR_prod|65\n",
       "|                                                                         \\/\n",
       "|                                                                         /\\\n",
       "|                                                                         65|4738bp_PCR_prod|242\n",
       "|                                                                                            \\/\n",
       "|                                                                                            /\\\n",
       "|                                                                                            242-\n",
       "|                                                                                               |\n",
       " -----------------------------------------------------------------------------------------------</pre>"
      ],
      "text/plain": [
       "Contig(o22130)"
      ]
     },
     "execution_count": 17,
     "metadata": {},
     "output_type": "execute_result"
    }
   ],
   "source": [
    "candidate1"
   ]
  },
  {
   "cell_type": "code",
   "execution_count": 18,
   "metadata": {
    "execution": {
     "iopub.execute_input": "2021-12-18T09:49:35.920815Z",
     "iopub.status.busy": "2021-12-18T09:49:35.912622Z",
     "iopub.status.idle": "2021-12-18T09:49:35.924202Z",
     "shell.execute_reply": "2021-12-18T09:49:35.923706Z"
    },
    "tags": []
   },
   "outputs": [
    {
     "data": {
      "text/plain": [
       "1JrJ4dUQ7SZFEc4grdFX-rBwgKU"
      ]
     },
     "execution_count": 18,
     "metadata": {},
     "output_type": "execute_result"
    }
   ],
   "source": [
    "candidate1.cseguid()"
   ]
  },
  {
   "cell_type": "code",
   "execution_count": 19,
   "metadata": {
    "execution": {
     "iopub.execute_input": "2021-12-18T09:49:35.989148Z",
     "iopub.status.busy": "2021-12-18T09:49:35.953364Z",
     "iopub.status.idle": "2021-12-18T09:49:37.050096Z",
     "shell.execute_reply": "2021-12-18T09:49:37.050577Z"
    },
    "tags": []
   },
   "outputs": [],
   "source": [
    "pYPK0_TEF1_YlACC1_TDH3_ScACC1_PGI1 = candidate1.synced(pYPKpw)"
   ]
  },
  {
   "cell_type": "code",
   "execution_count": 20,
   "metadata": {
    "execution": {
     "iopub.execute_input": "2021-12-18T09:49:37.072030Z",
     "iopub.status.busy": "2021-12-18T09:49:37.071571Z",
     "iopub.status.idle": "2021-12-18T09:49:37.074379Z",
     "shell.execute_reply": "2021-12-18T09:49:37.074722Z"
    },
    "tags": []
   },
   "outputs": [
    {
     "data": {
      "text/plain": [
       "1JrJ4dUQ7SZFEc4grdFX-rBwgKU"
      ]
     },
     "execution_count": 20,
     "metadata": {},
     "output_type": "execute_result"
    }
   ],
   "source": [
    "pYPK0_TEF1_YlACC1_TDH3_ScACC1_PGI1.cseguid()"
   ]
  },
  {
   "cell_type": "code",
   "execution_count": 21,
   "metadata": {
    "execution": {
     "iopub.execute_input": "2021-12-18T09:49:37.095106Z",
     "iopub.status.busy": "2021-12-18T09:49:37.094581Z",
     "iopub.status.idle": "2021-12-18T09:49:37.096847Z",
     "shell.execute_reply": "2021-12-18T09:49:37.097356Z"
    },
    "tags": []
   },
   "outputs": [],
   "source": [
    "assert pYPK0_TEF1_YlACC1_TDH3_ScACC1_PGI1.cseguid() == \"1JrJ4dUQ7SZFEc4grdFX-rBwgKU\""
   ]
  },
  {
   "cell_type": "code",
   "execution_count": 22,
   "metadata": {
    "execution": {
     "iopub.execute_input": "2021-12-18T09:49:37.100878Z",
     "iopub.status.busy": "2021-12-18T09:49:37.100420Z",
     "iopub.status.idle": "2021-12-18T09:49:37.102235Z",
     "shell.execute_reply": "2021-12-18T09:49:37.102863Z"
    },
    "tags": []
   },
   "outputs": [],
   "source": [
    "pYPK0_TEF1_YlACC1_TDH3_ScACC1_PGI1.definition = \"pYPK0_TEF1_YlACC1_TDH3_ScACC1_PGI1\""
   ]
  },
  {
   "cell_type": "code",
   "execution_count": 23,
   "metadata": {
    "execution": {
     "iopub.execute_input": "2021-12-18T09:49:37.115810Z",
     "iopub.status.busy": "2021-12-18T09:49:37.110633Z",
     "iopub.status.idle": "2021-12-18T09:49:37.128166Z",
     "shell.execute_reply": "2021-12-18T09:49:37.128551Z"
    },
    "tags": []
   },
   "outputs": [
    {
     "data": {
      "text/plain": [
       "cSEGUID_1JrJ4dUQ7SZFEc4grdFX-rBwgKU"
      ]
     },
     "execution_count": 23,
     "metadata": {},
     "output_type": "execute_result"
    }
   ],
   "source": [
    "pYPK0_TEF1_YlACC1_TDH3_ScACC1_PGI1.stamp()"
   ]
  },
  {
   "cell_type": "code",
   "execution_count": 24,
   "metadata": {
    "execution": {
     "iopub.execute_input": "2021-12-18T09:49:37.132525Z",
     "iopub.status.busy": "2021-12-18T09:49:37.131857Z",
     "iopub.status.idle": "2021-12-18T09:49:37.134573Z",
     "shell.execute_reply": "2021-12-18T09:49:37.134004Z"
    },
    "tags": []
   },
   "outputs": [],
   "source": [
    "pYPK0_TEF1_YlACC1_TDH3_ScACC1_PGI1.name = \"π40\" "
   ]
  },
  {
   "cell_type": "code",
   "execution_count": 25,
   "metadata": {
    "execution": {
     "iopub.execute_input": "2021-12-18T09:49:37.138872Z",
     "iopub.status.busy": "2021-12-18T09:49:37.138230Z",
     "iopub.status.idle": "2021-12-18T09:49:37.163652Z",
     "shell.execute_reply": "2021-12-18T09:49:37.164013Z"
    },
    "tags": []
   },
   "outputs": [
    {
     "data": {
      "text/html": [
       "<font face=monospace><a href='pYPK0_TEF1_YlACC1_TDH3_ScACC1_PGI1.gb' target='_blank'>pYPK0_TEF1_YlACC1_TDH3_ScACC1_PGI1.gb</a></font><br>"
      ]
     },
     "metadata": {},
     "output_type": "display_data"
    }
   ],
   "source": [
    "pYPK0_TEF1_YlACC1_TDH3_ScACC1_PGI1.write(\"pYPK0_TEF1_YlACC1_TDH3_ScACC1_PGI1.gb\")"
   ]
  }
 ],
 "metadata": {
  "anaconda-cloud": {},
  "kernelspec": {
   "display_name": "Python [conda env:bjorn39]",
   "language": "python",
   "name": "conda-env-bjorn39-py"
  },
  "language_info": {
   "codemirror_mode": {
    "name": "ipython",
    "version": 3
   },
   "file_extension": ".py",
   "mimetype": "text/x-python",
   "name": "python",
   "nbconvert_exporter": "python",
   "pygments_lexer": "ipython3",
   "version": "3.9.7"
  }
 },
 "nbformat": 4,
 "nbformat_minor": 4
}
