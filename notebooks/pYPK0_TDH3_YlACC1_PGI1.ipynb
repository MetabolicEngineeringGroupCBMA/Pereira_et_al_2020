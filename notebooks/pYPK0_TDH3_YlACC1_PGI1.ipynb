{
 "cells": [
  {
   "cell_type": "markdown",
   "id": "9b789687-9b9e-4320-a85f-ce8db6aa92ba",
   "metadata": {},
   "source": [
    "# pYPK0_TDH3_YlACC1_PGI1\n",
    "This notebook describes the assembly of a single gene expression vector."
   ]
  },
  {
   "cell_type": "code",
   "execution_count": 1,
   "id": "b4ed2959-338c-4b8a-8e02-7ba3575d03c8",
   "metadata": {
    "execution": {
     "iopub.execute_input": "2021-12-18T09:49:13.663563Z",
     "iopub.status.busy": "2021-12-18T09:49:13.663078Z",
     "iopub.status.idle": "2021-12-18T09:49:14.048823Z",
     "shell.execute_reply": "2021-12-18T09:49:14.049250Z"
    }
   },
   "outputs": [],
   "source": [
    "from pydna.amplify import pcr\n",
    "from pydna.assembly import Assembly\n",
    "from pydna.genbank import Genbank\n",
    "\n",
    "from pydna.readers import read\n",
    "from pydna.parsers import parse_primers"
   ]
  },
  {
   "cell_type": "markdown",
   "id": "c86f0af9-aea1-45a7-8040-66a2101c95bc",
   "metadata": {},
   "source": [
    "The backbone vector is linearized by digestion with [EcoRV](http://rebase.neb.com/rebase/enz/EcoRV.html).\n",
    "The restriction enzyme is provided by [biopython](http://biopython.org)."
   ]
  },
  {
   "cell_type": "code",
   "execution_count": 2,
   "id": "0d2c13c0",
   "metadata": {
    "execution": {
     "iopub.execute_input": "2021-12-18T09:49:14.056691Z",
     "iopub.status.busy": "2021-12-18T09:49:14.055821Z",
     "iopub.status.idle": "2021-12-18T09:49:14.072155Z",
     "shell.execute_reply": "2021-12-18T09:49:14.071582Z"
    },
    "lines_to_next_cell": 2
   },
   "outputs": [],
   "source": [
    "pYPKpw = read(\"pYPKpw.gb\")"
   ]
  },
  {
   "cell_type": "code",
   "execution_count": 3,
   "id": "3c24f5d4",
   "metadata": {
    "execution": {
     "iopub.execute_input": "2021-12-18T09:49:14.081083Z",
     "iopub.status.busy": "2021-12-18T09:49:14.079926Z",
     "iopub.status.idle": "2021-12-18T09:49:14.090303Z",
     "shell.execute_reply": "2021-12-18T09:49:14.090690Z"
    },
    "lines_to_next_cell": 2
   },
   "outputs": [
    {
     "data": {
      "text/plain": [
       "WeyovdMmqwA4bc9EqEwUDmbo3Lg"
      ]
     },
     "execution_count": 3,
     "metadata": {},
     "output_type": "execute_result"
    }
   ],
   "source": [
    "pYPKpw.cseguid()"
   ]
  },
  {
   "cell_type": "code",
   "execution_count": 4,
   "id": "53866fa2",
   "metadata": {
    "execution": {
     "iopub.execute_input": "2021-12-18T09:49:14.094593Z",
     "iopub.status.busy": "2021-12-18T09:49:14.093958Z",
     "iopub.status.idle": "2021-12-18T09:49:14.097233Z",
     "shell.execute_reply": "2021-12-18T09:49:14.096620Z"
    },
    "lines_to_next_cell": 2
   },
   "outputs": [
    {
     "data": {
      "text/plain": [
       "5603"
      ]
     },
     "execution_count": 4,
     "metadata": {},
     "output_type": "execute_result"
    }
   ],
   "source": [
    "len(pYPKpw)"
   ]
  },
  {
   "cell_type": "code",
   "execution_count": 5,
   "id": "439a506b",
   "metadata": {
    "execution": {
     "iopub.execute_input": "2021-12-18T09:49:14.101830Z",
     "iopub.status.busy": "2021-12-18T09:49:14.101122Z",
     "iopub.status.idle": "2021-12-18T09:49:14.103148Z",
     "shell.execute_reply": "2021-12-18T09:49:14.103625Z"
    },
    "lines_to_next_cell": 2
   },
   "outputs": [],
   "source": [
    "from Bio.Restriction import EcoRV"
   ]
  },
  {
   "cell_type": "code",
   "execution_count": 6,
   "id": "f5e7c112",
   "metadata": {
    "execution": {
     "iopub.execute_input": "2021-12-18T09:49:14.112238Z",
     "iopub.status.busy": "2021-12-18T09:49:14.111488Z",
     "iopub.status.idle": "2021-12-18T09:49:14.114952Z",
     "shell.execute_reply": "2021-12-18T09:49:14.114304Z"
    },
    "lines_to_next_cell": 2
   },
   "outputs": [],
   "source": [
    "pYPK_EcoRV = pYPKpw.linearize(EcoRV)"
   ]
  },
  {
   "cell_type": "code",
   "execution_count": 7,
   "id": "44fef2c2-912f-4874-a45b-f01280a7e61e",
   "metadata": {
    "execution": {
     "iopub.execute_input": "2021-12-18T09:49:14.119473Z",
     "iopub.status.busy": "2021-12-18T09:49:14.118650Z",
     "iopub.status.idle": "2021-12-18T09:49:14.121716Z",
     "shell.execute_reply": "2021-12-18T09:49:14.122344Z"
    }
   },
   "outputs": [
    {
     "data": {
      "text/plain": [
       "Dseqrecord(-5603)"
      ]
     },
     "execution_count": 7,
     "metadata": {},
     "output_type": "execute_result"
    }
   ],
   "source": [
    "pYPK_EcoRV"
   ]
  },
  {
   "cell_type": "markdown",
   "id": "00edecda-4bc4-4969-b802-919b85beb624",
   "metadata": {},
   "source": [
    "The pYPKa derived _E. coli_ plasmids containing the [promoter](pYPKa_Z_TDH3tp.gb) and [terminator](pYPKa_E_PGI1tp.gb) \n",
    "as well as the [gene template](GAL2.gb) sequence are read into three variables in the code cell below."
   ]
  },
  {
   "cell_type": "code",
   "execution_count": 8,
   "id": "0cd3de17",
   "metadata": {
    "execution": {
     "iopub.execute_input": "2021-12-18T09:49:14.130975Z",
     "iopub.status.busy": "2021-12-18T09:49:14.129782Z",
     "iopub.status.idle": "2021-12-18T09:49:14.132890Z",
     "shell.execute_reply": "2021-12-18T09:49:14.132212Z"
    },
    "lines_to_next_cell": 2
   },
   "outputs": [],
   "source": [
    "promoter_template = read(\"pYPKa_Z_TDH3.gb\")"
   ]
  },
  {
   "cell_type": "code",
   "execution_count": 9,
   "id": "4ca40afd",
   "metadata": {
    "execution": {
     "iopub.execute_input": "2021-12-18T09:49:14.149395Z",
     "iopub.status.busy": "2021-12-18T09:49:14.144291Z",
     "iopub.status.idle": "2021-12-18T09:49:14.154049Z",
     "shell.execute_reply": "2021-12-18T09:49:14.153332Z"
    },
    "lines_to_next_cell": 2
   },
   "outputs": [],
   "source": [
    "gene_template = read(\"pYPK0_TEF1_YlACC1_TDH3.gb\")"
   ]
  },
  {
   "cell_type": "code",
   "execution_count": 10,
   "id": "a8e9c521-ca02-42c6-9010-4cbe3ff2d745",
   "metadata": {
    "execution": {
     "iopub.execute_input": "2021-12-18T09:49:14.162902Z",
     "iopub.status.busy": "2021-12-18T09:49:14.162231Z",
     "iopub.status.idle": "2021-12-18T09:49:14.167359Z",
     "shell.execute_reply": "2021-12-18T09:49:14.167958Z"
    }
   },
   "outputs": [],
   "source": [
    "terminator_template = read(\"pYPKa_E_PGI1.gb\")"
   ]
  },
  {
   "cell_type": "markdown",
   "id": "a54278e3-744d-416c-adaa-0444dfe35719",
   "metadata": {},
   "source": [
    "The construction of the pYPKa_Z_TDH3 and the pYPKa_E_PGI1 vectors above are described in the notebooks available here:\n",
    "\n",
    "- [pYPKa_Z_TDH3](https://github.com/MetabolicEngineeringGroupCBMA/pYPKa_ZE/blob/master/notebooks/pYPKa_ZE_TDH3.ipynb) \n",
    "- [pYPKa_E_PGI1](https://github.com/MetabolicEngineeringGroupCBMA/ypk-xylose-pathways/blob/master/notebooks/pYPKa_E_PGI1.ipynb)\n",
    " \n",
    "Suggested PCR program can be found at the end of this document.\n",
    " \n",
    "The promoter is amplified with primers 577 and 567 from the standard primer set:"
   ]
  },
  {
   "cell_type": "code",
   "execution_count": 11,
   "id": "c75fed9f",
   "metadata": {
    "execution": {
     "iopub.execute_input": "2021-12-18T09:49:14.175921Z",
     "iopub.status.busy": "2021-12-18T09:49:14.174912Z",
     "iopub.status.idle": "2021-12-18T09:49:14.177409Z",
     "shell.execute_reply": "2021-12-18T09:49:14.178064Z"
    },
    "lines_to_next_cell": 2
   },
   "outputs": [],
   "source": [
    "p = {}\n",
    "p[577], p[567], p[468], p[779], p[780], p[467], p[568], p[578] = parse_primers('''\n",
    "\n",
    ">577_crp585-557 (29-mer)\n",
    "gttctgatcctcgagcatcttaagaattc\n",
    "\n",
    ">567_pCAPsAjiIF (23-mer)\n",
    "GTCggctgcaggtcactagtgag\n",
    "\n",
    ">468_pCAPs_release_fw (25-mer) 79.66 same as 560\n",
    "gtcgaggaacgccaggttgcccact\n",
    "\n",
    ">779_YlACC1_3445_rv (25-mer)\n",
    "ACAAAGCAGACGACATGGTAGGCAG\n",
    "\n",
    ">780_YlACC1_3305_fwd (25-mer)\n",
    "TCTTTGCCCACGATGATCCCTGGAT\n",
    "\n",
    ">467_pCAPs_release_re (31-mer)\n",
    "ATTTAAatcctgatgcgtttgtctgcacaga\n",
    "\n",
    ">568_pCAPsAjiIR (22-mer)\n",
    "GTGCcatctgtgcagacaaacg\n",
    "\n",
    ">578_crp42-70 (29-mer)\n",
    "gttcttgtctcattgccacattcataagt\n",
    "\n",
    "''')"
   ]
  },
  {
   "cell_type": "code",
   "execution_count": 12,
   "id": "3a866fcd",
   "metadata": {
    "execution": {
     "iopub.execute_input": "2021-12-18T09:49:14.187183Z",
     "iopub.status.busy": "2021-12-18T09:49:14.186053Z",
     "iopub.status.idle": "2021-12-18T09:49:14.193919Z",
     "shell.execute_reply": "2021-12-18T09:49:14.193258Z"
    },
    "lines_to_next_cell": 2
   },
   "outputs": [],
   "source": [
    "promoter = pcr(p[577], p[567], promoter_template)"
   ]
  },
  {
   "cell_type": "code",
   "execution_count": 13,
   "id": "dfe4dcfc",
   "metadata": {
    "execution": {
     "iopub.execute_input": "2021-12-18T09:49:14.210750Z",
     "iopub.status.busy": "2021-12-18T09:49:14.210239Z",
     "iopub.status.idle": "2021-12-18T09:49:14.211910Z",
     "shell.execute_reply": "2021-12-18T09:49:14.212291Z"
    },
    "lines_to_next_cell": 2
   },
   "outputs": [],
   "source": [
    "gene_a = pcr(p[468], p[779], gene_template)"
   ]
  },
  {
   "cell_type": "code",
   "execution_count": 14,
   "id": "7faabaee",
   "metadata": {
    "execution": {
     "iopub.execute_input": "2021-12-18T09:49:14.227373Z",
     "iopub.status.busy": "2021-12-18T09:49:14.225205Z",
     "iopub.status.idle": "2021-12-18T09:49:14.229264Z",
     "shell.execute_reply": "2021-12-18T09:49:14.229629Z"
    },
    "lines_to_next_cell": 2
   },
   "outputs": [],
   "source": [
    "gene_b = pcr(p[780], p[467], gene_template)"
   ]
  },
  {
   "cell_type": "code",
   "execution_count": 15,
   "id": "2eef924b",
   "metadata": {
    "execution": {
     "iopub.execute_input": "2021-12-18T09:49:14.241036Z",
     "iopub.status.busy": "2021-12-18T09:49:14.240255Z",
     "iopub.status.idle": "2021-12-18T09:49:14.242898Z",
     "shell.execute_reply": "2021-12-18T09:49:14.242412Z"
    },
    "lines_to_next_cell": 2
   },
   "outputs": [],
   "source": [
    "terminator = pcr(p[568], p[578], terminator_template)"
   ]
  },
  {
   "cell_type": "code",
   "execution_count": 16,
   "id": "c1bdfcd8-0955-445e-b294-8fd3c713adb0",
   "metadata": {
    "execution": {
     "iopub.execute_input": "2021-12-18T09:49:14.246645Z",
     "iopub.status.busy": "2021-12-18T09:49:14.246023Z",
     "iopub.status.idle": "2021-12-18T09:49:14.247615Z",
     "shell.execute_reply": "2021-12-18T09:49:14.247983Z"
    }
   },
   "outputs": [],
   "source": [
    "promoter.name = \"TDH3p\"\n",
    "gene_a.name = \"YlACC1_a\"\n",
    "gene_b.name = \"YlACC1_b\"\n",
    "terminator.name = \"PGI1t\""
   ]
  },
  {
   "cell_type": "markdown",
   "id": "babbe4f7-7a25-41df-a57d-4a50a949e84d",
   "metadata": {},
   "source": [
    "The four linear DNA fragments are mixed and transformed\n",
    "to a _Saccharomyces cerevisiae_ ura3 mutant.\n",
    "\n",
    "The fragments assemble by _in-vivo_ [homologous recombination](http://www.ncbi.nlm.nih.gov/pubmed/2828185):"
   ]
  },
  {
   "cell_type": "code",
   "execution_count": 17,
   "id": "f8c5cf36",
   "metadata": {
    "execution": {
     "iopub.execute_input": "2021-12-18T09:49:14.271391Z",
     "iopub.status.busy": "2021-12-18T09:49:14.266241Z",
     "iopub.status.idle": "2021-12-18T09:49:15.408100Z",
     "shell.execute_reply": "2021-12-18T09:49:15.407690Z"
    },
    "lines_to_next_cell": 2
   },
   "outputs": [
    {
     "data": {
      "text/plain": [
       "Assembly\n",
       "fragments..: 5603bp 930bp 3985bp 3532bp 1339bp\n",
       "limit(bp)..: 27\n",
       "G.nodes....: 10\n",
       "algorithm..: common_sub_strings"
      ]
     },
     "execution_count": 17,
     "metadata": {},
     "output_type": "execute_result"
    }
   ],
   "source": [
    "asm1 = Assembly( (pYPK_EcoRV, promoter, gene_a, gene_b, terminator), limit=27 )\n",
    "asm1"
   ]
  },
  {
   "cell_type": "code",
   "execution_count": 18,
   "id": "8700b180",
   "metadata": {
    "execution": {
     "iopub.execute_input": "2021-12-18T09:49:15.411911Z",
     "iopub.status.busy": "2021-12-18T09:49:15.411406Z",
     "iopub.status.idle": "2021-12-18T09:49:15.615935Z",
     "shell.execute_reply": "2021-12-18T09:49:15.616372Z"
    },
    "lines_to_next_cell": 2
   },
   "outputs": [
    {
     "data": {
      "text/plain": [
       "[Contig(o14752), Contig(o14752)]"
      ]
     },
     "execution_count": 18,
     "metadata": {},
     "output_type": "execute_result"
    }
   ],
   "source": [
    "candidates1 = asm1.assemble_circular()\n",
    "candidates1"
   ]
  },
  {
   "cell_type": "code",
   "execution_count": 19,
   "id": "53038608",
   "metadata": {
    "execution": {
     "iopub.execute_input": "2021-12-18T09:49:15.619909Z",
     "iopub.status.busy": "2021-12-18T09:49:15.619421Z",
     "iopub.status.idle": "2021-12-18T09:49:15.621587Z",
     "shell.execute_reply": "2021-12-18T09:49:15.622206Z"
    },
    "lines_to_next_cell": 2
   },
   "outputs": [],
   "source": [
    "candidate1 = candidates1[0]"
   ]
  },
  {
   "cell_type": "code",
   "execution_count": 20,
   "id": "c1f2eaef",
   "metadata": {
    "execution": {
     "iopub.execute_input": "2021-12-18T09:49:15.628309Z",
     "iopub.status.busy": "2021-12-18T09:49:15.627241Z",
     "iopub.status.idle": "2021-12-18T09:49:15.632428Z",
     "shell.execute_reply": "2021-12-18T09:49:15.631545Z"
    },
    "lines_to_next_cell": 2
   },
   "outputs": [
    {
     "data": {
      "text/html": [
       "<pre> -|pYPKpw_lin|124\n",
       "|             \\/\n",
       "|             /\\\n",
       "|             124|TDH3p|47\n",
       "|                       \\/\n",
       "|                       /\\\n",
       "|                       47|YlACC1_a|165\n",
       "|                                   \\/\n",
       "|                                   /\\\n",
       "|                                   165|YlACC1_b|33\n",
       "|                                                \\/\n",
       "|                                                /\\\n",
       "|                                                33|PGI1t|242\n",
       "|                                                         \\/\n",
       "|                                                         /\\\n",
       "|                                                         242-\n",
       "|                                                            |\n",
       " ------------------------------------------------------------</pre>"
      ],
      "text/plain": [
       "Contig(o14752)"
      ]
     },
     "execution_count": 20,
     "metadata": {},
     "output_type": "execute_result"
    }
   ],
   "source": [
    "candidate1"
   ]
  },
  {
   "cell_type": "code",
   "execution_count": 21,
   "id": "5e97db78",
   "metadata": {
    "execution": {
     "iopub.execute_input": "2021-12-18T09:49:15.651327Z",
     "iopub.status.busy": "2021-12-18T09:49:15.640422Z",
     "iopub.status.idle": "2021-12-18T09:49:15.655089Z",
     "shell.execute_reply": "2021-12-18T09:49:15.655641Z"
    },
    "lines_to_next_cell": 2
   },
   "outputs": [
    {
     "data": {
      "text/plain": [
       "nXI64sq14-pze17tmB7j5CwD8Ww"
      ]
     },
     "execution_count": 21,
     "metadata": {},
     "output_type": "execute_result"
    }
   ],
   "source": [
    "candidate1.cseguid()"
   ]
  },
  {
   "cell_type": "code",
   "execution_count": 22,
   "id": "222d1652",
   "metadata": {
    "execution": {
     "iopub.execute_input": "2021-12-18T09:49:15.726125Z",
     "iopub.status.busy": "2021-12-18T09:49:15.690461Z",
     "iopub.status.idle": "2021-12-18T09:49:16.446820Z",
     "shell.execute_reply": "2021-12-18T09:49:16.447564Z"
    },
    "lines_to_next_cell": 2
   },
   "outputs": [],
   "source": [
    "pYPK0_TDH3_YlACC1_PGI1 = candidate1.synced(pYPKpw)"
   ]
  },
  {
   "cell_type": "code",
   "execution_count": 23,
   "id": "fa5a4003",
   "metadata": {
    "execution": {
     "iopub.execute_input": "2021-12-18T09:49:16.463855Z",
     "iopub.status.busy": "2021-12-18T09:49:16.461136Z",
     "iopub.status.idle": "2021-12-18T09:49:16.465145Z",
     "shell.execute_reply": "2021-12-18T09:49:16.465637Z"
    },
    "lines_to_next_cell": 2
   },
   "outputs": [],
   "source": [
    "assert pYPK0_TDH3_YlACC1_PGI1.cseguid() == \"nXI64sq14-pze17tmB7j5CwD8Ww\""
   ]
  },
  {
   "cell_type": "code",
   "execution_count": 24,
   "id": "f79d5b66",
   "metadata": {
    "execution": {
     "iopub.execute_input": "2021-12-18T09:49:16.481939Z",
     "iopub.status.busy": "2021-12-18T09:49:16.481241Z",
     "iopub.status.idle": "2021-12-18T09:49:16.484244Z",
     "shell.execute_reply": "2021-12-18T09:49:16.483681Z"
    },
    "lines_to_next_cell": 2
   },
   "outputs": [
    {
     "data": {
      "text/plain": [
       "cSEGUID_nXI64sq14-pze17tmB7j5CwD8Ww"
      ]
     },
     "execution_count": 24,
     "metadata": {},
     "output_type": "execute_result"
    }
   ],
   "source": [
    "pYPK0_TDH3_YlACC1_PGI1.stamp()"
   ]
  },
  {
   "cell_type": "code",
   "execution_count": 25,
   "id": "f2aec176",
   "metadata": {
    "execution": {
     "iopub.execute_input": "2021-12-18T09:49:16.488191Z",
     "iopub.status.busy": "2021-12-18T09:49:16.487513Z",
     "iopub.status.idle": "2021-12-18T09:49:16.489264Z",
     "shell.execute_reply": "2021-12-18T09:49:16.489749Z"
    },
    "lines_to_next_cell": 2
   },
   "outputs": [],
   "source": [
    "pYPK0_TDH3_YlACC1_PGI1.name = \"pYPK0_TDH3_YlACC1_PGI1\""
   ]
  },
  {
   "cell_type": "code",
   "execution_count": 26,
   "id": "6b01eff2",
   "metadata": {
    "execution": {
     "iopub.execute_input": "2021-12-18T09:49:16.494625Z",
     "iopub.status.busy": "2021-12-18T09:49:16.493592Z",
     "iopub.status.idle": "2021-12-18T09:49:16.506357Z",
     "shell.execute_reply": "2021-12-18T09:49:16.506790Z"
    },
    "lines_to_next_cell": 2,
    "tags": []
   },
   "outputs": [
    {
     "data": {
      "text/html": [
       "<font face=monospace><a href='pYPK0_TDH3_YlACC1_PGI1.gb' target='_blank'>pYPK0_TDH3_YlACC1_PGI1.gb</a></font><br>"
      ]
     },
     "metadata": {},
     "output_type": "display_data"
    }
   ],
   "source": [
    "pYPK0_TDH3_YlACC1_PGI1.write(\"pYPK0_TDH3_YlACC1_PGI1.gb\")"
   ]
  }
 ],
 "metadata": {
  "jupytext": {
   "cell_metadata_filter": "-all",
   "encoding": "# coding: utf-8",
   "executable": "/usr/bin/env python",
   "main_language": "python",
   "notebook_metadata_filter": "-all"
  },
  "kernelspec": {
   "display_name": "Python [conda env:bjorn39]",
   "language": "python",
   "name": "conda-env-bjorn39-py"
  },
  "language_info": {
   "codemirror_mode": {
    "name": "ipython",
    "version": 3
   },
   "file_extension": ".py",
   "mimetype": "text/x-python",
   "name": "python",
   "nbconvert_exporter": "python",
   "pygments_lexer": "ipython3",
   "version": "3.9.7"
  }
 },
 "nbformat": 4,
 "nbformat_minor": 5
}
